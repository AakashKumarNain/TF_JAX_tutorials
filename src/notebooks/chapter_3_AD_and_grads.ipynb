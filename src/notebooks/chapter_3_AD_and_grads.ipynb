{
 "cells": [
  {
   "cell_type": "markdown",
   "id": "professional-talent",
   "metadata": {
    "papermill": {
     "duration": 0.024863,
     "end_time": "2021-06-23T12:56:02.304093",
     "exception": false,
     "start_time": "2021-06-23T12:56:02.279230",
     "status": "completed"
    },
    "tags": []
   },
   "source": [
    "\n",
    "\n",
    "<img src=\"https://i.ytimg.com/vi/yjprpOoH5c8/maxresdefault.jpg\" width=\"300\" height=\"300\" align=\"center\"/>\n",
    "\n",
    "Welcome to another TensorFlow/JAX tutorial. This is the third tutorial in this series. If you haven't looked at the previous tutorials,\n",
    "I would highly recommend checking them out.\n",
    "\n",
    "1. [TF-JAX Tutorials - Part 1](https://www.kaggle.com/aakashnain/tf-jax-tutorials-part1)\n",
    "2. [TF-JAX Tutorials - Part 2](https://www.kaggle.com/aakashnain/tf-jax-tutorials-part2)\n",
    "\n",
    "\n",
    "Today we will be taking a deep dive into a very important topic: **`Gradients`**\n",
    "\n",
    "`Automatic Differentiation` and `Gradients` are so important concepts that they deserve a few dedicated chapters. Understanding every bit of it isn't necessary but the more you dive into it, the more you will appreciate the beauty of it. I am planning to do an `advanced` tutorial on these topics if there is enough interest from the readers. Do let me know in the comments section what you think"
   ]
  },
  {
   "cell_type": "code",
   "execution_count": 1,
   "id": "senior-necessity",
   "metadata": {
    "_cell_guid": "b1076dfc-b9ad-4769-8c92-a6c4dae69d19",
    "_uuid": "8f2839f25d086af736a60e9eeb907d3b93b6e0e5",
    "execution": {
     "iopub.execute_input": "2021-06-23T12:56:02.355410Z",
     "iopub.status.busy": "2021-06-23T12:56:02.354150Z",
     "iopub.status.idle": "2021-06-23T12:56:09.340380Z",
     "shell.execute_reply": "2021-06-23T12:56:09.341113Z",
     "shell.execute_reply.started": "2021-06-23T12:22:54.487817Z"
    },
    "papermill": {
     "duration": 7.013733,
     "end_time": "2021-06-23T12:56:09.341414",
     "exception": false,
     "start_time": "2021-06-23T12:56:02.327681",
     "status": "completed"
    },
    "scrolled": true,
    "tags": []
   },
   "outputs": [],
   "source": [
    "import numpy as np\n",
    "import tensorflow as tf\n",
    "from tensorflow import keras\n",
    "from tensorflow.keras import layers\n",
    "\n",
    "seed=1234\n",
    "np.random.seed(seed)\n",
    "tf.random.set_seed(seed)\n",
    "%config IPCompleter.use_jedi = False"
   ]
  },
  {
   "cell_type": "markdown",
   "id": "reserved-tuition",
   "metadata": {
    "papermill": {
     "duration": 0.022836,
     "end_time": "2021-06-23T12:56:09.387640",
     "exception": false,
     "start_time": "2021-06-23T12:56:09.364804",
     "status": "completed"
    },
    "tags": []
   },
   "source": [
    "## Automatic Differentiation and Gradients\n",
    "\n",
    "Let's say you apply a sequence of operations on an input in a *forward* pass. To differentiate automatically, you need some sort of mechanism to \n",
    "figure out:\n",
    "1. What operations were applied in the forward pass?\n",
    "2. What was the order in which the operations were applied?\n",
    "\n",
    "For autodiff, you need to remember the above two. Different frameworks can implement the same idea in different ways but the fundamentals remain the same.\n",
    "\n",
    "\n",
    "### Gradients in TensorFlow\n",
    "\n",
    "TensorFlow provides the `tf.GradientTape` API for automatic differentiation. Any relevant operation executed inside the context of `GradientTape` gets recorded for gradients computation. To compute gradients, you need to do the following:\n",
    "\n",
    "1. Record operations inside the `tf.GradientTape` context\n",
    "2. Compute the gradients using `GradientTape.gradient(target, sources)`\n",
    "\n",
    "Let's code up a few examples for this."
   ]
  },
  {
   "cell_type": "code",
   "execution_count": 2,
   "id": "sapphire-pricing",
   "metadata": {
    "execution": {
     "iopub.execute_input": "2021-06-23T12:56:09.437189Z",
     "iopub.status.busy": "2021-06-23T12:56:09.436509Z",
     "iopub.status.idle": "2021-06-23T12:56:09.480237Z",
     "shell.execute_reply": "2021-06-23T12:56:09.480717Z",
     "shell.execute_reply.started": "2021-06-23T12:23:01.702834Z"
    },
    "papermill": {
     "duration": 0.070041,
     "end_time": "2021-06-23T12:56:09.480898",
     "exception": false,
     "start_time": "2021-06-23T12:56:09.410857",
     "status": "completed"
    },
    "tags": []
   },
   "outputs": [
    {
     "name": "stdout",
     "output_type": "stream",
     "text": [
      "Variable x: <tf.Variable 'Variable:0' shape=() dtype=float32, numpy=3.0>\n",
      "Is x trainable?: True\n",
      "\n",
      "Variable y: <tf.Variable 'Variable:0' shape=() dtype=float32, numpy=4.0>\n",
      "Is y trainable?: True\n"
     ]
    }
   ],
   "source": [
    "# We will initialize a few Variables here\n",
    "\n",
    "x = tf.Variable(3.0)\n",
    "y = tf.Variable(4.0)\n",
    "\n",
    "print(f\"Variable x: {x}\")\n",
    "print(f\"Is x trainable?: {x.trainable}\")\n",
    "print(f\"\\nVariable y: {y}\")\n",
    "print(f\"Is y trainable?: {y.trainable}\")"
   ]
  },
  {
   "cell_type": "markdown",
   "id": "considerable-priest",
   "metadata": {
    "papermill": {
     "duration": 0.023459,
     "end_time": "2021-06-23T12:56:09.529035",
     "exception": false,
     "start_time": "2021-06-23T12:56:09.505576",
     "status": "completed"
    },
    "tags": []
   },
   "source": [
    "We will do a simple operation here: **`z = x * y`**. And we will calculate the gradients of `z` wrt `x` and `y` . We are taking a simple example so that the readers can easily verify that things are working as expected. We will work on complex examples in a bit"
   ]
  },
  {
   "cell_type": "code",
   "execution_count": 3,
   "id": "equipped-minute",
   "metadata": {
    "execution": {
     "iopub.execute_input": "2021-06-23T12:56:09.581305Z",
     "iopub.status.busy": "2021-06-23T12:56:09.580623Z",
     "iopub.status.idle": "2021-06-23T12:56:09.599819Z",
     "shell.execute_reply": "2021-06-23T12:56:09.600311Z",
     "shell.execute_reply.started": "2021-06-23T12:23:01.746694Z"
    },
    "papermill": {
     "duration": 0.046613,
     "end_time": "2021-06-23T12:56:09.600507",
     "exception": false,
     "start_time": "2021-06-23T12:56:09.553894",
     "status": "completed"
    },
    "tags": []
   },
   "outputs": [
    {
     "name": "stdout",
     "output_type": "stream",
     "text": [
      "Input Variable x: 3.0\n",
      "Input Variable y: 4.0\n",
      "Output z: 12.0\n",
      "\n",
      "Gradient of z wrt x: 4.0\n",
      "Gradient of z wrt y: 3.0\n"
     ]
    }
   ],
   "source": [
    "# Remember we need to execute the operations inside the context\n",
    "# of GradientTape so that we can record them\n",
    "\n",
    "with tf.GradientTape() as tape:\n",
    "    z = x * y\n",
    "    \n",
    "dx, dy = tape.gradient(z, [x, y])\n",
    "\n",
    "print(f\"Input Variable x: {x.numpy()}\")\n",
    "print(f\"Input Variable y: {y.numpy()}\")\n",
    "print(f\"Output z: {z}\\n\")\n",
    "\n",
    "# dz / dx\n",
    "print(f\"Gradient of z wrt x: {dx}\")\n",
    "\n",
    "# dz / dy\n",
    "print(f\"Gradient of z wrt y: {dy}\")"
   ]
  },
  {
   "cell_type": "markdown",
   "id": "helpful-cincinnati",
   "metadata": {
    "papermill": {
     "duration": 0.023593,
     "end_time": "2021-06-23T12:56:09.649136",
     "exception": false,
     "start_time": "2021-06-23T12:56:09.625543",
     "status": "completed"
    },
    "tags": []
   },
   "source": [
    "Easy enough! Similarly, you can calculate gradients of many many variables wrt to some computation say `loss` by just passing all the trainable variables involved in that computation in a nested way (can be a list or dictionary for example). The returned gradients will follow the same nested structure in which the inputs are passed to the tape.\n",
    "\n",
    "What happens if we calculate the gradients in the above code wrt x and y separately?"
   ]
  },
  {
   "cell_type": "code",
   "execution_count": 4,
   "id": "exterior-huntington",
   "metadata": {
    "execution": {
     "iopub.execute_input": "2021-06-23T12:56:09.703957Z",
     "iopub.status.busy": "2021-06-23T12:56:09.703080Z",
     "iopub.status.idle": "2021-06-23T12:56:09.708458Z",
     "shell.execute_reply": "2021-06-23T12:56:09.707908Z",
     "shell.execute_reply.started": "2021-06-23T12:23:01.771587Z"
    },
    "papermill": {
     "duration": 0.035416,
     "end_time": "2021-06-23T12:56:09.708617",
     "exception": false,
     "start_time": "2021-06-23T12:56:09.673201",
     "status": "completed"
    },
    "tags": []
   },
   "outputs": [
    {
     "name": "stdout",
     "output_type": "stream",
     "text": [
      "ERROR! ERROR! ERROR!\n",
      "\n",
      "RuntimeError A non-persistent GradientTape can only be used tocompute one set of gradients (or jacobians)\n"
     ]
    }
   ],
   "source": [
    "with tf.GradientTape() as tape:\n",
    "    z = x * y\n",
    "\n",
    "try:\n",
    "    dx = tape.gradient(z, x)\n",
    "    dy = tape.gradient(z, y)\n",
    "\n",
    "    print(f\"Gradient of z wrt x: {dx}\")\n",
    "    print(f\"Gradient of z wrt y: {dy}\")\n",
    "except Exception as ex:\n",
    "    print(\"ERROR! ERROR! ERROR!\\n\")\n",
    "    print(type(ex).__name__, ex)"
   ]
  },
  {
   "cell_type": "markdown",
   "id": "union-junior",
   "metadata": {
    "papermill": {
     "duration": 0.024545,
     "end_time": "2021-06-23T12:56:09.757673",
     "exception": false,
     "start_time": "2021-06-23T12:56:09.733128",
     "status": "completed"
    },
    "tags": []
   },
   "source": [
    "**What just happened?**<br>\n",
    "As soon as the `GradientTape.gradient(...)` is called, all the resources held by a `GradientTape` are released. So, if you computed the `gradient` once, then you won't be able to call it again.\n",
    "\n",
    "**What's the solution then?**<br>\n",
    "The solution is to use set the `persistent` argument to `True`. This allows multiple calls to the gradient() method as resources are released when the tape object is garbage collected. Let's try the above example again"
   ]
  },
  {
   "cell_type": "code",
   "execution_count": 5,
   "id": "irish-grant",
   "metadata": {
    "execution": {
     "iopub.execute_input": "2021-06-23T12:56:09.814072Z",
     "iopub.status.busy": "2021-06-23T12:56:09.813343Z",
     "iopub.status.idle": "2021-06-23T12:56:09.820590Z",
     "shell.execute_reply": "2021-06-23T12:56:09.821151Z",
     "shell.execute_reply.started": "2021-06-23T12:23:01.781636Z"
    },
    "papermill": {
     "duration": 0.03792,
     "end_time": "2021-06-23T12:56:09.821325",
     "exception": false,
     "start_time": "2021-06-23T12:56:09.783405",
     "status": "completed"
    },
    "tags": []
   },
   "outputs": [
    {
     "name": "stdout",
     "output_type": "stream",
     "text": [
      "Gradient of z wrt x: 4.0\n",
      "Gradient of z wrt y: 3.0\n"
     ]
    }
   ],
   "source": [
    "# Set the persistent argument\n",
    "with tf.GradientTape(persistent=True) as tape:\n",
    "    z = x * y\n",
    "\n",
    "try:\n",
    "    dx = tape.gradient(z, x)\n",
    "    dy = tape.gradient(z, y)\n",
    "\n",
    "    print(f\"Gradient of z wrt x: {dx}\")\n",
    "    print(f\"Gradient of z wrt y: {dy}\")\n",
    "except Exception as ex:\n",
    "    print(\"ERROR! ERROR! ERROR!\\n\")\n",
    "    print(type(ex).__name__, ex)"
   ]
  },
  {
   "cell_type": "code",
   "execution_count": 6,
   "id": "turkish-pulse",
   "metadata": {
    "execution": {
     "iopub.execute_input": "2021-06-23T12:56:09.881227Z",
     "iopub.status.busy": "2021-06-23T12:56:09.877913Z",
     "iopub.status.idle": "2021-06-23T12:56:09.885296Z",
     "shell.execute_reply": "2021-06-23T12:56:09.884784Z",
     "shell.execute_reply.started": "2021-06-23T12:23:01.799065Z"
    },
    "papermill": {
     "duration": 0.039441,
     "end_time": "2021-06-23T12:56:09.885462",
     "exception": false,
     "start_time": "2021-06-23T12:56:09.846021",
     "status": "completed"
    },
    "tags": []
   },
   "outputs": [
    {
     "name": "stdout",
     "output_type": "stream",
     "text": [
      "Variable x: <tf.Variable 'Variable:0' shape=() dtype=float32, numpy=3.0>\n",
      "Is x trainable?: True\n",
      "\n",
      "Variable y: <tf.Variable 'Variable:0' shape=() dtype=float32, numpy=4.0>\n",
      "Is y trainable?: False\n",
      "\n",
      "Gradient of z wrt x: 4.0\n",
      "Gradient of z wrt y: None\n"
     ]
    }
   ],
   "source": [
    "# What if one of the Variables is non-trainable?\n",
    "# Let's make y non-trainable in the above example and run\n",
    "# the computation again\n",
    "\n",
    "x = tf.Variable(3.0)\n",
    "y = tf.Variable(4.0, trainable=False)\n",
    "\n",
    "with tf.GradientTape() as tape:\n",
    "    z = x * y\n",
    "    \n",
    "dx, dy = tape.gradient(z, [x, y])\n",
    "\n",
    "print(f\"Variable x: {x}\")\n",
    "print(f\"Is x trainable?: {x.trainable}\")\n",
    "print(f\"\\nVariable y: {y}\")\n",
    "print(f\"Is y trainable?: {y.trainable}\\n\")\n",
    "\n",
    "print(f\"Gradient of z wrt x: {dx}\")\n",
    "print(f\"Gradient of z wrt y: {dy}\")"
   ]
  },
  {
   "cell_type": "markdown",
   "id": "stuck-swaziland",
   "metadata": {
    "papermill": {
     "duration": 0.025434,
     "end_time": "2021-06-23T12:56:09.936333",
     "exception": false,
     "start_time": "2021-06-23T12:56:09.910899",
     "status": "completed"
    },
    "tags": []
   },
   "source": [
    "**Note:** An important point to remember is that you should never mix the `topology` of the `dtypes` for AD and computing the graidents. When I say `topology`, I mean don't mix `float`, `int`, `string` types. In fact, you can't take a gradient for any op that has a dtype of `int` or `string`. Let us take an example to make this clear"
   ]
  },
  {
   "cell_type": "code",
   "execution_count": 7,
   "id": "shaped-trademark",
   "metadata": {
    "execution": {
     "iopub.execute_input": "2021-06-23T12:56:09.994482Z",
     "iopub.status.busy": "2021-06-23T12:56:09.993817Z",
     "iopub.status.idle": "2021-06-23T12:56:10.007508Z",
     "shell.execute_reply": "2021-06-23T12:56:10.006792Z",
     "shell.execute_reply.started": "2021-06-23T12:23:01.818085Z"
    },
    "papermill": {
     "duration": 0.045729,
     "end_time": "2021-06-23T12:56:10.007655",
     "exception": false,
     "start_time": "2021-06-23T12:56:09.961926",
     "status": "completed"
    },
    "tags": []
   },
   "outputs": [
    {
     "name": "stdout",
     "output_type": "stream",
     "text": [
      "Input Variable x: <tf.Variable 'Variable:0' shape=() dtype=float32, numpy=3.0>\n",
      "Input Variable y: <tf.Variable 'Variable:0' shape=() dtype=int32, numpy=4>\n",
      "Output z: 12.0\n",
      "\n",
      "Gradient of z wrt x: 4.0\n",
      "Gradient of z wrt y: None\n"
     ]
    }
   ],
   "source": [
    "# Note the dtypes\n",
    "\n",
    "x = tf.Variable(3.0, dtype=tf.float32)\n",
    "y = tf.Variable(4, dtype=tf.int32)\n",
    "\n",
    "with tf.GradientTape() as tape:\n",
    "    z = x * tf.cast(y, x.dtype)\n",
    "    \n",
    "dx, dy = tape.gradient(z, [x, y])\n",
    "\n",
    "print(f\"Input Variable x: {x}\")\n",
    "print(f\"Input Variable y: {y}\")\n",
    "print(f\"Output z: {z}\\n\")\n",
    "\n",
    "print(f\"Gradient of z wrt x: {dx}\")\n",
    "print(f\"Gradient of z wrt y: {dy}\")"
   ]
  },
  {
   "cell_type": "code",
   "execution_count": 8,
   "id": "appointed-review",
   "metadata": {
    "execution": {
     "iopub.execute_input": "2021-06-23T12:56:10.067781Z",
     "iopub.status.busy": "2021-06-23T12:56:10.065365Z",
     "iopub.status.idle": "2021-06-23T12:56:10.073917Z",
     "shell.execute_reply": "2021-06-23T12:56:10.073266Z",
     "shell.execute_reply.started": "2021-06-23T12:23:01.842893Z"
    },
    "papermill": {
     "duration": 0.040845,
     "end_time": "2021-06-23T12:56:10.074055",
     "exception": false,
     "start_time": "2021-06-23T12:56:10.033210",
     "status": "completed"
    },
    "tags": []
   },
   "outputs": [
    {
     "name": "stdout",
     "output_type": "stream",
     "text": [
      "Input Variable x: <tf.Variable 'Variable:0' shape=() dtype=int32, numpy=3>\n",
      "Input Variable y: <tf.Variable 'Variable:0' shape=() dtype=int32, numpy=4>\n",
      "Output z: 12\n",
      "\n",
      "Gradient of z wrt x: None\n",
      "Gradient of z wrt y: None\n"
     ]
    }
   ],
   "source": [
    "# There is no gradient flow defined for int and string types\n",
    "\n",
    "x = tf.Variable(3, dtype=tf.int32)\n",
    "y = tf.Variable(4, dtype=tf.int32)\n",
    "\n",
    "with tf.GradientTape() as tape:\n",
    "    z = x * y\n",
    "    \n",
    "dx, dy = tape.gradient(z, [x, y])\n",
    "\n",
    "print(f\"Input Variable x: {x}\")\n",
    "print(f\"Input Variable y: {y}\")\n",
    "print(f\"Output z: {z}\\n\")\n",
    "\n",
    "print(f\"Gradient of z wrt x: {dx}\")\n",
    "print(f\"Gradient of z wrt y: {dy}\")"
   ]
  },
  {
   "cell_type": "markdown",
   "id": "cloudy-grocery",
   "metadata": {
    "papermill": {
     "duration": 0.025306,
     "end_time": "2021-06-23T12:56:10.126392",
     "exception": false,
     "start_time": "2021-06-23T12:56:10.101086",
     "status": "completed"
    },
    "tags": []
   },
   "source": [
    "You would say that your code is correct, which in some sense is, but you will get `None` as the gradient value for the variables where the data types of the source and the target are different. Before we move to a very important concept, let's summarize all the things we have learned so far:\n",
    "\n",
    "1. `tf.GradientTape` is the API for doing AD in TensorFlow\n",
    "2. For computing gradients using Tape, we need:\n",
    "   * Record the relevant operations inside the context of Tape\n",
    "   * Compute the gradients by calling the `GradientTape.gradient(...)` method\n",
    "3. If you wish to call the `gradient(...)` method multiple times, make sure to set the `persistent` argument to `GradientTape`\n",
    "4. If any `non-trainable` variable is involved in the computation, then the gradient wrt to that variable would be `None`\n",
    "5. Mixing `dtype` topology is a blunder. Your code will run but will fail silently!\n",
    "\n",
    "\n",
    "### Fine-gain control\n",
    "\n",
    "A few questions that comes to mind naturally after seeing the above examples:\n",
    "\n",
    "1. How to access all the objects that are being watched?\n",
    "2. How to stop the flow of a gradient through a specific Variable/path?\n",
    "3. What if you don't want to watch all the variables inside the `GradientTape` context?\n",
    "4. What if you want to watch something that isn't inside the context?\n",
    "\n",
    "We will take a few examples for each of the above case to understand it in a better way.\n",
    "\n",
    "#### 1. Accessing all the watched objects"
   ]
  },
  {
   "cell_type": "code",
   "execution_count": 9,
   "id": "driving-suicide",
   "metadata": {
    "execution": {
     "iopub.execute_input": "2021-06-23T12:56:10.186526Z",
     "iopub.status.busy": "2021-06-23T12:56:10.185793Z",
     "iopub.status.idle": "2021-06-23T12:56:10.199150Z",
     "shell.execute_reply": "2021-06-23T12:56:10.200253Z",
     "shell.execute_reply.started": "2021-06-23T12:23:01.860584Z"
    },
    "papermill": {
     "duration": 0.048123,
     "end_time": "2021-06-23T12:56:10.200455",
     "exception": false,
     "start_time": "2021-06-23T12:56:10.152332",
     "status": "completed"
    },
    "tags": []
   },
   "outputs": [
    {
     "name": "stdout",
     "output_type": "stream",
     "text": [
      "Tape is watching all of these:\n",
      "x:0 and it's value is 3.0\n",
      "y:0 and it's value is 4.0\n"
     ]
    }
   ],
   "source": [
    "x = tf.Variable(3.0, name=\"x\")\n",
    "y = tf.Variable(4.0, name=\"y\")\n",
    "t = tf.Variable(tf.random.normal(shape=(2, 2)), name=\"t\")\n",
    "\n",
    "with tf.GradientTape() as tape:\n",
    "    z = x * y\n",
    "\n",
    "print(\"Tape is watching all of these:\")\n",
    "for var in tape.watched_variables():\n",
    "    print(f\"{var.name} and it's value is {var.numpy()}\")"
   ]
  },
  {
   "cell_type": "markdown",
   "id": "electronic-danish",
   "metadata": {
    "papermill": {
     "duration": 0.025683,
     "end_time": "2021-06-23T12:56:10.251999",
     "exception": false,
     "start_time": "2021-06-23T12:56:10.226316",
     "status": "completed"
    },
    "tags": []
   },
   "source": [
    "#### 2. Stopping the gradients"
   ]
  },
  {
   "cell_type": "code",
   "execution_count": 10,
   "id": "seven-childhood",
   "metadata": {
    "execution": {
     "iopub.execute_input": "2021-06-23T12:56:10.313419Z",
     "iopub.status.busy": "2021-06-23T12:56:10.312643Z",
     "iopub.status.idle": "2021-06-23T12:56:10.320034Z",
     "shell.execute_reply": "2021-06-23T12:56:10.320602Z",
     "shell.execute_reply.started": "2021-06-23T12:23:01.887930Z"
    },
    "papermill": {
     "duration": 0.041918,
     "end_time": "2021-06-23T12:56:10.320790",
     "exception": false,
     "start_time": "2021-06-23T12:56:10.278872",
     "status": "completed"
    },
    "tags": []
   },
   "outputs": [
    {
     "name": "stdout",
     "output_type": "stream",
     "text": [
      "Gradient of z wrt x: 4.0\n",
      "Gradient of z wrt y: 3.0\n",
      "\n",
      "Gradient of zz wrt x: None\n",
      "Gradient of zz wrt y: None\n"
     ]
    }
   ],
   "source": [
    "# The ugly way\n",
    "\n",
    "x = tf.Variable(3.0, name=\"x\")\n",
    "y = tf.Variable(4.0, name=\"y\")\n",
    "\n",
    "with tf.GradientTape(persistent=True) as tape:\n",
    "    z = x * y\n",
    "    \n",
    "    # Stop the grasdient flow\n",
    "    with tape.stop_recording():\n",
    "        zz = x*x + y*y\n",
    "\n",
    "dz_dx, dz_dy = tape.gradient(z, [x, y])\n",
    "dzz_dx, dzz_dy = tape.gradient(zz, [x, y])\n",
    "\n",
    "print(f\"Gradient of z wrt x: {dz_dx}\")\n",
    "print(f\"Gradient of z wrt y: {dz_dy}\\n\")\n",
    "print(f\"Gradient of zz wrt x: {dzz_dx}\")\n",
    "print(f\"Gradient of zz wrt y: {dzz_dy}\")"
   ]
  },
  {
   "cell_type": "markdown",
   "id": "opposed-sydney",
   "metadata": {
    "papermill": {
     "duration": 0.026071,
     "end_time": "2021-06-23T12:56:10.374033",
     "exception": false,
     "start_time": "2021-06-23T12:56:10.347962",
     "status": "completed"
    },
    "tags": []
   },
   "source": [
    "A better way to stop gradient flow is to use `tf.stop_gradient(...)`. Why?\n",
    "1. Doesn't require access to tape\n",
    "2. Clean with much better semantics "
   ]
  },
  {
   "cell_type": "code",
   "execution_count": 11,
   "id": "modern-clearance",
   "metadata": {
    "execution": {
     "iopub.execute_input": "2021-06-23T12:56:10.434405Z",
     "iopub.status.busy": "2021-06-23T12:56:10.433573Z",
     "iopub.status.idle": "2021-06-23T12:56:10.437463Z",
     "shell.execute_reply": "2021-06-23T12:56:10.436822Z",
     "shell.execute_reply.started": "2021-06-23T12:23:01.903715Z"
    },
    "papermill": {
     "duration": 0.037004,
     "end_time": "2021-06-23T12:56:10.437611",
     "exception": false,
     "start_time": "2021-06-23T12:56:10.400607",
     "status": "completed"
    },
    "tags": []
   },
   "outputs": [
    {
     "name": "stdout",
     "output_type": "stream",
     "text": [
      "Gradient of z wrt x: 4.0\n",
      "Gradient of z wrt y: None\n"
     ]
    }
   ],
   "source": [
    "# The better way!\n",
    "\n",
    "x = tf.Variable(3.0, name=\"x\")\n",
    "y = tf.Variable(4.0, name=\"y\")\n",
    "\n",
    "with tf.GradientTape() as tape:\n",
    "    z = x * tf.stop_gradient(y)\n",
    "\n",
    "dz_dx, dz_dy = tape.gradient(z, [x, y])\n",
    "print(f\"Gradient of z wrt x: {dz_dx}\")\n",
    "print(f\"Gradient of z wrt y: {dz_dy}\")"
   ]
  },
  {
   "cell_type": "markdown",
   "id": "cloudy-attention",
   "metadata": {
    "papermill": {
     "duration": 0.026162,
     "end_time": "2021-06-23T12:56:10.490643",
     "exception": false,
     "start_time": "2021-06-23T12:56:10.464481",
     "status": "completed"
    },
    "tags": []
   },
   "source": [
    "#### 3. Select what to watch inside the context?\n",
    "\n",
    "By default `GradientTape` will automatically watch any trainable variables that are accessed inside the context but if you want gradients for selected variables only, then you can disable automatic tracking by passing `watch_accessed_variables=False` to the tape constructor"
   ]
  },
  {
   "cell_type": "code",
   "execution_count": 12,
   "id": "invisible-flight",
   "metadata": {
    "execution": {
     "iopub.execute_input": "2021-06-23T12:56:10.554657Z",
     "iopub.status.busy": "2021-06-23T12:56:10.553927Z",
     "iopub.status.idle": "2021-06-23T12:56:10.558154Z",
     "shell.execute_reply": "2021-06-23T12:56:10.559054Z",
     "shell.execute_reply.started": "2021-06-23T12:23:02.954995Z"
    },
    "papermill": {
     "duration": 0.040839,
     "end_time": "2021-06-23T12:56:10.559387",
     "exception": false,
     "start_time": "2021-06-23T12:56:10.518548",
     "status": "completed"
    },
    "tags": []
   },
   "outputs": [
    {
     "name": "stdout",
     "output_type": "stream",
     "text": [
      "Gradient of z wrt x: 4.0\n",
      "Gradient of z wrt y: None\n"
     ]
    }
   ],
   "source": [
    "# Both variables are trainable\n",
    "x = tf.Variable(3.0, name=\"x\")\n",
    "y = tf.Variable(4.0, name=\"y\")\n",
    "\n",
    "# Telling the tape: Hey! I will tell you what to record.\n",
    "# Don't start recording automatically!\n",
    "with tf.GradientTape(watch_accessed_variables=False) as tape:\n",
    "    # Watch x but not y\n",
    "    tape.watch(x)\n",
    "    z = x * y\n",
    "\n",
    "dz_dx, dz_dy = tape.gradient(z, [x, y])\n",
    "print(f\"Gradient of z wrt x: {dz_dx}\")\n",
    "print(f\"Gradient of z wrt y: {dz_dy}\")"
   ]
  },
  {
   "cell_type": "code",
   "execution_count": 13,
   "id": "devoted-reflection",
   "metadata": {
    "execution": {
     "iopub.execute_input": "2021-06-23T12:56:10.624659Z",
     "iopub.status.busy": "2021-06-23T12:56:10.623045Z",
     "iopub.status.idle": "2021-06-23T12:56:10.630552Z",
     "shell.execute_reply": "2021-06-23T12:56:10.631202Z",
     "shell.execute_reply.started": "2021-06-23T12:23:03.328324Z"
    },
    "papermill": {
     "duration": 0.043786,
     "end_time": "2021-06-23T12:56:10.631448",
     "exception": false,
     "start_time": "2021-06-23T12:56:10.587662",
     "status": "completed"
    },
    "tags": []
   },
   "outputs": [
    {
     "name": "stdout",
     "output_type": "stream",
     "text": [
      "Tape watching only these objects that you asked it to watch\n",
      "x:0 and it's value is 3.0\n",
      "t:0 and it's value is 5.0\n"
     ]
    }
   ],
   "source": [
    "# What if something that you wanted to watch,\n",
    "# wasn't present in the computation done inside \n",
    "# the context?\n",
    "\n",
    "x = tf.Variable(3.0, name=\"x\")\n",
    "y = tf.Variable(4.0, name=\"y\")\n",
    "t = tf.Variable(5.0, name=\"t\")\n",
    "\n",
    "# Telling the tape: Hey! I will tell you what to record.\n",
    "# Don't start recording automatically!\n",
    "with tf.GradientTape(watch_accessed_variables=False) as tape:\n",
    "    # Watch x but not y\n",
    "    tape.watch(x)\n",
    "    z = x * y\n",
    "    \n",
    "    # `t` isn't involved in any computation here\n",
    "    # but what if we want to record it as well\n",
    "    tape.watch(t)\n",
    "\n",
    "print(\"Tape watching only these objects that you asked it to watch\")\n",
    "for var in tape.watched_variables():\n",
    "    print(f\"{var.name} and it's value is {var.numpy()}\")"
   ]
  },
  {
   "cell_type": "markdown",
   "id": "tired-howard",
   "metadata": {
    "papermill": {
     "duration": 0.029545,
     "end_time": "2021-06-23T12:56:10.688795",
     "exception": false,
     "start_time": "2021-06-23T12:56:10.659250",
     "status": "completed"
    },
    "tags": []
   },
   "source": [
    "#### Multiple Tapes\n",
    "You can use more than one `GradientTape` for recording different objects. Tapes interact seamlessly"
   ]
  },
  {
   "cell_type": "code",
   "execution_count": 14,
   "id": "hydraulic-surrey",
   "metadata": {
    "execution": {
     "iopub.execute_input": "2021-06-23T12:56:10.753983Z",
     "iopub.status.busy": "2021-06-23T12:56:10.753246Z",
     "iopub.status.idle": "2021-06-23T12:56:10.758832Z",
     "shell.execute_reply": "2021-06-23T12:56:10.759315Z",
     "shell.execute_reply.started": "2021-06-23T12:23:04.205729Z"
    },
    "papermill": {
     "duration": 0.041109,
     "end_time": "2021-06-23T12:56:10.759518",
     "exception": false,
     "start_time": "2021-06-23T12:56:10.718409",
     "status": "completed"
    },
    "tags": []
   },
   "outputs": [
    {
     "name": "stdout",
     "output_type": "stream",
     "text": [
      "Gradient of z wrt x: 4.0\n",
      "Gradient of z wrt y: 3.0\n"
     ]
    }
   ],
   "source": [
    "x = tf.Variable(3.0, name=\"x\")\n",
    "y = tf.Variable(4.0, name=\"y\")\n",
    "\n",
    "with tf.GradientTape() as tape_for_x, tf.GradientTape() as tape_for_y:\n",
    "    # Watching different variables with different tapes\n",
    "    tape_for_x.watch(x)\n",
    "    tape_for_y.watch(y)\n",
    "    \n",
    "    z = x * y\n",
    "\n",
    "dz_dx = tape_for_x.gradient(z, x)\n",
    "dz_dy = tape_for_y.gradient(z, y)\n",
    "print(f\"Gradient of z wrt x: {dz_dx}\")\n",
    "print(f\"Gradient of z wrt y: {dz_dy}\")"
   ]
  },
  {
   "cell_type": "markdown",
   "id": "governmental-cleaners",
   "metadata": {
    "papermill": {
     "duration": 0.028239,
     "end_time": "2021-06-23T12:56:10.815451",
     "exception": false,
     "start_time": "2021-06-23T12:56:10.787212",
     "status": "completed"
    },
    "tags": []
   },
   "source": [
    "#### Higher order gradients\n",
    "\n",
    "Any computation done nside the `GradientTape` context gets recorded. If the computations involves gradient calculations, it gets recorded as well. This makes it easy to compute the `higher-order` gradients using the same API. Check this out"
   ]
  },
  {
   "cell_type": "code",
   "execution_count": 15,
   "id": "vanilla-warehouse",
   "metadata": {
    "execution": {
     "iopub.execute_input": "2021-06-23T12:56:10.879111Z",
     "iopub.status.busy": "2021-06-23T12:56:10.878304Z",
     "iopub.status.idle": "2021-06-23T12:56:10.888905Z",
     "shell.execute_reply": "2021-06-23T12:56:10.889383Z",
     "shell.execute_reply.started": "2021-06-23T12:23:05.089305Z"
    },
    "papermill": {
     "duration": 0.046276,
     "end_time": "2021-06-23T12:56:10.889582",
     "exception": false,
     "start_time": "2021-06-23T12:56:10.843306",
     "status": "completed"
    },
    "tags": []
   },
   "outputs": [
    {
     "name": "stdout",
     "output_type": "stream",
     "text": [
      "Variable x: 3.0\n",
      "\n",
      "Equation is y = x^3\n",
      "First Order Gradient wrt x (3 * x^2): 27.0\n",
      "Second Order Gradient wrt x (6^x): 18.0\n"
     ]
    }
   ],
   "source": [
    "x = tf.Variable(3.0, name=\"x\")\n",
    "\n",
    "with tf.GradientTape() as tape1:\n",
    "    with tf.GradientTape() as tape0:\n",
    "        y = x * x * x\n",
    "    first_order_grad = tape0.gradient(y, x)\n",
    "second_order_grad = tape1.gradient(first_order_grad, x)\n",
    "\n",
    "print(f\"Variable x: {x.numpy()}\")\n",
    "print(\"\\nEquation is y = x^3\")\n",
    "print(f\"First Order Gradient wrt x (3 * x^2): {first_order_grad}\")\n",
    "print(f\"Second Order Gradient wrt x (6^x): {second_order_grad}\")"
   ]
  },
  {
   "cell_type": "markdown",
   "id": "funky-bradford",
   "metadata": {
    "papermill": {
     "duration": 0.0275,
     "end_time": "2021-06-23T12:56:10.945596",
     "exception": false,
     "start_time": "2021-06-23T12:56:10.918096",
     "status": "completed"
    },
    "tags": []
   },
   "source": [
    "#### Gotchas\n",
    "\n",
    "Let's look at a few things that you **should** be aware of so that your code doesn't fail silently!\n",
    "\n",
    "We already looked at that gradients for `int` or `string` dtypes isn't defined. Here are a few other things"
   ]
  },
  {
   "cell_type": "code",
   "execution_count": 16,
   "id": "apparent-playing",
   "metadata": {
    "execution": {
     "iopub.execute_input": "2021-06-23T12:56:11.009833Z",
     "iopub.status.busy": "2021-06-23T12:56:11.008996Z",
     "iopub.status.idle": "2021-06-23T12:56:11.013536Z",
     "shell.execute_reply": "2021-06-23T12:56:11.012730Z",
     "shell.execute_reply.started": "2021-06-23T12:23:11.460893Z"
    },
    "papermill": {
     "duration": 0.040304,
     "end_time": "2021-06-23T12:56:11.013721",
     "exception": false,
     "start_time": "2021-06-23T12:56:10.973417",
     "status": "completed"
    },
    "tags": []
   },
   "outputs": [
    {
     "name": "stdout",
     "output_type": "stream",
     "text": [
      "tf.Tensor(3.0, shape=(), dtype=float32)\n",
      "\n",
      "Gradient of y wrt x:  None\n"
     ]
    }
   ],
   "source": [
    "# What happens when you tries to take gradient wrt a Tensor?\n",
    "x = tf.constant(3.0)\n",
    "\n",
    "with tf.GradientTape() as tape:\n",
    "    y = x * x\n",
    "    \n",
    "dy_dx = tape.gradient(y, x)\n",
    "\n",
    "print(x)\n",
    "print(\"\\nGradient of y wrt x: \", dy_dx)"
   ]
  },
  {
   "cell_type": "code",
   "execution_count": 17,
   "id": "respected-fence",
   "metadata": {
    "execution": {
     "iopub.execute_input": "2021-06-23T12:56:11.078565Z",
     "iopub.status.busy": "2021-06-23T12:56:11.077867Z",
     "iopub.status.idle": "2021-06-23T12:56:11.083563Z",
     "shell.execute_reply": "2021-06-23T12:56:11.082840Z",
     "shell.execute_reply.started": "2021-06-23T12:24:59.149423Z"
    },
    "papermill": {
     "duration": 0.041081,
     "end_time": "2021-06-23T12:56:11.083722",
     "exception": false,
     "start_time": "2021-06-23T12:56:11.042641",
     "status": "completed"
    },
    "tags": []
   },
   "outputs": [
    {
     "name": "stdout",
     "output_type": "stream",
     "text": [
      "tf.Tensor(3.0, shape=(), dtype=float32)\n",
      "\n",
      "Gradient of y wrt x:  tf.Tensor(6.0, shape=(), dtype=float32)\n"
     ]
    }
   ],
   "source": [
    "# Let's modify the above code a bit\n",
    "\n",
    "x = tf.constant(3.0)\n",
    "\n",
    "with tf.GradientTape() as tape:\n",
    "    tape.watch(x)\n",
    "    y = x * x\n",
    "    \n",
    "dy_dx = tape.gradient(y, x)\n",
    "\n",
    "print(x)\n",
    "print(\"\\nGradient of y wrt x: \", dy_dx)"
   ]
  },
  {
   "cell_type": "markdown",
   "id": "quarterly-liberia",
   "metadata": {
    "papermill": {
     "duration": 0.028685,
     "end_time": "2021-06-23T12:56:11.141209",
     "exception": false,
     "start_time": "2021-06-23T12:56:11.112524",
     "status": "completed"
    },
    "tags": []
   },
   "source": [
    "Woah! What just happened? Don't look further down but pause for a minute and think for a while about what just happened and why such a behavior"
   ]
  },
  {
   "cell_type": "markdown",
   "id": "pursuant-option",
   "metadata": {
    "papermill": {
     "duration": 0.028271,
     "end_time": "2021-06-23T12:56:11.198679",
     "exception": false,
     "start_time": "2021-06-23T12:56:11.170408",
     "status": "completed"
    },
    "tags": []
   },
   "source": [
    "#### States and Gradients\n",
    "\n",
    "`GradientTape` can only read from the current state, not from the history that ead to it. State blocks gradient calculations from going farther back. Let's look at an example to make it more clear"
   ]
  },
  {
   "cell_type": "code",
   "execution_count": 18,
   "id": "electrical-hamilton",
   "metadata": {
    "execution": {
     "iopub.execute_input": "2021-06-23T12:56:11.262737Z",
     "iopub.status.busy": "2021-06-23T12:56:11.262062Z",
     "iopub.status.idle": "2021-06-23T12:56:11.275007Z",
     "shell.execute_reply": "2021-06-23T12:56:11.274472Z",
     "shell.execute_reply.started": "2021-06-23T12:53:27.467913Z"
    },
    "papermill": {
     "duration": 0.047618,
     "end_time": "2021-06-23T12:56:11.275156",
     "exception": false,
     "start_time": "2021-06-23T12:56:11.227538",
     "status": "completed"
    },
    "tags": []
   },
   "outputs": [
    {
     "name": "stdout",
     "output_type": "stream",
     "text": [
      "Gradients of z wrt y:  None\n"
     ]
    }
   ],
   "source": [
    "x = tf.Variable(3.0)\n",
    "y = tf.Variable(4.0)\n",
    "\n",
    "with tf.GradientTape() as tape:\n",
    "    # Change the state of x by making x = x + y\n",
    "    x.assign_add(y)\n",
    "    \n",
    "    # Let's do some computation e.g z = x * x \n",
    "    # This is equivalent to z = (x + y) * (x + y) because of above assign_add\n",
    "    z = x * x\n",
    "    \n",
    "dy = tape.gradient(z, y)\n",
    "print(\"Gradients of z wrt y: \", dy)"
   ]
  },
  {
   "cell_type": "markdown",
   "id": "gothic-knife",
   "metadata": {
    "papermill": {
     "duration": 0.028666,
     "end_time": "2021-06-23T12:56:11.332555",
     "exception": false,
     "start_time": "2021-06-23T12:56:11.303889",
     "status": "completed"
    },
    "tags": []
   },
   "source": [
    "That's it for part 3! I hope you liked the content and I am also hoping that it would have given you a much clear picture of Automatic Differentiation and Gradients calculation. We will be looking at other things in the next tutorial!<br>\n",
    "\n",
    "\n",
    "**References**:\n",
    "1. https://www.tensorflow.org/guide/autodiff\n",
    "2. https://keras.io/getting_started/intro_to_keras_for_researchers/"
   ]
  },
  {
   "cell_type": "code",
   "execution_count": null,
   "id": "immediate-timeline",
   "metadata": {
    "papermill": {
     "duration": 0.028261,
     "end_time": "2021-06-23T12:56:11.390226",
     "exception": false,
     "start_time": "2021-06-23T12:56:11.361965",
     "status": "completed"
    },
    "tags": []
   },
   "outputs": [],
   "source": []
  }
 ],
 "metadata": {
  "kernelspec": {
   "display_name": "Python 3",
   "language": "python",
   "name": "python3"
  },
  "language_info": {
   "codemirror_mode": {
    "name": "ipython",
    "version": 3
   },
   "file_extension": ".py",
   "mimetype": "text/x-python",
   "name": "python",
   "nbconvert_exporter": "python",
   "pygments_lexer": "ipython3",
   "version": "3.8.10"
  },
  "papermill": {
   "default_parameters": {},
   "duration": 20.022396,
   "end_time": "2021-06-23T12:56:13.517278",
   "environment_variables": {},
   "exception": null,
   "input_path": "__notebook__.ipynb",
   "output_path": "__notebook__.ipynb",
   "parameters": {},
   "start_time": "2021-06-23T12:55:53.494882",
   "version": "2.3.3"
  }
 },
 "nbformat": 4,
 "nbformat_minor": 5
}
