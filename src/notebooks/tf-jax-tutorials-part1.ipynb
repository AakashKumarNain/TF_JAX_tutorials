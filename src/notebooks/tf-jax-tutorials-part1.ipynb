{
 "cells": [
  {
   "cell_type": "markdown",
   "id": "august-scratch",
   "metadata": {
    "papermill": {
     "duration": 0.021991,
     "end_time": "2021-06-04T15:05:40.434962",
     "exception": false,
     "start_time": "2021-06-04T15:05:40.412971",
     "status": "completed"
    },
    "tags": []
   },
   "source": [
    "\n",
    "\n",
    "<img src=\"https://i.ytimg.com/vi/yjprpOoH5c8/maxresdefault.jpg\" width=\"300\" height=\"300\" align=\"center\"/>\n",
    "\n",
    "Welcome to the TensorFlow/JAX tutorials. These tutorials are meant for everyone (from novice to advanced). We will start from the very basics. No rush!\n",
    "These tutorials are meant to improve your understanding of the two frameworks TensorFlow and JAX. We will start with TensorFlow and will cover JAX side-by-side. This isn't typically a documentation-type tutorial, and these aren't meant to be the replacement. These are meant to give you insights with minimal effort. Sit tight and let's start!\n",
    "\n",
    "**Note** The tutorials will be following this format:\n",
    "1. TF Fundamentals (2-3 notebooks)\n",
    "2. JAX Fundamentals (2-3 notebooks)\n",
    "3. Advanced TF (2-3 notebooks)\n",
    "4. Advanced JAX (2-3 notebooks)\n",
    "\n",
    "Update: [Part-2](https://www.kaggle.com/aakashnain/tf-jax-tutorials-part2) is out!"
   ]
  },
  {
   "cell_type": "code",
   "execution_count": 1,
   "id": "hybrid-casino",
   "metadata": {
    "_cell_guid": "b1076dfc-b9ad-4769-8c92-a6c4dae69d19",
    "_uuid": "8f2839f25d086af736a60e9eeb907d3b93b6e0e5",
    "execution": {
     "iopub.execute_input": "2021-06-04T15:05:40.489320Z",
     "iopub.status.busy": "2021-06-04T15:05:40.488648Z",
     "iopub.status.idle": "2021-06-04T15:05:46.358538Z",
     "shell.execute_reply": "2021-06-04T15:05:46.359045Z",
     "shell.execute_reply.started": "2021-05-27T16:21:43.993658Z"
    },
    "papermill": {
     "duration": 5.903296,
     "end_time": "2021-06-04T15:05:46.359412",
     "exception": false,
     "start_time": "2021-06-04T15:05:40.456116",
     "status": "completed"
    },
    "scrolled": true,
    "tags": []
   },
   "outputs": [],
   "source": [
    "import numpy as np\n",
    "import tensorflow as tf\n",
    "from tensorflow import keras\n",
    "from tensorflow.keras import layers\n",
    "\n",
    "seed=1234\n",
    "np.random.seed(seed)\n",
    "tf.random.set_seed(seed)\n",
    "%config IPCompleter.use_jedi = False"
   ]
  },
  {
   "cell_type": "markdown",
   "id": "copyrighted-relaxation",
   "metadata": {
    "papermill": {
     "duration": 0.020819,
     "end_time": "2021-06-04T15:05:46.401402",
     "exception": false,
     "start_time": "2021-06-04T15:05:46.380583",
     "status": "completed"
    },
    "tags": []
   },
   "source": [
    "## Tensors\n",
    "\n",
    "What is a `Tensor` anyway?<br>\n",
    "Although the meaning of `Tensor` is much diverse than what we typically use in ML, whenever we say `tensor` in ML, we mean that it is a **`multi-dimensional array`** where all the values have a uniform `dtype`. There are many ways to create a TF tensor. We will take a look at a few of them, a few important ones."
   ]
  },
  {
   "cell_type": "markdown",
   "id": "western-marble",
   "metadata": {
    "papermill": {
     "duration": 0.020541,
     "end_time": "2021-06-04T15:05:46.442987",
     "exception": false,
     "start_time": "2021-06-04T15:05:46.422446",
     "status": "completed"
    },
    "tags": []
   },
   "source": [
    "`tf.constant(..)`: This is the simplest way yet with some `gotchas` to create a tensor object. First, let's try to create a tensor with it, and then we will look at the gotchas later on."
   ]
  },
  {
   "cell_type": "code",
   "execution_count": 2,
   "id": "radical-commissioner",
   "metadata": {
    "execution": {
     "iopub.execute_input": "2021-06-04T15:05:46.488415Z",
     "iopub.status.busy": "2021-06-04T15:05:46.487758Z",
     "iopub.status.idle": "2021-06-04T15:05:46.505094Z",
     "shell.execute_reply": "2021-06-04T15:05:46.504443Z",
     "shell.execute_reply.started": "2021-05-27T16:21:49.570694Z"
    },
    "papermill": {
     "duration": 0.040941,
     "end_time": "2021-06-04T15:05:46.505240",
     "exception": false,
     "start_time": "2021-06-04T15:05:46.464299",
     "status": "completed"
    },
    "tags": []
   },
   "outputs": [
    {
     "name": "stdout",
     "output_type": "stream",
     "text": [
      "tf.Tensor(5.0, shape=(), dtype=float32)\n"
     ]
    }
   ],
   "source": [
    "# A zero rank tensor. A zero rank tensor is nothing but a single value\n",
    "x = tf.constant(5.0)\n",
    "print(x)"
   ]
  },
  {
   "cell_type": "markdown",
   "id": "vocational-operation",
   "metadata": {
    "papermill": {
     "duration": 0.021141,
     "end_time": "2021-06-04T15:05:46.548241",
     "exception": false,
     "start_time": "2021-06-04T15:05:46.527100",
     "status": "completed"
    },
    "tags": []
   },
   "source": [
    "As you can see above, that the tensor object has a `shape` and a `dtype`. There are other attributes/properties as well that are associated with a tensor object. \n",
    "\n",
    "\n",
    "1. Shape: The length (number of elements) of each of the axes of a tensor.\n",
    "2. Rank: Number of axes. For example, a matrix is a tensor of rank 2.\n",
    "3. Axis or Dimension: A particular dimension of a tensor.\n",
    "4. Size: The total number of items in the tensor."
   ]
  },
  {
   "cell_type": "code",
   "execution_count": 3,
   "id": "social-cardiff",
   "metadata": {
    "execution": {
     "iopub.execute_input": "2021-06-04T15:05:46.612826Z",
     "iopub.status.busy": "2021-06-04T15:05:46.611933Z",
     "iopub.status.idle": "2021-06-04T15:05:46.616286Z",
     "shell.execute_reply": "2021-06-04T15:05:46.615422Z",
     "shell.execute_reply.started": "2021-05-27T16:21:49.588406Z"
    },
    "papermill": {
     "duration": 0.04682,
     "end_time": "2021-06-04T15:05:46.616494",
     "exception": false,
     "start_time": "2021-06-04T15:05:46.569674",
     "status": "completed"
    },
    "tags": []
   },
   "outputs": [
    {
     "name": "stdout",
     "output_type": "stream",
     "text": [
      "`y` is now a <class 'numpy.ndarray'> object and have a value == [1 2 3]\n"
     ]
    }
   ],
   "source": [
    "# We can convert any tensor object to `ndarray` by calling the `numpy()` method\n",
    "y = tf.constant([1, 2, 3], dtype=tf.int8).numpy()\n",
    "print(f\"`y` is now a {type(y)} object and have a value == {y}\")"
   ]
  },
  {
   "cell_type": "markdown",
   "id": "amazing-edwards",
   "metadata": {
    "papermill": {
     "duration": 0.021358,
     "end_time": "2021-06-04T15:05:46.660342",
     "exception": false,
     "start_time": "2021-06-04T15:05:46.638984",
     "status": "completed"
    },
    "tags": []
   },
   "source": [
    "**A few important things along with some gotchas**<br>\n",
    "1. People confuse `tf.constant(..)` with an operation that creates a `constant` tensor. There is no such relation. This is related to how we embed a node in a `tf.Graph`\n",
    "2. Any tensor in TensorFlow is **immutable** by default i.e. you cannot change the values of a tensor once created. You always create a new one. This is different from `numpy` and `pytorch` where you can actually modify the values. We will see an example on this in a bit\n",
    "3. One of the closest member to `tf.constant` is the `tf.convert_to_tensor()` method with a few difference which we will see later on\n",
    "4. `tf.constant(..)` is just one of the many ways to create a tensor. There are many other methods as well"
   ]
  },
  {
   "cell_type": "code",
   "execution_count": 4,
   "id": "animated-glance",
   "metadata": {
    "execution": {
     "iopub.execute_input": "2021-06-04T15:05:46.708768Z",
     "iopub.status.busy": "2021-06-04T15:05:46.708120Z",
     "iopub.status.idle": "2021-06-04T15:05:47.032923Z",
     "shell.execute_reply": "2021-06-04T15:05:47.033461Z",
     "shell.execute_reply.started": "2021-05-27T16:21:49.615091Z"
    },
    "papermill": {
     "duration": 0.351738,
     "end_time": "2021-06-04T15:05:47.033645",
     "exception": false,
     "start_time": "2021-06-04T15:05:46.681907",
     "status": "completed"
    },
    "tags": []
   },
   "outputs": [
    {
     "ename": "TypeError",
     "evalue": "'tensorflow.python.framework.ops.EagerTensor' object does not support item assignment",
     "output_type": "error",
     "traceback": [
      "\u001b[0;31m---------------------------------------------------------------------------\u001b[0m",
      "\u001b[0;31mTypeError\u001b[0m                                 Traceback (most recent call last)",
      "\u001b[0;32m<ipython-input-4-7c544f8174ba>\u001b[0m in \u001b[0;36m<module>\u001b[0;34m\u001b[0m\n\u001b[1;32m      5\u001b[0m \u001b[0;34m\u001b[0m\u001b[0m\n\u001b[1;32m      6\u001b[0m \u001b[0;31m# Try to modify the values\u001b[0m\u001b[0;34m\u001b[0m\u001b[0;34m\u001b[0m\u001b[0;34m\u001b[0m\u001b[0m\n\u001b[0;32m----> 7\u001b[0;31m \u001b[0mx\u001b[0m\u001b[0;34m[\u001b[0m\u001b[0;36m1\u001b[0m\u001b[0;34m]\u001b[0m \u001b[0;34m=\u001b[0m \u001b[0;36m3\u001b[0m\u001b[0;34m\u001b[0m\u001b[0;34m\u001b[0m\u001b[0m\n\u001b[0m",
      "\u001b[0;31mTypeError\u001b[0m: 'tensorflow.python.framework.ops.EagerTensor' object does not support item assignment"
     ]
    }
   ],
   "source": [
    "# Immutability check\n",
    "\n",
    "# Rank-1 tensor\n",
    "x = tf.constant([1, 2], dtype=tf.int8)\n",
    "\n",
    "# Try to modify the values\n",
    "x[1] = 3"
   ]
  },
  {
   "cell_type": "code",
   "execution_count": 5,
   "id": "frequent-wales",
   "metadata": {
    "execution": {
     "iopub.execute_input": "2021-06-04T15:05:47.085312Z",
     "iopub.status.busy": "2021-06-04T15:05:47.084648Z",
     "iopub.status.idle": "2021-06-04T15:05:47.114286Z",
     "shell.execute_reply": "2021-06-04T15:05:47.113452Z"
    },
    "papermill": {
     "duration": 0.058724,
     "end_time": "2021-06-04T15:05:47.114462",
     "exception": false,
     "start_time": "2021-06-04T15:05:47.055738",
     "status": "completed"
    },
    "tags": []
   },
   "outputs": [
    {
     "name": "stdout",
     "output_type": "stream",
     "text": [
      "tf.Tensor([1 1], shape=(2,), dtype=int8)\n"
     ]
    },
    {
     "ename": "TypeError",
     "evalue": "'tensorflow.python.framework.ops.EagerTensor' object does not support item assignment",
     "output_type": "error",
     "traceback": [
      "\u001b[0;31m---------------------------------------------------------------------------\u001b[0m",
      "\u001b[0;31mTypeError\u001b[0m                                 Traceback (most recent call last)",
      "\u001b[0;32m<ipython-input-5-a8a8f859ce5b>\u001b[0m in \u001b[0;36m<module>\u001b[0;34m\u001b[0m\n\u001b[1;32m      4\u001b[0m \u001b[0;34m\u001b[0m\u001b[0m\n\u001b[1;32m      5\u001b[0m \u001b[0;31m# Try modifying the values\u001b[0m\u001b[0;34m\u001b[0m\u001b[0;34m\u001b[0m\u001b[0;34m\u001b[0m\u001b[0m\n\u001b[0;32m----> 6\u001b[0;31m \u001b[0mx\u001b[0m\u001b[0;34m[\u001b[0m\u001b[0;36m0\u001b[0m\u001b[0;34m]\u001b[0m \u001b[0;34m=\u001b[0m \u001b[0;36m3\u001b[0m\u001b[0;34m\u001b[0m\u001b[0;34m\u001b[0m\u001b[0m\n\u001b[0m",
      "\u001b[0;31mTypeError\u001b[0m: 'tensorflow.python.framework.ops.EagerTensor' object does not support item assignment"
     ]
    }
   ],
   "source": [
    "# tf.constant(..) is no special. Let's create a tensor using a diff method\n",
    "x = tf.ones(2, dtype=tf.int8)\n",
    "print(x)\n",
    "\n",
    "# Try modifying the values\n",
    "x[0] = 3"
   ]
  },
  {
   "cell_type": "code",
   "execution_count": 6,
   "id": "square-judges",
   "metadata": {
    "execution": {
     "iopub.execute_input": "2021-06-04T15:05:47.168446Z",
     "iopub.status.busy": "2021-06-04T15:05:47.167771Z",
     "iopub.status.idle": "2021-06-04T15:05:47.171522Z",
     "shell.execute_reply": "2021-06-04T15:05:47.172202Z"
    },
    "papermill": {
     "duration": 0.035097,
     "end_time": "2021-06-04T15:05:47.172451",
     "exception": false,
     "start_time": "2021-06-04T15:05:47.137354",
     "status": "completed"
    },
    "tags": []
   },
   "outputs": [
    {
     "name": "stdout",
     "output_type": "stream",
     "text": [
      "Shape of x : (2,)\n",
      "Another method to obtain the shape using `tf.shape(..)`: [2]\n",
      "\n",
      "Rank of the tensor: 1\n",
      "dtype of the tensor: <dtype: 'int8'>\n",
      "Total size of the tensor: 2\n",
      "Values of the tensor: [1 1]\n"
     ]
    }
   ],
   "source": [
    "# Check all the properties of a tensor object\n",
    "print(f\"Shape of x : {x.shape}\")\n",
    "print(f\"Another method to obtain the shape using `tf.shape(..)`: {tf.shape(x)}\")\n",
    "\n",
    "print(f\"\\nRank of the tensor: {x.ndim}\")\n",
    "print(f\"dtype of the tensor: {x.dtype}\")\n",
    "print(f\"Total size of the tensor: {tf.size(x)}\")\n",
    "print(f\"Values of the tensor: {x.numpy()}\")"
   ]
  },
  {
   "cell_type": "markdown",
   "id": "closing-variation",
   "metadata": {
    "papermill": {
     "duration": 0.022902,
     "end_time": "2021-06-04T15:05:47.219062",
     "exception": false,
     "start_time": "2021-06-04T15:05:47.196160",
     "status": "completed"
    },
    "tags": []
   },
   "source": [
    "Not able to do assignment in Tensor objects is a bit (more than bit TBH) frustrating. What's the solution then?<br>\n",
    "The best way that I have figured out, that has always worked for my use case is to create a mask or to use [tf.tensor_scatter_nd_update](https://www.tensorflow.org/api_docs/python/tf/tensor_scatter_nd_update). Let's look at an example.<br>\n",
    "\n",
    "Original tensor -> `[1, 2, 3, 4, 5]` <br>\n",
    "Output tensor we want -> `[1, 200, 3, 400, 5]`<br>"
   ]
  },
  {
   "cell_type": "code",
   "execution_count": 7,
   "id": "solar-perspective",
   "metadata": {
    "execution": {
     "iopub.execute_input": "2021-06-04T15:05:47.274872Z",
     "iopub.status.busy": "2021-06-04T15:05:47.274101Z",
     "iopub.status.idle": "2021-06-04T15:05:47.304077Z",
     "shell.execute_reply": "2021-06-04T15:05:47.303542Z",
     "shell.execute_reply.started": "2021-05-27T16:22:58.1529Z"
    },
    "papermill": {
     "duration": 0.06115,
     "end_time": "2021-06-04T15:05:47.304217",
     "exception": false,
     "start_time": "2021-06-04T15:05:47.243067",
     "status": "completed"
    },
    "tags": []
   },
   "outputs": [
    {
     "name": "stdout",
     "output_type": "stream",
     "text": [
      "Original tensor:  tf.Tensor([1. 2. 3. 4. 5.], shape=(5,), dtype=float32)\n",
      "Original mask:  tf.Tensor([False  True False  True False], shape=(5,), dtype=bool)\n",
      "Mask casted to original tensor type:  tf.Tensor([0. 1. 0. 1. 0.], shape=(5,), dtype=float32)\n",
      "Output tensor:  tf.Tensor([  1. 200.   3. 400.   5.], shape=(5,), dtype=float32)\n"
     ]
    }
   ],
   "source": [
    "# Create a tensor first. Here is another way\n",
    "x = tf.cast([1, 2, 3, 4, 5], dtype=tf.float32)\n",
    "print(\"Original tensor: \", x)\n",
    "\n",
    "mask = x%2 == 0\n",
    "print(\"Original mask: \", mask)\n",
    "\n",
    "mask = tf.cast(mask, dtype=x.dtype)\n",
    "print(\"Mask casted to original tensor type: \", mask)\n",
    "\n",
    "# Some kind of operation on an tensor that is of same size \n",
    "# or broadcastable to the original tensor. Here we will simply\n",
    "# use the range object to create that tensor\n",
    "temp = tf.cast(tf.range(1, 6) * 100, dtype=x.dtype)\n",
    "\n",
    "# Output tensor\n",
    "# Input tensor -> [1, 2, 3, 4, 5]\n",
    "# Mask -> [0, 1, 0, 1, 0]\n",
    "out = x * (1-mask) + mask * temp\n",
    "print(\"Output tensor: \", out)"
   ]
  },
  {
   "cell_type": "code",
   "execution_count": 8,
   "id": "surprised-supply",
   "metadata": {
    "execution": {
     "iopub.execute_input": "2021-06-04T15:05:47.357793Z",
     "iopub.status.busy": "2021-06-04T15:05:47.357034Z",
     "iopub.status.idle": "2021-06-04T15:05:47.378920Z",
     "shell.execute_reply": "2021-06-04T15:05:47.378309Z",
     "shell.execute_reply.started": "2021-05-27T16:23:04.855856Z"
    },
    "papermill": {
     "duration": 0.050917,
     "end_time": "2021-06-04T15:05:47.379061",
     "exception": false,
     "start_time": "2021-06-04T15:05:47.328144",
     "status": "completed"
    },
    "tags": []
   },
   "outputs": [
    {
     "name": "stdout",
     "output_type": "stream",
     "text": [
      "Indices to update:  tf.Tensor(\n",
      "[[1]\n",
      " [3]], shape=(2, 1), dtype=int64)\n",
      "\n",
      "Output tensor\n",
      "tf.Tensor([  1. 200.   3. 400.   5.], shape=(5,), dtype=float32)\n"
     ]
    }
   ],
   "source": [
    "# Another way to achieve the same thing\n",
    "indices_to_update = tf.where(x % 2 == 0)\n",
    "print(\"Indices to update: \", indices_to_update)\n",
    "\n",
    "# Update the tensor values\n",
    "updates = [200., 400.]\n",
    "out = tf.tensor_scatter_nd_update(x, indices_to_update, updates)\n",
    "print(\"\\nOutput tensor\")\n",
    "print(out)"
   ]
  },
  {
   "cell_type": "markdown",
   "id": "familiar-hotel",
   "metadata": {
    "papermill": {
     "duration": 0.024409,
     "end_time": "2021-06-04T15:05:47.428440",
     "exception": false,
     "start_time": "2021-06-04T15:05:47.404031",
     "status": "completed"
    },
    "tags": []
   },
   "source": [
    "Let's take a look at another interesting thing now."
   ]
  },
  {
   "cell_type": "code",
   "execution_count": 9,
   "id": "breeding-tourist",
   "metadata": {
    "execution": {
     "iopub.execute_input": "2021-06-04T15:05:47.484236Z",
     "iopub.status.busy": "2021-06-04T15:05:47.483597Z",
     "iopub.status.idle": "2021-06-04T15:05:47.488108Z",
     "shell.execute_reply": "2021-06-04T15:05:47.487588Z",
     "shell.execute_reply.started": "2021-05-27T16:23:11.823568Z"
    },
    "papermill": {
     "duration": 0.035173,
     "end_time": "2021-06-04T15:05:47.488245",
     "exception": false,
     "start_time": "2021-06-04T15:05:47.453072",
     "status": "completed"
    },
    "tags": []
   },
   "outputs": [
    {
     "name": "stdout",
     "output_type": "stream",
     "text": [
      "Numpy array:  [3 4 4 0 1]\n",
      "Accessing numpy array elements based on a  condition with irregular strides [4 1]\n"
     ]
    }
   ],
   "source": [
    "# This works!\n",
    "arr = np.random.randint(5, size=(5,), dtype=np.int32)\n",
    "print(\"Numpy array: \", arr)\n",
    "\n",
    "print(\"Accessing numpy array elements based on a  condition with irregular strides\", arr[[1, 4]])"
   ]
  },
  {
   "cell_type": "code",
   "execution_count": 10,
   "id": "split-chaos",
   "metadata": {
    "execution": {
     "iopub.execute_input": "2021-06-04T15:05:47.542808Z",
     "iopub.status.busy": "2021-06-04T15:05:47.542004Z",
     "iopub.status.idle": "2021-06-04T15:05:47.610442Z",
     "shell.execute_reply": "2021-06-04T15:05:47.609755Z",
     "shell.execute_reply.started": "2021-05-27T16:23:12.954106Z"
    },
    "papermill": {
     "duration": 0.097564,
     "end_time": "2021-06-04T15:05:47.610594",
     "exception": false,
     "start_time": "2021-06-04T15:05:47.513030",
     "status": "completed"
    },
    "tags": []
   },
   "outputs": [
    {
     "ename": "InvalidArgumentError",
     "evalue": "Index out of range using input dim 1; input has only 1 dims [Op:StridedSlice] name: strided_slice/",
     "output_type": "error",
     "traceback": [
      "\u001b[0;31m---------------------------------------------------------------------------\u001b[0m",
      "\u001b[0;31mInvalidArgumentError\u001b[0m                      Traceback (most recent call last)",
      "\u001b[0;32m<ipython-input-10-699e58532bde>\u001b[0m in \u001b[0;36m<module>\u001b[0;34m\u001b[0m\n\u001b[1;32m      1\u001b[0m \u001b[0;31m# This doesn't work\u001b[0m\u001b[0;34m\u001b[0m\u001b[0;34m\u001b[0m\u001b[0;34m\u001b[0m\u001b[0m\n\u001b[0;32m----> 2\u001b[0;31m \u001b[0mprint\u001b[0m\u001b[0;34m(\u001b[0m\u001b[0;34m\"Accessing tensor elements based on a  condition with irregular strides\"\u001b[0m\u001b[0;34m,\u001b[0m \u001b[0mx\u001b[0m\u001b[0;34m[\u001b[0m\u001b[0;34m[\u001b[0m\u001b[0;36m1\u001b[0m\u001b[0;34m,\u001b[0m \u001b[0;36m4\u001b[0m\u001b[0;34m]\u001b[0m\u001b[0;34m]\u001b[0m\u001b[0;34m)\u001b[0m\u001b[0;34m\u001b[0m\u001b[0;34m\u001b[0m\u001b[0m\n\u001b[0m",
      "\u001b[0;32m/opt/conda/lib/python3.7/site-packages/tensorflow/python/util/dispatch.py\u001b[0m in \u001b[0;36mwrapper\u001b[0;34m(*args, **kwargs)\u001b[0m\n\u001b[1;32m    199\u001b[0m     \u001b[0;34m\"\"\"Call target, and fall back on dispatchers if there is a TypeError.\"\"\"\u001b[0m\u001b[0;34m\u001b[0m\u001b[0;34m\u001b[0m\u001b[0m\n\u001b[1;32m    200\u001b[0m     \u001b[0;32mtry\u001b[0m\u001b[0;34m:\u001b[0m\u001b[0;34m\u001b[0m\u001b[0;34m\u001b[0m\u001b[0m\n\u001b[0;32m--> 201\u001b[0;31m       \u001b[0;32mreturn\u001b[0m \u001b[0mtarget\u001b[0m\u001b[0;34m(\u001b[0m\u001b[0;34m*\u001b[0m\u001b[0margs\u001b[0m\u001b[0;34m,\u001b[0m \u001b[0;34m**\u001b[0m\u001b[0mkwargs\u001b[0m\u001b[0;34m)\u001b[0m\u001b[0;34m\u001b[0m\u001b[0;34m\u001b[0m\u001b[0m\n\u001b[0m\u001b[1;32m    202\u001b[0m     \u001b[0;32mexcept\u001b[0m \u001b[0;34m(\u001b[0m\u001b[0mTypeError\u001b[0m\u001b[0;34m,\u001b[0m \u001b[0mValueError\u001b[0m\u001b[0;34m)\u001b[0m\u001b[0;34m:\u001b[0m\u001b[0;34m\u001b[0m\u001b[0;34m\u001b[0m\u001b[0m\n\u001b[1;32m    203\u001b[0m       \u001b[0;31m# Note: convert_to_eager_tensor currently raises a ValueError, not a\u001b[0m\u001b[0;34m\u001b[0m\u001b[0;34m\u001b[0m\u001b[0;34m\u001b[0m\u001b[0m\n",
      "\u001b[0;32m/opt/conda/lib/python3.7/site-packages/tensorflow/python/ops/array_ops.py\u001b[0m in \u001b[0;36m_slice_helper\u001b[0;34m(tensor, slice_spec, var)\u001b[0m\n\u001b[1;32m   1045\u001b[0m         \u001b[0mellipsis_mask\u001b[0m\u001b[0;34m=\u001b[0m\u001b[0mellipsis_mask\u001b[0m\u001b[0;34m,\u001b[0m\u001b[0;34m\u001b[0m\u001b[0;34m\u001b[0m\u001b[0m\n\u001b[1;32m   1046\u001b[0m         \u001b[0mvar\u001b[0m\u001b[0;34m=\u001b[0m\u001b[0mvar\u001b[0m\u001b[0;34m,\u001b[0m\u001b[0;34m\u001b[0m\u001b[0;34m\u001b[0m\u001b[0m\n\u001b[0;32m-> 1047\u001b[0;31m         name=name)\n\u001b[0m\u001b[1;32m   1048\u001b[0m \u001b[0;34m\u001b[0m\u001b[0m\n\u001b[1;32m   1049\u001b[0m \u001b[0;34m\u001b[0m\u001b[0m\n",
      "\u001b[0;32m/opt/conda/lib/python3.7/site-packages/tensorflow/python/util/dispatch.py\u001b[0m in \u001b[0;36mwrapper\u001b[0;34m(*args, **kwargs)\u001b[0m\n\u001b[1;32m    199\u001b[0m     \u001b[0;34m\"\"\"Call target, and fall back on dispatchers if there is a TypeError.\"\"\"\u001b[0m\u001b[0;34m\u001b[0m\u001b[0;34m\u001b[0m\u001b[0m\n\u001b[1;32m    200\u001b[0m     \u001b[0;32mtry\u001b[0m\u001b[0;34m:\u001b[0m\u001b[0;34m\u001b[0m\u001b[0;34m\u001b[0m\u001b[0m\n\u001b[0;32m--> 201\u001b[0;31m       \u001b[0;32mreturn\u001b[0m \u001b[0mtarget\u001b[0m\u001b[0;34m(\u001b[0m\u001b[0;34m*\u001b[0m\u001b[0margs\u001b[0m\u001b[0;34m,\u001b[0m \u001b[0;34m**\u001b[0m\u001b[0mkwargs\u001b[0m\u001b[0;34m)\u001b[0m\u001b[0;34m\u001b[0m\u001b[0;34m\u001b[0m\u001b[0m\n\u001b[0m\u001b[1;32m    202\u001b[0m     \u001b[0;32mexcept\u001b[0m \u001b[0;34m(\u001b[0m\u001b[0mTypeError\u001b[0m\u001b[0;34m,\u001b[0m \u001b[0mValueError\u001b[0m\u001b[0;34m)\u001b[0m\u001b[0;34m:\u001b[0m\u001b[0;34m\u001b[0m\u001b[0;34m\u001b[0m\u001b[0m\n\u001b[1;32m    203\u001b[0m       \u001b[0;31m# Note: convert_to_eager_tensor currently raises a ValueError, not a\u001b[0m\u001b[0;34m\u001b[0m\u001b[0;34m\u001b[0m\u001b[0;34m\u001b[0m\u001b[0m\n",
      "\u001b[0;32m/opt/conda/lib/python3.7/site-packages/tensorflow/python/ops/array_ops.py\u001b[0m in \u001b[0;36mstrided_slice\u001b[0;34m(input_, begin, end, strides, begin_mask, end_mask, ellipsis_mask, new_axis_mask, shrink_axis_mask, var, name)\u001b[0m\n\u001b[1;32m   1217\u001b[0m       \u001b[0mellipsis_mask\u001b[0m\u001b[0;34m=\u001b[0m\u001b[0mellipsis_mask\u001b[0m\u001b[0;34m,\u001b[0m\u001b[0;34m\u001b[0m\u001b[0;34m\u001b[0m\u001b[0m\n\u001b[1;32m   1218\u001b[0m       \u001b[0mnew_axis_mask\u001b[0m\u001b[0;34m=\u001b[0m\u001b[0mnew_axis_mask\u001b[0m\u001b[0;34m,\u001b[0m\u001b[0;34m\u001b[0m\u001b[0;34m\u001b[0m\u001b[0m\n\u001b[0;32m-> 1219\u001b[0;31m       shrink_axis_mask=shrink_axis_mask)\n\u001b[0m\u001b[1;32m   1220\u001b[0m \u001b[0;34m\u001b[0m\u001b[0m\n\u001b[1;32m   1221\u001b[0m   \u001b[0mparent_name\u001b[0m \u001b[0;34m=\u001b[0m \u001b[0mname\u001b[0m\u001b[0;34m\u001b[0m\u001b[0;34m\u001b[0m\u001b[0m\n",
      "\u001b[0;32m/opt/conda/lib/python3.7/site-packages/tensorflow/python/ops/gen_array_ops.py\u001b[0m in \u001b[0;36mstrided_slice\u001b[0;34m(input, begin, end, strides, begin_mask, end_mask, ellipsis_mask, new_axis_mask, shrink_axis_mask, name)\u001b[0m\n\u001b[1;32m  10445\u001b[0m       \u001b[0;32mreturn\u001b[0m \u001b[0m_result\u001b[0m\u001b[0;34m\u001b[0m\u001b[0;34m\u001b[0m\u001b[0m\n\u001b[1;32m  10446\u001b[0m     \u001b[0;32mexcept\u001b[0m \u001b[0m_core\u001b[0m\u001b[0;34m.\u001b[0m\u001b[0m_NotOkStatusException\u001b[0m \u001b[0;32mas\u001b[0m \u001b[0me\u001b[0m\u001b[0;34m:\u001b[0m\u001b[0;34m\u001b[0m\u001b[0;34m\u001b[0m\u001b[0m\n\u001b[0;32m> 10447\u001b[0;31m       \u001b[0m_ops\u001b[0m\u001b[0;34m.\u001b[0m\u001b[0mraise_from_not_ok_status\u001b[0m\u001b[0;34m(\u001b[0m\u001b[0me\u001b[0m\u001b[0;34m,\u001b[0m \u001b[0mname\u001b[0m\u001b[0;34m)\u001b[0m\u001b[0;34m\u001b[0m\u001b[0;34m\u001b[0m\u001b[0m\n\u001b[0m\u001b[1;32m  10448\u001b[0m     \u001b[0;32mexcept\u001b[0m \u001b[0m_core\u001b[0m\u001b[0;34m.\u001b[0m\u001b[0m_FallbackException\u001b[0m\u001b[0;34m:\u001b[0m\u001b[0;34m\u001b[0m\u001b[0;34m\u001b[0m\u001b[0m\n\u001b[1;32m  10449\u001b[0m       \u001b[0;32mpass\u001b[0m\u001b[0;34m\u001b[0m\u001b[0;34m\u001b[0m\u001b[0m\n",
      "\u001b[0;32m/opt/conda/lib/python3.7/site-packages/tensorflow/python/framework/ops.py\u001b[0m in \u001b[0;36mraise_from_not_ok_status\u001b[0;34m(e, name)\u001b[0m\n\u001b[1;32m   6860\u001b[0m   \u001b[0mmessage\u001b[0m \u001b[0;34m=\u001b[0m \u001b[0me\u001b[0m\u001b[0;34m.\u001b[0m\u001b[0mmessage\u001b[0m \u001b[0;34m+\u001b[0m \u001b[0;34m(\u001b[0m\u001b[0;34m\" name: \"\u001b[0m \u001b[0;34m+\u001b[0m \u001b[0mname\u001b[0m \u001b[0;32mif\u001b[0m \u001b[0mname\u001b[0m \u001b[0;32mis\u001b[0m \u001b[0;32mnot\u001b[0m \u001b[0;32mNone\u001b[0m \u001b[0;32melse\u001b[0m \u001b[0;34m\"\"\u001b[0m\u001b[0;34m)\u001b[0m\u001b[0;34m\u001b[0m\u001b[0;34m\u001b[0m\u001b[0m\n\u001b[1;32m   6861\u001b[0m   \u001b[0;31m# pylint: disable=protected-access\u001b[0m\u001b[0;34m\u001b[0m\u001b[0;34m\u001b[0m\u001b[0;34m\u001b[0m\u001b[0m\n\u001b[0;32m-> 6862\u001b[0;31m   \u001b[0msix\u001b[0m\u001b[0;34m.\u001b[0m\u001b[0mraise_from\u001b[0m\u001b[0;34m(\u001b[0m\u001b[0mcore\u001b[0m\u001b[0;34m.\u001b[0m\u001b[0m_status_to_exception\u001b[0m\u001b[0;34m(\u001b[0m\u001b[0me\u001b[0m\u001b[0;34m.\u001b[0m\u001b[0mcode\u001b[0m\u001b[0;34m,\u001b[0m \u001b[0mmessage\u001b[0m\u001b[0;34m)\u001b[0m\u001b[0;34m,\u001b[0m \u001b[0;32mNone\u001b[0m\u001b[0;34m)\u001b[0m\u001b[0;34m\u001b[0m\u001b[0;34m\u001b[0m\u001b[0m\n\u001b[0m\u001b[1;32m   6863\u001b[0m   \u001b[0;31m# pylint: enable=protected-access\u001b[0m\u001b[0;34m\u001b[0m\u001b[0;34m\u001b[0m\u001b[0;34m\u001b[0m\u001b[0m\n\u001b[1;32m   6864\u001b[0m \u001b[0;34m\u001b[0m\u001b[0m\n",
      "\u001b[0;32m/opt/conda/lib/python3.7/site-packages/six.py\u001b[0m in \u001b[0;36mraise_from\u001b[0;34m(value, from_value)\u001b[0m\n",
      "\u001b[0;31mInvalidArgumentError\u001b[0m: Index out of range using input dim 1; input has only 1 dims [Op:StridedSlice] name: strided_slice/"
     ]
    }
   ],
   "source": [
    "# This doesn't work\n",
    "print(\"Accessing tensor elements based on a  condition with irregular strides\", x[[1, 4]])"
   ]
  },
  {
   "cell_type": "markdown",
   "id": "boxed-kentucky",
   "metadata": {
    "papermill": {
     "duration": 0.025023,
     "end_time": "2021-06-04T15:05:47.660861",
     "exception": false,
     "start_time": "2021-06-04T15:05:47.635838",
     "status": "completed"
    },
    "tags": []
   },
   "source": [
    "What now? If you want to extract multiple elements from a tensor with irregular strides, or not so well defined strides, then [tf.gather](https://www.tensorflow.org/api_docs/python/tf/gather) and [tf.gather_nd](https://www.tensorflow.org/api_docs/python/tf/gather_nd) are your friend. Let;s try it again! "
   ]
  },
  {
   "cell_type": "code",
   "execution_count": 11,
   "id": "acoustic-commons",
   "metadata": {
    "execution": {
     "iopub.execute_input": "2021-06-04T15:05:47.717231Z",
     "iopub.status.busy": "2021-06-04T15:05:47.716548Z",
     "iopub.status.idle": "2021-06-04T15:05:47.729034Z",
     "shell.execute_reply": "2021-06-04T15:05:47.728361Z",
     "shell.execute_reply.started": "2021-05-27T16:23:14.628196Z"
    },
    "papermill": {
     "duration": 0.043197,
     "end_time": "2021-06-04T15:05:47.729173",
     "exception": false,
     "start_time": "2021-06-04T15:05:47.685976",
     "status": "completed"
    },
    "tags": []
   },
   "outputs": [
    {
     "name": "stdout",
     "output_type": "stream",
     "text": [
      "Original tensor:  [1. 2. 3. 4. 5.]\n",
      "\n",
      "Indices to update:  [[1]\n",
      " [3]]\n",
      "\n",
      " Accesing tensor elements using gather\n",
      "\n",
      " [[2.]\n",
      " [4.]]\n"
     ]
    }
   ],
   "source": [
    "print(\"Original tensor: \", x.numpy())\n",
    "\n",
    "# Using the indices that we used for mask\n",
    "print(\"\\nIndices to update: \", indices_to_update.numpy())\n",
    "\n",
    "# This works!\n",
    "print(\"\\n Accesing tensor elements using gather\")\n",
    "print(\"\\n\", tf.gather(x, indices_to_update).numpy())"
   ]
  },
  {
   "cell_type": "markdown",
   "id": "printable-lebanon",
   "metadata": {
    "papermill": {
     "duration": 0.024952,
     "end_time": "2021-06-04T15:05:47.779742",
     "exception": false,
     "start_time": "2021-06-04T15:05:47.754790",
     "status": "completed"
    },
    "tags": []
   },
   "source": [
    "There is another method `tf.convert_to_tensor(..)` to create a tensor. This is very similar to `tf.constant(..)` but with a few subtle differences:<br>\n",
    "1. Whenever you pass a non tf.Tensor object like a Python list or a ndarray to an op, `convert_to_tensor(..)` is always called automaically\n",
    "2. It doesn't take `shape` as an input argument.\n",
    "3. It allows to pass even `symbolic tensors`. We will take a look at it in a bit.\n",
    "\n",
    "When to use `tf.convert_to_tensor(..)`? It's up to your mental model! "
   ]
  },
  {
   "cell_type": "code",
   "execution_count": 12,
   "id": "alternate-montreal",
   "metadata": {
    "execution": {
     "iopub.execute_input": "2021-06-04T15:05:47.838782Z",
     "iopub.status.busy": "2021-06-04T15:05:47.837930Z",
     "iopub.status.idle": "2021-06-04T15:05:47.850888Z",
     "shell.execute_reply": "2021-06-04T15:05:47.850312Z",
     "shell.execute_reply.started": "2021-05-27T16:23:17.3324Z"
    },
    "papermill": {
     "duration": 0.045908,
     "end_time": "2021-06-04T15:05:47.851029",
     "exception": false,
     "start_time": "2021-06-04T15:05:47.805121",
     "status": "completed"
    },
    "tags": []
   },
   "outputs": [
    {
     "name": "stdout",
     "output_type": "stream",
     "text": [
      "Tensor from python list:  tf.Tensor([1 2 3], shape=(3,), dtype=int32)\n",
      "Tensor from ndarray:  tf.Tensor([1 2 3], shape=(3,), dtype=int64)\n",
      "Tensor from python list:  Tensor(\"Placeholder:0\", shape=(None, None, None), dtype=int32)\n"
     ]
    }
   ],
   "source": [
    "#  An example with a python list\n",
    "y = tf.convert_to_tensor([1, 2, 3])\n",
    "print(\"Tensor from python list: \", y)\n",
    "\n",
    "#  An example with a ndarray\n",
    "y = tf.convert_to_tensor(np.array([1, 2, 3]))\n",
    "print(\"Tensor from ndarray: \", y)\n",
    "\n",
    "#  An example with symbolic tensors\n",
    "with tf.compat.v1.Graph().as_default():\n",
    "    y = tf.convert_to_tensor(tf.compat.v1.placeholder(shape=[None, None, None], dtype=tf.int32))\n",
    "print(\"Tensor from python list: \", y)"
   ]
  },
  {
   "cell_type": "markdown",
   "id": "former-depression",
   "metadata": {
    "papermill": {
     "duration": 0.025353,
     "end_time": "2021-06-04T15:05:47.902285",
     "exception": false,
     "start_time": "2021-06-04T15:05:47.876932",
     "status": "completed"
    },
    "tags": []
   },
   "source": [
    "### Other kind of Tensor objects available"
   ]
  },
  {
   "cell_type": "markdown",
   "id": "hourly-productivity",
   "metadata": {
    "papermill": {
     "duration": 0.025088,
     "end_time": "2021-06-04T15:05:47.952962",
     "exception": false,
     "start_time": "2021-06-04T15:05:47.927874",
     "status": "completed"
    },
    "tags": []
   },
   "source": [
    "#### String tensors"
   ]
  },
  {
   "cell_type": "code",
   "execution_count": 13,
   "id": "million-private",
   "metadata": {
    "execution": {
     "iopub.execute_input": "2021-06-04T15:05:48.013637Z",
     "iopub.status.busy": "2021-06-04T15:05:48.012908Z",
     "iopub.status.idle": "2021-06-04T15:05:48.065569Z",
     "shell.execute_reply": "2021-06-04T15:05:48.066397Z",
     "shell.execute_reply.started": "2021-05-27T16:23:44.638143Z"
    },
    "papermill": {
     "duration": 0.086993,
     "end_time": "2021-06-04T15:05:48.066583",
     "exception": false,
     "start_time": "2021-06-04T15:05:47.979590",
     "status": "completed"
    },
    "tags": []
   },
   "outputs": [
    {
     "name": "stdout",
     "output_type": "stream",
     "text": [
      "String tensor:  tf.Tensor(b'abc', shape=(), dtype=string)\n",
      "\n",
      "Accessing second element of the string\n"
     ]
    },
    {
     "ename": "InvalidArgumentError",
     "evalue": "Index out of range using input dim 0; input has only 0 dims [Op:StridedSlice] name: strided_slice/",
     "output_type": "error",
     "traceback": [
      "\u001b[0;31m---------------------------------------------------------------------------\u001b[0m",
      "\u001b[0;31mInvalidArgumentError\u001b[0m                      Traceback (most recent call last)",
      "\u001b[0;32m<ipython-input-13-95bac838937c>\u001b[0m in \u001b[0;36m<module>\u001b[0;34m\u001b[0m\n\u001b[1;32m      6\u001b[0m \u001b[0;31m# This doen't work as expected!\u001b[0m\u001b[0;34m\u001b[0m\u001b[0;34m\u001b[0m\u001b[0;34m\u001b[0m\u001b[0m\n\u001b[1;32m      7\u001b[0m \u001b[0mprint\u001b[0m\u001b[0;34m(\u001b[0m\u001b[0;34m\"\\nAccessing second element of the string\"\u001b[0m\u001b[0;34m)\u001b[0m\u001b[0;34m\u001b[0m\u001b[0;34m\u001b[0m\u001b[0m\n\u001b[0;32m----> 8\u001b[0;31m \u001b[0mprint\u001b[0m\u001b[0;34m(\u001b[0m\u001b[0mstring\u001b[0m\u001b[0;34m[\u001b[0m\u001b[0;36m1\u001b[0m\u001b[0;34m]\u001b[0m\u001b[0;34m)\u001b[0m\u001b[0;34m\u001b[0m\u001b[0;34m\u001b[0m\u001b[0m\n\u001b[0m",
      "\u001b[0;32m/opt/conda/lib/python3.7/site-packages/tensorflow/python/util/dispatch.py\u001b[0m in \u001b[0;36mwrapper\u001b[0;34m(*args, **kwargs)\u001b[0m\n\u001b[1;32m    199\u001b[0m     \u001b[0;34m\"\"\"Call target, and fall back on dispatchers if there is a TypeError.\"\"\"\u001b[0m\u001b[0;34m\u001b[0m\u001b[0;34m\u001b[0m\u001b[0m\n\u001b[1;32m    200\u001b[0m     \u001b[0;32mtry\u001b[0m\u001b[0;34m:\u001b[0m\u001b[0;34m\u001b[0m\u001b[0;34m\u001b[0m\u001b[0m\n\u001b[0;32m--> 201\u001b[0;31m       \u001b[0;32mreturn\u001b[0m \u001b[0mtarget\u001b[0m\u001b[0;34m(\u001b[0m\u001b[0;34m*\u001b[0m\u001b[0margs\u001b[0m\u001b[0;34m,\u001b[0m \u001b[0;34m**\u001b[0m\u001b[0mkwargs\u001b[0m\u001b[0;34m)\u001b[0m\u001b[0;34m\u001b[0m\u001b[0;34m\u001b[0m\u001b[0m\n\u001b[0m\u001b[1;32m    202\u001b[0m     \u001b[0;32mexcept\u001b[0m \u001b[0;34m(\u001b[0m\u001b[0mTypeError\u001b[0m\u001b[0;34m,\u001b[0m \u001b[0mValueError\u001b[0m\u001b[0;34m)\u001b[0m\u001b[0;34m:\u001b[0m\u001b[0;34m\u001b[0m\u001b[0;34m\u001b[0m\u001b[0m\n\u001b[1;32m    203\u001b[0m       \u001b[0;31m# Note: convert_to_eager_tensor currently raises a ValueError, not a\u001b[0m\u001b[0;34m\u001b[0m\u001b[0;34m\u001b[0m\u001b[0;34m\u001b[0m\u001b[0m\n",
      "\u001b[0;32m/opt/conda/lib/python3.7/site-packages/tensorflow/python/ops/array_ops.py\u001b[0m in \u001b[0;36m_slice_helper\u001b[0;34m(tensor, slice_spec, var)\u001b[0m\n\u001b[1;32m   1045\u001b[0m         \u001b[0mellipsis_mask\u001b[0m\u001b[0;34m=\u001b[0m\u001b[0mellipsis_mask\u001b[0m\u001b[0;34m,\u001b[0m\u001b[0;34m\u001b[0m\u001b[0;34m\u001b[0m\u001b[0m\n\u001b[1;32m   1046\u001b[0m         \u001b[0mvar\u001b[0m\u001b[0;34m=\u001b[0m\u001b[0mvar\u001b[0m\u001b[0;34m,\u001b[0m\u001b[0;34m\u001b[0m\u001b[0;34m\u001b[0m\u001b[0m\n\u001b[0;32m-> 1047\u001b[0;31m         name=name)\n\u001b[0m\u001b[1;32m   1048\u001b[0m \u001b[0;34m\u001b[0m\u001b[0m\n\u001b[1;32m   1049\u001b[0m \u001b[0;34m\u001b[0m\u001b[0m\n",
      "\u001b[0;32m/opt/conda/lib/python3.7/site-packages/tensorflow/python/util/dispatch.py\u001b[0m in \u001b[0;36mwrapper\u001b[0;34m(*args, **kwargs)\u001b[0m\n\u001b[1;32m    199\u001b[0m     \u001b[0;34m\"\"\"Call target, and fall back on dispatchers if there is a TypeError.\"\"\"\u001b[0m\u001b[0;34m\u001b[0m\u001b[0;34m\u001b[0m\u001b[0m\n\u001b[1;32m    200\u001b[0m     \u001b[0;32mtry\u001b[0m\u001b[0;34m:\u001b[0m\u001b[0;34m\u001b[0m\u001b[0;34m\u001b[0m\u001b[0m\n\u001b[0;32m--> 201\u001b[0;31m       \u001b[0;32mreturn\u001b[0m \u001b[0mtarget\u001b[0m\u001b[0;34m(\u001b[0m\u001b[0;34m*\u001b[0m\u001b[0margs\u001b[0m\u001b[0;34m,\u001b[0m \u001b[0;34m**\u001b[0m\u001b[0mkwargs\u001b[0m\u001b[0;34m)\u001b[0m\u001b[0;34m\u001b[0m\u001b[0;34m\u001b[0m\u001b[0m\n\u001b[0m\u001b[1;32m    202\u001b[0m     \u001b[0;32mexcept\u001b[0m \u001b[0;34m(\u001b[0m\u001b[0mTypeError\u001b[0m\u001b[0;34m,\u001b[0m \u001b[0mValueError\u001b[0m\u001b[0;34m)\u001b[0m\u001b[0;34m:\u001b[0m\u001b[0;34m\u001b[0m\u001b[0;34m\u001b[0m\u001b[0m\n\u001b[1;32m    203\u001b[0m       \u001b[0;31m# Note: convert_to_eager_tensor currently raises a ValueError, not a\u001b[0m\u001b[0;34m\u001b[0m\u001b[0;34m\u001b[0m\u001b[0;34m\u001b[0m\u001b[0m\n",
      "\u001b[0;32m/opt/conda/lib/python3.7/site-packages/tensorflow/python/ops/array_ops.py\u001b[0m in \u001b[0;36mstrided_slice\u001b[0;34m(input_, begin, end, strides, begin_mask, end_mask, ellipsis_mask, new_axis_mask, shrink_axis_mask, var, name)\u001b[0m\n\u001b[1;32m   1217\u001b[0m       \u001b[0mellipsis_mask\u001b[0m\u001b[0;34m=\u001b[0m\u001b[0mellipsis_mask\u001b[0m\u001b[0;34m,\u001b[0m\u001b[0;34m\u001b[0m\u001b[0;34m\u001b[0m\u001b[0m\n\u001b[1;32m   1218\u001b[0m       \u001b[0mnew_axis_mask\u001b[0m\u001b[0;34m=\u001b[0m\u001b[0mnew_axis_mask\u001b[0m\u001b[0;34m,\u001b[0m\u001b[0;34m\u001b[0m\u001b[0;34m\u001b[0m\u001b[0m\n\u001b[0;32m-> 1219\u001b[0;31m       shrink_axis_mask=shrink_axis_mask)\n\u001b[0m\u001b[1;32m   1220\u001b[0m \u001b[0;34m\u001b[0m\u001b[0m\n\u001b[1;32m   1221\u001b[0m   \u001b[0mparent_name\u001b[0m \u001b[0;34m=\u001b[0m \u001b[0mname\u001b[0m\u001b[0;34m\u001b[0m\u001b[0;34m\u001b[0m\u001b[0m\n",
      "\u001b[0;32m/opt/conda/lib/python3.7/site-packages/tensorflow/python/ops/gen_array_ops.py\u001b[0m in \u001b[0;36mstrided_slice\u001b[0;34m(input, begin, end, strides, begin_mask, end_mask, ellipsis_mask, new_axis_mask, shrink_axis_mask, name)\u001b[0m\n\u001b[1;32m  10445\u001b[0m       \u001b[0;32mreturn\u001b[0m \u001b[0m_result\u001b[0m\u001b[0;34m\u001b[0m\u001b[0;34m\u001b[0m\u001b[0m\n\u001b[1;32m  10446\u001b[0m     \u001b[0;32mexcept\u001b[0m \u001b[0m_core\u001b[0m\u001b[0;34m.\u001b[0m\u001b[0m_NotOkStatusException\u001b[0m \u001b[0;32mas\u001b[0m \u001b[0me\u001b[0m\u001b[0;34m:\u001b[0m\u001b[0;34m\u001b[0m\u001b[0;34m\u001b[0m\u001b[0m\n\u001b[0;32m> 10447\u001b[0;31m       \u001b[0m_ops\u001b[0m\u001b[0;34m.\u001b[0m\u001b[0mraise_from_not_ok_status\u001b[0m\u001b[0;34m(\u001b[0m\u001b[0me\u001b[0m\u001b[0;34m,\u001b[0m \u001b[0mname\u001b[0m\u001b[0;34m)\u001b[0m\u001b[0;34m\u001b[0m\u001b[0;34m\u001b[0m\u001b[0m\n\u001b[0m\u001b[1;32m  10448\u001b[0m     \u001b[0;32mexcept\u001b[0m \u001b[0m_core\u001b[0m\u001b[0;34m.\u001b[0m\u001b[0m_FallbackException\u001b[0m\u001b[0;34m:\u001b[0m\u001b[0;34m\u001b[0m\u001b[0;34m\u001b[0m\u001b[0m\n\u001b[1;32m  10449\u001b[0m       \u001b[0;32mpass\u001b[0m\u001b[0;34m\u001b[0m\u001b[0;34m\u001b[0m\u001b[0m\n",
      "\u001b[0;32m/opt/conda/lib/python3.7/site-packages/tensorflow/python/framework/ops.py\u001b[0m in \u001b[0;36mraise_from_not_ok_status\u001b[0;34m(e, name)\u001b[0m\n\u001b[1;32m   6860\u001b[0m   \u001b[0mmessage\u001b[0m \u001b[0;34m=\u001b[0m \u001b[0me\u001b[0m\u001b[0;34m.\u001b[0m\u001b[0mmessage\u001b[0m \u001b[0;34m+\u001b[0m \u001b[0;34m(\u001b[0m\u001b[0;34m\" name: \"\u001b[0m \u001b[0;34m+\u001b[0m \u001b[0mname\u001b[0m \u001b[0;32mif\u001b[0m \u001b[0mname\u001b[0m \u001b[0;32mis\u001b[0m \u001b[0;32mnot\u001b[0m \u001b[0;32mNone\u001b[0m \u001b[0;32melse\u001b[0m \u001b[0;34m\"\"\u001b[0m\u001b[0;34m)\u001b[0m\u001b[0;34m\u001b[0m\u001b[0;34m\u001b[0m\u001b[0m\n\u001b[1;32m   6861\u001b[0m   \u001b[0;31m# pylint: disable=protected-access\u001b[0m\u001b[0;34m\u001b[0m\u001b[0;34m\u001b[0m\u001b[0;34m\u001b[0m\u001b[0m\n\u001b[0;32m-> 6862\u001b[0;31m   \u001b[0msix\u001b[0m\u001b[0;34m.\u001b[0m\u001b[0mraise_from\u001b[0m\u001b[0;34m(\u001b[0m\u001b[0mcore\u001b[0m\u001b[0;34m.\u001b[0m\u001b[0m_status_to_exception\u001b[0m\u001b[0;34m(\u001b[0m\u001b[0me\u001b[0m\u001b[0;34m.\u001b[0m\u001b[0mcode\u001b[0m\u001b[0;34m,\u001b[0m \u001b[0mmessage\u001b[0m\u001b[0;34m)\u001b[0m\u001b[0;34m,\u001b[0m \u001b[0;32mNone\u001b[0m\u001b[0;34m)\u001b[0m\u001b[0;34m\u001b[0m\u001b[0;34m\u001b[0m\u001b[0m\n\u001b[0m\u001b[1;32m   6863\u001b[0m   \u001b[0;31m# pylint: enable=protected-access\u001b[0m\u001b[0;34m\u001b[0m\u001b[0;34m\u001b[0m\u001b[0;34m\u001b[0m\u001b[0m\n\u001b[1;32m   6864\u001b[0m \u001b[0;34m\u001b[0m\u001b[0m\n",
      "\u001b[0;32m/opt/conda/lib/python3.7/site-packages/six.py\u001b[0m in \u001b[0;36mraise_from\u001b[0;34m(value, from_value)\u001b[0m\n",
      "\u001b[0;31mInvalidArgumentError\u001b[0m: Index out of range using input dim 0; input has only 0 dims [Op:StridedSlice] name: strided_slice/"
     ]
    }
   ],
   "source": [
    "# String as a tensor object with dtype==tf.string\n",
    "string = tf.constant(\"abc\", dtype=tf.string)\n",
    "print(\"String tensor: \", string)\n",
    "\n",
    "# String tensors are atomic and non-indexable. \n",
    "# This doen't work as expected!\n",
    "print(\"\\nAccessing second element of the string\")\n",
    "print(string[1])"
   ]
  },
  {
   "cell_type": "markdown",
   "id": "ancient-cleveland",
   "metadata": {
    "papermill": {
     "duration": 0.026858,
     "end_time": "2021-06-04T15:05:48.120184",
     "exception": false,
     "start_time": "2021-06-04T15:05:48.093326",
     "status": "completed"
    },
    "tags": []
   },
   "source": [
    "#### Ragged tensors\n",
    "In short, a tensor with variable numbers of elements along some axis."
   ]
  },
  {
   "cell_type": "code",
   "execution_count": 14,
   "id": "forbidden-monthly",
   "metadata": {
    "execution": {
     "iopub.execute_input": "2021-06-04T15:05:48.179089Z",
     "iopub.status.busy": "2021-06-04T15:05:48.178417Z",
     "iopub.status.idle": "2021-06-04T15:05:48.183139Z",
     "shell.execute_reply": "2021-06-04T15:05:48.182607Z",
     "shell.execute_reply.started": "2021-05-27T16:23:45.615215Z"
    },
    "papermill": {
     "duration": 0.036706,
     "end_time": "2021-06-04T15:05:48.183296",
     "exception": false,
     "start_time": "2021-06-04T15:05:48.146590",
     "status": "completed"
    },
    "tags": []
   },
   "outputs": [
    {
     "name": "stdout",
     "output_type": "stream",
     "text": [
      "Creating ragged tensor from python sequence:  <tf.RaggedTensor [[1, 2, 3], [4, 5], [6]]>\n"
     ]
    }
   ],
   "source": [
    "# This works!\n",
    "y = [[1, 2, 3],\n",
    "     [4, 5],\n",
    "     [6]\n",
    "    ]\n",
    "\n",
    "ragged = tf.ragged.constant(y)\n",
    "print(\"Creating ragged tensor from python sequence: \", ragged)"
   ]
  },
  {
   "cell_type": "code",
   "execution_count": 15,
   "id": "advised-sussex",
   "metadata": {
    "execution": {
     "iopub.execute_input": "2021-06-04T15:05:48.242972Z",
     "iopub.status.busy": "2021-06-04T15:05:48.242242Z",
     "iopub.status.idle": "2021-06-04T15:05:48.275467Z",
     "shell.execute_reply": "2021-06-04T15:05:48.276021Z",
     "shell.execute_reply.started": "2021-05-27T16:23:46.578616Z"
    },
    "papermill": {
     "duration": 0.065571,
     "end_time": "2021-06-04T15:05:48.276212",
     "exception": false,
     "start_time": "2021-06-04T15:05:48.210641",
     "status": "completed"
    },
    "tags": []
   },
   "outputs": [
    {
     "name": "stdout",
     "output_type": "stream",
     "text": [
      "Trying to create tensor from above python sequence\n"
     ]
    },
    {
     "ename": "ValueError",
     "evalue": "Can't convert non-rectangular Python sequence to Tensor.",
     "output_type": "error",
     "traceback": [
      "\u001b[0;31m---------------------------------------------------------------------------\u001b[0m",
      "\u001b[0;31mValueError\u001b[0m                                Traceback (most recent call last)",
      "\u001b[0;32m<ipython-input-15-7603641a726f>\u001b[0m in \u001b[0;36m<module>\u001b[0;34m\u001b[0m\n\u001b[1;32m      1\u001b[0m \u001b[0;31m# This won't work\u001b[0m\u001b[0;34m\u001b[0m\u001b[0;34m\u001b[0m\u001b[0;34m\u001b[0m\u001b[0m\n\u001b[1;32m      2\u001b[0m \u001b[0mprint\u001b[0m\u001b[0;34m(\u001b[0m\u001b[0;34m\"Trying to create tensor from above python sequence\"\u001b[0m\u001b[0;34m)\u001b[0m\u001b[0;34m\u001b[0m\u001b[0;34m\u001b[0m\u001b[0m\n\u001b[0;32m----> 3\u001b[0;31m \u001b[0mz\u001b[0m \u001b[0;34m=\u001b[0m \u001b[0mtf\u001b[0m\u001b[0;34m.\u001b[0m\u001b[0mconstant\u001b[0m\u001b[0;34m(\u001b[0m\u001b[0my\u001b[0m\u001b[0;34m)\u001b[0m\u001b[0;34m\u001b[0m\u001b[0;34m\u001b[0m\u001b[0m\n\u001b[0m",
      "\u001b[0;32m/opt/conda/lib/python3.7/site-packages/tensorflow/python/framework/constant_op.py\u001b[0m in \u001b[0;36mconstant\u001b[0;34m(value, dtype, shape, name)\u001b[0m\n\u001b[1;32m    263\u001b[0m   \"\"\"\n\u001b[1;32m    264\u001b[0m   return _constant_impl(value, dtype, shape, name, verify_shape=False,\n\u001b[0;32m--> 265\u001b[0;31m                         allow_broadcast=True)\n\u001b[0m\u001b[1;32m    266\u001b[0m \u001b[0;34m\u001b[0m\u001b[0m\n\u001b[1;32m    267\u001b[0m \u001b[0;34m\u001b[0m\u001b[0m\n",
      "\u001b[0;32m/opt/conda/lib/python3.7/site-packages/tensorflow/python/framework/constant_op.py\u001b[0m in \u001b[0;36m_constant_impl\u001b[0;34m(value, dtype, shape, name, verify_shape, allow_broadcast)\u001b[0m\n\u001b[1;32m    274\u001b[0m       \u001b[0;32mwith\u001b[0m \u001b[0mtrace\u001b[0m\u001b[0;34m.\u001b[0m\u001b[0mTrace\u001b[0m\u001b[0;34m(\u001b[0m\u001b[0;34m\"tf.constant\"\u001b[0m\u001b[0;34m)\u001b[0m\u001b[0;34m:\u001b[0m\u001b[0;34m\u001b[0m\u001b[0;34m\u001b[0m\u001b[0m\n\u001b[1;32m    275\u001b[0m         \u001b[0;32mreturn\u001b[0m \u001b[0m_constant_eager_impl\u001b[0m\u001b[0;34m(\u001b[0m\u001b[0mctx\u001b[0m\u001b[0;34m,\u001b[0m \u001b[0mvalue\u001b[0m\u001b[0;34m,\u001b[0m \u001b[0mdtype\u001b[0m\u001b[0;34m,\u001b[0m \u001b[0mshape\u001b[0m\u001b[0;34m,\u001b[0m \u001b[0mverify_shape\u001b[0m\u001b[0;34m)\u001b[0m\u001b[0;34m\u001b[0m\u001b[0;34m\u001b[0m\u001b[0m\n\u001b[0;32m--> 276\u001b[0;31m     \u001b[0;32mreturn\u001b[0m \u001b[0m_constant_eager_impl\u001b[0m\u001b[0;34m(\u001b[0m\u001b[0mctx\u001b[0m\u001b[0;34m,\u001b[0m \u001b[0mvalue\u001b[0m\u001b[0;34m,\u001b[0m \u001b[0mdtype\u001b[0m\u001b[0;34m,\u001b[0m \u001b[0mshape\u001b[0m\u001b[0;34m,\u001b[0m \u001b[0mverify_shape\u001b[0m\u001b[0;34m)\u001b[0m\u001b[0;34m\u001b[0m\u001b[0;34m\u001b[0m\u001b[0m\n\u001b[0m\u001b[1;32m    277\u001b[0m \u001b[0;34m\u001b[0m\u001b[0m\n\u001b[1;32m    278\u001b[0m   \u001b[0mg\u001b[0m \u001b[0;34m=\u001b[0m \u001b[0mops\u001b[0m\u001b[0;34m.\u001b[0m\u001b[0mget_default_graph\u001b[0m\u001b[0;34m(\u001b[0m\u001b[0;34m)\u001b[0m\u001b[0;34m\u001b[0m\u001b[0;34m\u001b[0m\u001b[0m\n",
      "\u001b[0;32m/opt/conda/lib/python3.7/site-packages/tensorflow/python/framework/constant_op.py\u001b[0m in \u001b[0;36m_constant_eager_impl\u001b[0;34m(ctx, value, dtype, shape, verify_shape)\u001b[0m\n\u001b[1;32m    299\u001b[0m \u001b[0;32mdef\u001b[0m \u001b[0m_constant_eager_impl\u001b[0m\u001b[0;34m(\u001b[0m\u001b[0mctx\u001b[0m\u001b[0;34m,\u001b[0m \u001b[0mvalue\u001b[0m\u001b[0;34m,\u001b[0m \u001b[0mdtype\u001b[0m\u001b[0;34m,\u001b[0m \u001b[0mshape\u001b[0m\u001b[0;34m,\u001b[0m \u001b[0mverify_shape\u001b[0m\u001b[0;34m)\u001b[0m\u001b[0;34m:\u001b[0m\u001b[0;34m\u001b[0m\u001b[0;34m\u001b[0m\u001b[0m\n\u001b[1;32m    300\u001b[0m   \u001b[0;34m\"\"\"Implementation of eager constant.\"\"\"\u001b[0m\u001b[0;34m\u001b[0m\u001b[0;34m\u001b[0m\u001b[0m\n\u001b[0;32m--> 301\u001b[0;31m   \u001b[0mt\u001b[0m \u001b[0;34m=\u001b[0m \u001b[0mconvert_to_eager_tensor\u001b[0m\u001b[0;34m(\u001b[0m\u001b[0mvalue\u001b[0m\u001b[0;34m,\u001b[0m \u001b[0mctx\u001b[0m\u001b[0;34m,\u001b[0m \u001b[0mdtype\u001b[0m\u001b[0;34m)\u001b[0m\u001b[0;34m\u001b[0m\u001b[0;34m\u001b[0m\u001b[0m\n\u001b[0m\u001b[1;32m    302\u001b[0m   \u001b[0;32mif\u001b[0m \u001b[0mshape\u001b[0m \u001b[0;32mis\u001b[0m \u001b[0;32mNone\u001b[0m\u001b[0;34m:\u001b[0m\u001b[0;34m\u001b[0m\u001b[0;34m\u001b[0m\u001b[0m\n\u001b[1;32m    303\u001b[0m     \u001b[0;32mreturn\u001b[0m \u001b[0mt\u001b[0m\u001b[0;34m\u001b[0m\u001b[0;34m\u001b[0m\u001b[0m\n",
      "\u001b[0;32m/opt/conda/lib/python3.7/site-packages/tensorflow/python/framework/constant_op.py\u001b[0m in \u001b[0;36mconvert_to_eager_tensor\u001b[0;34m(value, ctx, dtype)\u001b[0m\n\u001b[1;32m     96\u001b[0m       \u001b[0mdtype\u001b[0m \u001b[0;34m=\u001b[0m \u001b[0mdtypes\u001b[0m\u001b[0;34m.\u001b[0m\u001b[0mas_dtype\u001b[0m\u001b[0;34m(\u001b[0m\u001b[0mdtype\u001b[0m\u001b[0;34m)\u001b[0m\u001b[0;34m.\u001b[0m\u001b[0mas_datatype_enum\u001b[0m\u001b[0;34m\u001b[0m\u001b[0;34m\u001b[0m\u001b[0m\n\u001b[1;32m     97\u001b[0m   \u001b[0mctx\u001b[0m\u001b[0;34m.\u001b[0m\u001b[0mensure_initialized\u001b[0m\u001b[0;34m(\u001b[0m\u001b[0;34m)\u001b[0m\u001b[0;34m\u001b[0m\u001b[0;34m\u001b[0m\u001b[0m\n\u001b[0;32m---> 98\u001b[0;31m   \u001b[0;32mreturn\u001b[0m \u001b[0mops\u001b[0m\u001b[0;34m.\u001b[0m\u001b[0mEagerTensor\u001b[0m\u001b[0;34m(\u001b[0m\u001b[0mvalue\u001b[0m\u001b[0;34m,\u001b[0m \u001b[0mctx\u001b[0m\u001b[0;34m.\u001b[0m\u001b[0mdevice_name\u001b[0m\u001b[0;34m,\u001b[0m \u001b[0mdtype\u001b[0m\u001b[0;34m)\u001b[0m\u001b[0;34m\u001b[0m\u001b[0;34m\u001b[0m\u001b[0m\n\u001b[0m\u001b[1;32m     99\u001b[0m \u001b[0;34m\u001b[0m\u001b[0m\n\u001b[1;32m    100\u001b[0m \u001b[0;34m\u001b[0m\u001b[0m\n",
      "\u001b[0;31mValueError\u001b[0m: Can't convert non-rectangular Python sequence to Tensor."
     ]
    }
   ],
   "source": [
    "# This won't work\n",
    "print(\"Trying to create tensor from above python sequence\")\n",
    "z = tf.constant(y)"
   ]
  },
  {
   "cell_type": "markdown",
   "id": "parental-heritage",
   "metadata": {
    "papermill": {
     "duration": 0.0277,
     "end_time": "2021-06-04T15:05:48.331719",
     "exception": false,
     "start_time": "2021-06-04T15:05:48.304019",
     "status": "completed"
    },
    "tags": []
   },
   "source": [
    "#### Sparse tensors"
   ]
  },
  {
   "cell_type": "code",
   "execution_count": 16,
   "id": "complex-denver",
   "metadata": {
    "execution": {
     "iopub.execute_input": "2021-06-04T15:05:48.395867Z",
     "iopub.status.busy": "2021-06-04T15:05:48.394687Z",
     "iopub.status.idle": "2021-06-04T15:05:48.404404Z",
     "shell.execute_reply": "2021-06-04T15:05:48.403506Z",
     "shell.execute_reply.started": "2021-05-27T16:23:52.942347Z"
    },
    "papermill": {
     "duration": 0.044818,
     "end_time": "2021-06-04T15:05:48.404607",
     "exception": false,
     "start_time": "2021-06-04T15:05:48.359789",
     "status": "completed"
    },
    "tags": []
   },
   "outputs": [
    {
     "name": "stdout",
     "output_type": "stream",
     "text": [
      "SparseTensor(indices=tf.Tensor(\n",
      "[[0 0]\n",
      " [1 1]\n",
      " [2 2]], shape=(3, 2), dtype=int64), values=tf.Tensor([1 2 3], shape=(3,), dtype=int32), dense_shape=tf.Tensor([3 3], shape=(2,), dtype=int64))\n",
      "\n",
      " tf.Tensor(\n",
      "[[1 0 0]\n",
      " [0 2 0]\n",
      " [0 0 3]], shape=(3, 3), dtype=int32)\n"
     ]
    }
   ],
   "source": [
    "# Let's say you have a an array like this one\n",
    "# [[1 0 0]\n",
    "#  [0 2 0]\n",
    "#  [0 0 3]]\n",
    "# If there are too many zeros in your `huge` tensor, then it is wise to use `sparse`\n",
    "# tensors instead of `dense` one. Let's say how to create this one. We need to specify:\n",
    "# 1. Indices where our values are\n",
    "# 2. The values \n",
    "# 3. The actual shape\n",
    "\n",
    "sparse_tensor = tf.SparseTensor(indices=[[0, 0], [1, 1], [2, 2]],\n",
    "                                values=[1, 2, 3],\n",
    "                                dense_shape=[3, 3]\n",
    "                               )\n",
    "print(sparse_tensor)\n",
    "\n",
    "# You can convert sparse tensors to dense as well\n",
    "print(\"\\n\", tf.sparse.to_dense(sparse_tensor))"
   ]
  },
  {
   "cell_type": "markdown",
   "id": "caring-variance",
   "metadata": {
    "papermill": {
     "duration": 0.027676,
     "end_time": "2021-06-04T15:05:48.460879",
     "exception": false,
     "start_time": "2021-06-04T15:05:48.433203",
     "status": "completed"
    },
    "tags": []
   },
   "source": [
    "**Exercise for readers**:\n",
    "1. Create a random 10x10 sparse tensor\n",
    "2. Gather the elements that are > 5\n",
    "3. Update these elements with a value of 500"
   ]
  },
  {
   "cell_type": "markdown",
   "id": "artistic-stereo",
   "metadata": {
    "papermill": {
     "duration": 0.027379,
     "end_time": "2021-06-04T15:05:48.516034",
     "exception": false,
     "start_time": "2021-06-04T15:05:48.488655",
     "status": "completed"
    },
    "tags": []
   },
   "source": [
    "That's it for part 1! We will be looking at other things in the next tutorial!<br>\n",
    "\n",
    "\n",
    "**References**:\n",
    "1. https://www.tensorflow.org/guide/tensor\n",
    "2. https://keras.io/getting_started/intro_to_keras_for_researchers/\n",
    "\n",
    "\n",
    "Update: [Part-2](https://www.kaggle.com/aakashnain/tf-jax-tutorials-part2) is out!"
   ]
  },
  {
   "cell_type": "code",
   "execution_count": null,
   "id": "rental-marriage",
   "metadata": {
    "papermill": {
     "duration": 0.027241,
     "end_time": "2021-06-04T15:05:48.571284",
     "exception": false,
     "start_time": "2021-06-04T15:05:48.544043",
     "status": "completed"
    },
    "tags": []
   },
   "outputs": [],
   "source": []
  }
 ],
 "metadata": {
  "kernelspec": {
   "display_name": "Python 3",
   "language": "python",
   "name": "python3"
  },
  "language_info": {
   "codemirror_mode": {
    "name": "ipython",
    "version": 3
   },
   "file_extension": ".py",
   "mimetype": "text/x-python",
   "name": "python",
   "nbconvert_exporter": "python",
   "pygments_lexer": "ipython3",
   "version": "3.7.10"
  },
  "papermill": {
   "default_parameters": {},
   "duration": 17.89609,
   "end_time": "2021-06-04T15:05:49.974402",
   "environment_variables": {},
   "exception": null,
   "input_path": "__notebook__.ipynb",
   "output_path": "__notebook__.ipynb",
   "parameters": {},
   "start_time": "2021-06-04T15:05:32.078312",
   "version": "2.3.3"
  }
 },
 "nbformat": 4,
 "nbformat_minor": 5
}
