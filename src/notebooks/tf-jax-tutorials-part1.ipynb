{
 "cells": [
  {
   "cell_type": "markdown",
   "id": "packed-fishing",
   "metadata": {
    "papermill": {
     "duration": 0.022601,
     "end_time": "2021-06-11T17:53:33.841961",
     "exception": false,
     "start_time": "2021-06-11T17:53:33.819360",
     "status": "completed"
    },
    "tags": []
   },
   "source": [
    "\n",
    "\n",
    "<img src=\"https://i.ytimg.com/vi/yjprpOoH5c8/maxresdefault.jpg\" width=\"300\" height=\"300\" align=\"center\"/>"
   ]
  },
  {
   "cell_type": "code",
   "execution_count": 1,
   "id": "accessible-entity",
   "metadata": {
    "_cell_guid": "b1076dfc-b9ad-4769-8c92-a6c4dae69d19",
    "_uuid": "8f2839f25d086af736a60e9eeb907d3b93b6e0e5",
    "execution": {
     "iopub.execute_input": "2021-06-11T17:53:33.897542Z",
     "iopub.status.busy": "2021-06-11T17:53:33.896927Z",
     "iopub.status.idle": "2021-06-11T17:53:40.323858Z",
     "shell.execute_reply": "2021-06-11T17:53:40.324563Z",
     "shell.execute_reply.started": "2021-06-11T17:44:48.597953Z"
    },
    "papermill": {
     "duration": 6.460871,
     "end_time": "2021-06-11T17:53:40.324878",
     "exception": false,
     "start_time": "2021-06-11T17:53:33.864007",
     "status": "completed"
    },
    "scrolled": true,
    "tags": []
   },
   "outputs": [],
   "source": [
    "import numpy as np\n",
    "import tensorflow as tf\n",
    "from tensorflow import keras\n",
    "from tensorflow.keras import layers\n",
    "\n",
    "seed=1234\n",
    "np.random.seed(seed)\n",
    "tf.random.set_seed(seed)\n",
    "%config IPCompleter.use_jedi = False"
   ]
  },
  {
   "cell_type": "markdown",
   "id": "designed-aaron",
   "metadata": {
    "papermill": {
     "duration": 0.020574,
     "end_time": "2021-06-11T17:53:40.367126",
     "exception": false,
     "start_time": "2021-06-11T17:53:40.346552",
     "status": "completed"
    },
    "tags": []
   },
   "source": [
    "## Tensors\n",
    "\n",
    "What is a `Tensor` anyway?<br>\n",
    "Although the meaning of `Tensor` is much diverse than what we typically use in ML, whenever we say `tensor` in ML, we mean that it is a **`multi-dimensional array`** where all the values have a uniform `dtype`. There are many ways to create a TF tensor. We will take a look at a few of them, a few important ones."
   ]
  },
  {
   "cell_type": "markdown",
   "id": "narrative-thermal",
   "metadata": {
    "papermill": {
     "duration": 0.020817,
     "end_time": "2021-06-11T17:53:40.409141",
     "exception": false,
     "start_time": "2021-06-11T17:53:40.388324",
     "status": "completed"
    },
    "tags": []
   },
   "source": [
    "`tf.constant(..)`: This is the simplest way yet with some `gotchas` to create a tensor object. First, let's try to create a tensor with it, and then we will look at the gotchas later on."
   ]
  },
  {
   "cell_type": "code",
   "execution_count": 2,
   "id": "environmental-paint",
   "metadata": {
    "execution": {
     "iopub.execute_input": "2021-06-11T17:53:40.455328Z",
     "iopub.status.busy": "2021-06-11T17:53:40.454372Z",
     "iopub.status.idle": "2021-06-11T17:53:40.473422Z",
     "shell.execute_reply": "2021-06-11T17:53:40.472663Z",
     "shell.execute_reply.started": "2021-06-11T17:44:54.506267Z"
    },
    "papermill": {
     "duration": 0.043196,
     "end_time": "2021-06-11T17:53:40.473622",
     "exception": false,
     "start_time": "2021-06-11T17:53:40.430426",
     "status": "completed"
    },
    "tags": []
   },
   "outputs": [
    {
     "name": "stdout",
     "output_type": "stream",
     "text": [
      "tf.Tensor(5.0, shape=(), dtype=float32)\n"
     ]
    }
   ],
   "source": [
    "# A zero rank tensor. A zero rank tensor is nothing but a single value\n",
    "x = tf.constant(5.0)\n",
    "print(x)"
   ]
  },
  {
   "cell_type": "markdown",
   "id": "extraordinary-major",
   "metadata": {
    "papermill": {
     "duration": 0.021783,
     "end_time": "2021-06-11T17:53:40.520939",
     "exception": false,
     "start_time": "2021-06-11T17:53:40.499156",
     "status": "completed"
    },
    "tags": []
   },
   "source": [
    "As you can see above, that the tensor object has a `shape` and a `dtype`. There are other attributes/properties as well that are associated with a tensor object. \n",
    "\n",
    "\n",
    "1. Shape: The length (number of elements) of each of the axes of a tensor.\n",
    "2. Rank: Number of axes. For example, a matrix is a tensor of rank 2.\n",
    "3. Axis or Dimension: A particular dimension of a tensor.\n",
    "4. Size: The total number of items in the tensor."
   ]
  },
  {
   "cell_type": "code",
   "execution_count": 3,
   "id": "minus-shepherd",
   "metadata": {
    "execution": {
     "iopub.execute_input": "2021-06-11T17:53:40.589381Z",
     "iopub.status.busy": "2021-06-11T17:53:40.588722Z",
     "iopub.status.idle": "2021-06-11T17:53:40.592329Z",
     "shell.execute_reply": "2021-06-11T17:53:40.591813Z",
     "shell.execute_reply.started": "2021-06-11T17:45:20.131715Z"
    },
    "papermill": {
     "duration": 0.049282,
     "end_time": "2021-06-11T17:53:40.592483",
     "exception": false,
     "start_time": "2021-06-11T17:53:40.543201",
     "status": "completed"
    },
    "tags": []
   },
   "outputs": [
    {
     "name": "stdout",
     "output_type": "stream",
     "text": [
      "`y` is now a <class 'numpy.ndarray'> object and have a value == [1 2 3]\n"
     ]
    }
   ],
   "source": [
    "# We can convert any tensor object to `ndarray` by calling the `numpy()` method\n",
    "y = tf.constant([1, 2, 3], dtype=tf.int8).numpy()\n",
    "print(f\"`y` is now a {type(y)} object and have a value == {y}\")"
   ]
  },
  {
   "cell_type": "markdown",
   "id": "included-locking",
   "metadata": {
    "papermill": {
     "duration": 0.021817,
     "end_time": "2021-06-11T17:53:40.639060",
     "exception": false,
     "start_time": "2021-06-11T17:53:40.617243",
     "status": "completed"
    },
    "tags": []
   },
   "source": [
    "**A few important things along with some gotchas**<br>\n",
    "1. People confuse `tf.constant(..)` with an operation that creates a `constant` tensor. There is no such relation. This is related to how we embed a node in a `tf.Graph`\n",
    "2. Any tensor in TensorFlow is **immutable** by default i.e. you cannot change the values of a tensor once created. You always create a new one. This is different from `numpy` and `pytorch` where you can actually modify the values. We will see an example on this in a bit\n",
    "3. One of the closest member to `tf.constant` is the `tf.convert_to_tensor()` method with a few difference which we will see later on\n",
    "4. `tf.constant(..)` is just one of the many ways to create a tensor. There are many other methods as well"
   ]
  },
  {
   "cell_type": "code",
   "execution_count": 4,
   "id": "assigned-analyst",
   "metadata": {
    "execution": {
     "iopub.execute_input": "2021-06-11T17:53:40.691009Z",
     "iopub.status.busy": "2021-06-11T17:53:40.689861Z",
     "iopub.status.idle": "2021-06-11T17:53:40.694283Z",
     "shell.execute_reply": "2021-06-11T17:53:40.694971Z",
     "shell.execute_reply.started": "2021-06-11T17:46:58.030758Z"
    },
    "papermill": {
     "duration": 0.034107,
     "end_time": "2021-06-11T17:53:40.695191",
     "exception": false,
     "start_time": "2021-06-11T17:53:40.661084",
     "status": "completed"
    },
    "tags": []
   },
   "outputs": [
    {
     "name": "stdout",
     "output_type": "stream",
     "text": [
      "TypeError 'tensorflow.python.framework.ops.EagerTensor' object does not support item assignment\n"
     ]
    }
   ],
   "source": [
    "# Immutability check\n",
    "\n",
    "# Rank-1 tensor\n",
    "x = tf.constant([1, 2], dtype=tf.int8)\n",
    "\n",
    "# Try to modify the values\n",
    "try:\n",
    "    x[1] = 3\n",
    "except Exception as ex:\n",
    "    print(type(ex).__name__, ex)"
   ]
  },
  {
   "cell_type": "code",
   "execution_count": 5,
   "id": "applied-creature",
   "metadata": {
    "execution": {
     "iopub.execute_input": "2021-06-11T17:53:40.752731Z",
     "iopub.status.busy": "2021-06-11T17:53:40.752048Z",
     "iopub.status.idle": "2021-06-11T17:53:40.759888Z",
     "shell.execute_reply": "2021-06-11T17:53:40.759020Z",
     "shell.execute_reply.started": "2021-06-11T17:47:37.789464Z"
    },
    "papermill": {
     "duration": 0.037489,
     "end_time": "2021-06-11T17:53:40.760070",
     "exception": false,
     "start_time": "2021-06-11T17:53:40.722581",
     "status": "completed"
    },
    "tags": []
   },
   "outputs": [
    {
     "name": "stdout",
     "output_type": "stream",
     "text": [
      "tf.Tensor([1 1], shape=(2,), dtype=int8)\n",
      "\n",
      " TypeError 'tensorflow.python.framework.ops.EagerTensor' object does not support item assignment\n"
     ]
    }
   ],
   "source": [
    "# tf.constant(..) is no special. Let's create a tensor using a diff method\n",
    "x = tf.ones(2, dtype=tf.int8)\n",
    "print(x)\n",
    "\n",
    "try:\n",
    "    x[0] = 3\n",
    "except Exception as ex:\n",
    "    print(\"\\n\", type(ex).__name__, ex)"
   ]
  },
  {
   "cell_type": "code",
   "execution_count": 6,
   "id": "convertible-imperial",
   "metadata": {
    "execution": {
     "iopub.execute_input": "2021-06-11T17:53:40.816860Z",
     "iopub.status.busy": "2021-06-11T17:53:40.813738Z",
     "iopub.status.idle": "2021-06-11T17:53:40.821704Z",
     "shell.execute_reply": "2021-06-11T17:53:40.820783Z",
     "shell.execute_reply.started": "2021-06-11T17:47:46.129866Z"
    },
    "papermill": {
     "duration": 0.037238,
     "end_time": "2021-06-11T17:53:40.821864",
     "exception": false,
     "start_time": "2021-06-11T17:53:40.784626",
     "status": "completed"
    },
    "tags": []
   },
   "outputs": [
    {
     "name": "stdout",
     "output_type": "stream",
     "text": [
      "Shape of x : (2,)\n",
      "Another method to obtain the shape using `tf.shape(..)`: [2]\n",
      "\n",
      "Rank of the tensor: 1\n",
      "dtype of the tensor: <dtype: 'int8'>\n",
      "Total size of the tensor: 2\n",
      "Values of the tensor: [1 1]\n"
     ]
    }
   ],
   "source": [
    "# Check all the properties of a tensor object\n",
    "print(f\"Shape of x : {x.shape}\")\n",
    "print(f\"Another method to obtain the shape using `tf.shape(..)`: {tf.shape(x)}\")\n",
    "\n",
    "print(f\"\\nRank of the tensor: {x.ndim}\")\n",
    "print(f\"dtype of the tensor: {x.dtype}\")\n",
    "print(f\"Total size of the tensor: {tf.size(x)}\")\n",
    "print(f\"Values of the tensor: {x.numpy()}\")"
   ]
  },
  {
   "cell_type": "markdown",
   "id": "funded-accent",
   "metadata": {
    "papermill": {
     "duration": 0.023582,
     "end_time": "2021-06-11T17:53:40.869845",
     "exception": false,
     "start_time": "2021-06-11T17:53:40.846263",
     "status": "completed"
    },
    "tags": []
   },
   "source": [
    "Not able to do assignment in Tensor objects is a bit (more than bit TBH) frustrating. What's the solution then?<br>\n",
    "The best way that I have figured out, that has always worked for my use case is to create a mask or to use [tf.tensor_scatter_nd_update](https://www.tensorflow.org/api_docs/python/tf/tensor_scatter_nd_update). Let's look at an example.<br>\n",
    "\n",
    "Original tensor -> `[1, 2, 3, 4, 5]` <br>\n",
    "Output tensor we want -> `[1, 200, 3, 400, 5]`<br>"
   ]
  },
  {
   "cell_type": "code",
   "execution_count": 7,
   "id": "victorian-remove",
   "metadata": {
    "execution": {
     "iopub.execute_input": "2021-06-11T17:53:40.924272Z",
     "iopub.status.busy": "2021-06-11T17:53:40.923381Z",
     "iopub.status.idle": "2021-06-11T17:53:40.961751Z",
     "shell.execute_reply": "2021-06-11T17:53:40.960713Z",
     "shell.execute_reply.started": "2021-06-11T17:47:50.684372Z"
    },
    "papermill": {
     "duration": 0.069175,
     "end_time": "2021-06-11T17:53:40.961959",
     "exception": false,
     "start_time": "2021-06-11T17:53:40.892784",
     "status": "completed"
    },
    "tags": []
   },
   "outputs": [
    {
     "name": "stdout",
     "output_type": "stream",
     "text": [
      "Original tensor:  tf.Tensor([1. 2. 3. 4. 5.], shape=(5,), dtype=float32)\n",
      "Original mask:  tf.Tensor([False  True False  True False], shape=(5,), dtype=bool)\n",
      "Mask casted to original tensor type:  tf.Tensor([0. 1. 0. 1. 0.], shape=(5,), dtype=float32)\n",
      "Output tensor:  tf.Tensor([  1. 200.   3. 400.   5.], shape=(5,), dtype=float32)\n"
     ]
    }
   ],
   "source": [
    "# Create a tensor first. Here is another way\n",
    "x = tf.cast([1, 2, 3, 4, 5], dtype=tf.float32)\n",
    "print(\"Original tensor: \", x)\n",
    "\n",
    "mask = x%2 == 0\n",
    "print(\"Original mask: \", mask)\n",
    "\n",
    "mask = tf.cast(mask, dtype=x.dtype)\n",
    "print(\"Mask casted to original tensor type: \", mask)\n",
    "\n",
    "# Some kind of operation on an tensor that is of same size \n",
    "# or broadcastable to the original tensor. Here we will simply\n",
    "# use the range object to create that tensor\n",
    "temp = tf.cast(tf.range(1, 6) * 100, dtype=x.dtype)\n",
    "\n",
    "# Output tensor\n",
    "# Input tensor -> [1, 2, 3, 4, 5]\n",
    "# Mask -> [0, 1, 0, 1, 0]\n",
    "out = x * (1-mask) + mask * temp\n",
    "print(\"Output tensor: \", out)"
   ]
  },
  {
   "cell_type": "code",
   "execution_count": 8,
   "id": "arctic-penny",
   "metadata": {
    "execution": {
     "iopub.execute_input": "2021-06-11T17:53:41.016959Z",
     "iopub.status.busy": "2021-06-11T17:53:41.016258Z",
     "iopub.status.idle": "2021-06-11T17:53:41.041237Z",
     "shell.execute_reply": "2021-06-11T17:53:41.040663Z",
     "shell.execute_reply.started": "2021-06-11T17:47:52.674299Z"
    },
    "papermill": {
     "duration": 0.054312,
     "end_time": "2021-06-11T17:53:41.041413",
     "exception": false,
     "start_time": "2021-06-11T17:53:40.987101",
     "status": "completed"
    },
    "tags": []
   },
   "outputs": [
    {
     "name": "stdout",
     "output_type": "stream",
     "text": [
      "Indices to update:  tf.Tensor(\n",
      "[[1]\n",
      " [3]], shape=(2, 1), dtype=int64)\n",
      "\n",
      "Output tensor\n",
      "tf.Tensor([  1. 200.   3. 400.   5.], shape=(5,), dtype=float32)\n"
     ]
    }
   ],
   "source": [
    "# Another way to achieve the same thing\n",
    "indices_to_update = tf.where(x % 2 == 0)\n",
    "print(\"Indices to update: \", indices_to_update)\n",
    "\n",
    "# Update the tensor values\n",
    "updates = [200., 400.]\n",
    "out = tf.tensor_scatter_nd_update(x, indices_to_update, updates)\n",
    "print(\"\\nOutput tensor\")\n",
    "print(out)"
   ]
  },
  {
   "cell_type": "markdown",
   "id": "decreased-ladder",
   "metadata": {
    "papermill": {
     "duration": 0.023608,
     "end_time": "2021-06-11T17:53:41.088802",
     "exception": false,
     "start_time": "2021-06-11T17:53:41.065194",
     "status": "completed"
    },
    "tags": []
   },
   "source": [
    "Let's take a look at another interesting thing now."
   ]
  },
  {
   "cell_type": "code",
   "execution_count": 9,
   "id": "editorial-heritage",
   "metadata": {
    "execution": {
     "iopub.execute_input": "2021-06-11T17:53:41.144121Z",
     "iopub.status.busy": "2021-06-11T17:53:41.143407Z",
     "iopub.status.idle": "2021-06-11T17:53:41.147307Z",
     "shell.execute_reply": "2021-06-11T17:53:41.146673Z",
     "shell.execute_reply.started": "2021-06-11T17:47:55.031057Z"
    },
    "papermill": {
     "duration": 0.034138,
     "end_time": "2021-06-11T17:53:41.147444",
     "exception": false,
     "start_time": "2021-06-11T17:53:41.113306",
     "status": "completed"
    },
    "tags": []
   },
   "outputs": [
    {
     "name": "stdout",
     "output_type": "stream",
     "text": [
      "Numpy array:  [3 4 4 0 1]\n",
      "Accessing numpy array elements based on a  condition with irregular strides [4 1]\n"
     ]
    }
   ],
   "source": [
    "# This works!\n",
    "arr = np.random.randint(5, size=(5,), dtype=np.int32)\n",
    "print(\"Numpy array: \", arr)\n",
    "\n",
    "print(\"Accessing numpy array elements based on a  condition with irregular strides\", arr[[1, 4]])"
   ]
  },
  {
   "cell_type": "code",
   "execution_count": 10,
   "id": "educational-monkey",
   "metadata": {
    "execution": {
     "iopub.execute_input": "2021-06-11T17:53:41.202613Z",
     "iopub.status.busy": "2021-06-11T17:53:41.201933Z",
     "iopub.status.idle": "2021-06-11T17:53:41.209734Z",
     "shell.execute_reply": "2021-06-11T17:53:41.208920Z",
     "shell.execute_reply.started": "2021-06-11T17:48:34.895288Z"
    },
    "papermill": {
     "duration": 0.037518,
     "end_time": "2021-06-11T17:53:41.209880",
     "exception": false,
     "start_time": "2021-06-11T17:53:41.172362",
     "status": "completed"
    },
    "tags": []
   },
   "outputs": [
    {
     "name": "stdout",
     "output_type": "stream",
     "text": [
      "InvalidArgumentError Index out of range using input dim 1; input has only 1 dims [Op:StridedSlice] name: strided_slice/\n"
     ]
    }
   ],
   "source": [
    "# This doesn't work\n",
    "try:\n",
    "    print(\"Accessing tensor elements based on a  condition with irregular strides\", x[[1, 4]])\n",
    "except Exception as ex:\n",
    "    print(type(ex).__name__, ex)"
   ]
  },
  {
   "cell_type": "markdown",
   "id": "impressive-upset",
   "metadata": {
    "papermill": {
     "duration": 0.024182,
     "end_time": "2021-06-11T17:53:41.258896",
     "exception": false,
     "start_time": "2021-06-11T17:53:41.234714",
     "status": "completed"
    },
    "tags": []
   },
   "source": [
    "What now? If you want to extract multiple elements from a tensor with irregular strides, or not so well defined strides, then [tf.gather](https://www.tensorflow.org/api_docs/python/tf/gather) and [tf.gather_nd](https://www.tensorflow.org/api_docs/python/tf/gather_nd) are your friend. Let;s try it again! "
   ]
  },
  {
   "cell_type": "code",
   "execution_count": 11,
   "id": "worth-powell",
   "metadata": {
    "execution": {
     "iopub.execute_input": "2021-06-11T17:53:41.314620Z",
     "iopub.status.busy": "2021-06-11T17:53:41.313909Z",
     "iopub.status.idle": "2021-06-11T17:53:41.323285Z",
     "shell.execute_reply": "2021-06-11T17:53:41.322699Z",
     "shell.execute_reply.started": "2021-06-11T17:49:49.641119Z"
    },
    "papermill": {
     "duration": 0.0397,
     "end_time": "2021-06-11T17:53:41.323427",
     "exception": false,
     "start_time": "2021-06-11T17:53:41.283727",
     "status": "completed"
    },
    "tags": []
   },
   "outputs": [
    {
     "name": "stdout",
     "output_type": "stream",
     "text": [
      "Original tensor:  [1. 2. 3. 4. 5.]\n",
      "\n",
      "Indices to update:  [[1]\n",
      " [3]]\n",
      "\n",
      " Accesing tensor elements using gather\n",
      "\n",
      " [[2.]\n",
      " [4.]]\n"
     ]
    }
   ],
   "source": [
    "print(\"Original tensor: \", x.numpy())\n",
    "\n",
    "# Using the indices that we used for mask\n",
    "print(\"\\nIndices to update: \", indices_to_update.numpy())\n",
    "\n",
    "# This works!\n",
    "print(\"\\n Accesing tensor elements using gather\")\n",
    "print(\"\\n\", tf.gather(x, indices_to_update).numpy())"
   ]
  },
  {
   "cell_type": "markdown",
   "id": "violent-being",
   "metadata": {
    "papermill": {
     "duration": 0.025504,
     "end_time": "2021-06-11T17:53:41.377699",
     "exception": false,
     "start_time": "2021-06-11T17:53:41.352195",
     "status": "completed"
    },
    "tags": []
   },
   "source": [
    "There is another method `tf.convert_to_tensor(..)` to create a tensor. This is very similar to `tf.constant(..)` but with a few subtle differences:<br>\n",
    "1. Whenever you pass a non tf.Tensor object like a Python list or a ndarray to an op, `convert_to_tensor(..)` is always called automaically\n",
    "2. It doesn't take `shape` as an input argument.\n",
    "3. It allows to pass even `symbolic tensors`. We will take a look at it in a bit.\n",
    "\n",
    "When to use `tf.convert_to_tensor(..)`? It's up to your mental model! "
   ]
  },
  {
   "cell_type": "code",
   "execution_count": 12,
   "id": "pregnant-violin",
   "metadata": {
    "execution": {
     "iopub.execute_input": "2021-06-11T17:53:41.433514Z",
     "iopub.status.busy": "2021-06-11T17:53:41.432755Z",
     "iopub.status.idle": "2021-06-11T17:53:41.447677Z",
     "shell.execute_reply": "2021-06-11T17:53:41.448165Z",
     "shell.execute_reply.started": "2021-06-11T17:51:53.527681Z"
    },
    "papermill": {
     "duration": 0.045875,
     "end_time": "2021-06-11T17:53:41.448328",
     "exception": false,
     "start_time": "2021-06-11T17:53:41.402453",
     "status": "completed"
    },
    "tags": []
   },
   "outputs": [
    {
     "name": "stdout",
     "output_type": "stream",
     "text": [
      "Tensor from python list:  tf.Tensor([1 2 3], shape=(3,), dtype=int32)\n",
      "Tensor from ndarray:  tf.Tensor([1 2 3], shape=(3,), dtype=int64)\n",
      "Tensor from python list:  Tensor(\"Placeholder:0\", shape=(None, None, None), dtype=int32)\n"
     ]
    }
   ],
   "source": [
    "#  An example with a python list\n",
    "y = tf.convert_to_tensor([1, 2, 3])\n",
    "print(\"Tensor from python list: \", y)\n",
    "\n",
    "#  An example with a ndarray\n",
    "y = tf.convert_to_tensor(np.array([1, 2, 3]))\n",
    "print(\"Tensor from ndarray: \", y)\n",
    "\n",
    "#  An example with symbolic tensors\n",
    "with tf.compat.v1.Graph().as_default():\n",
    "    y = tf.convert_to_tensor(tf.compat.v1.placeholder(shape=[None, None, None], dtype=tf.int32))\n",
    "print(\"Tensor from python list: \", y)"
   ]
  },
  {
   "cell_type": "markdown",
   "id": "specified-behavior",
   "metadata": {
    "papermill": {
     "duration": 0.024239,
     "end_time": "2021-06-11T17:53:41.497340",
     "exception": false,
     "start_time": "2021-06-11T17:53:41.473101",
     "status": "completed"
    },
    "tags": []
   },
   "source": [
    "### Other kind of Tensor objects available"
   ]
  },
  {
   "cell_type": "markdown",
   "id": "active-response",
   "metadata": {
    "papermill": {
     "duration": 0.024259,
     "end_time": "2021-06-11T17:53:41.546284",
     "exception": false,
     "start_time": "2021-06-11T17:53:41.522025",
     "status": "completed"
    },
    "tags": []
   },
   "source": [
    "#### String tensors"
   ]
  },
  {
   "cell_type": "code",
   "execution_count": 13,
   "id": "interstate-croatia",
   "metadata": {
    "execution": {
     "iopub.execute_input": "2021-06-11T17:53:41.599281Z",
     "iopub.status.busy": "2021-06-11T17:53:41.598316Z",
     "iopub.status.idle": "2021-06-11T17:53:41.610789Z",
     "shell.execute_reply": "2021-06-11T17:53:41.609755Z",
     "shell.execute_reply.started": "2021-06-11T17:52:27.882169Z"
    },
    "papermill": {
     "duration": 0.040005,
     "end_time": "2021-06-11T17:53:41.610991",
     "exception": false,
     "start_time": "2021-06-11T17:53:41.570986",
     "status": "completed"
    },
    "tags": []
   },
   "outputs": [
    {
     "name": "stdout",
     "output_type": "stream",
     "text": [
      "String tensor:  tf.Tensor(b'abc', shape=(), dtype=string)\n",
      "\n",
      "Accessing second element of the string\n",
      "InvalidArgumentError Index out of range using input dim 0; input has only 0 dims [Op:StridedSlice] name: strided_slice/\n"
     ]
    }
   ],
   "source": [
    "# String as a tensor object with dtype==tf.string\n",
    "string = tf.constant(\"abc\", dtype=tf.string)\n",
    "print(\"String tensor: \", string)\n",
    "\n",
    "# String tensors are atomic and non-indexable. \n",
    "# This doen't work as expected!\n",
    "print(\"\\nAccessing second element of the string\")\n",
    "try:\n",
    "    print(string[1])\n",
    "except Exception as ex:\n",
    "    print(type(ex).__name__, ex)"
   ]
  },
  {
   "cell_type": "markdown",
   "id": "surgical-float",
   "metadata": {
    "papermill": {
     "duration": 0.02545,
     "end_time": "2021-06-11T17:53:41.663280",
     "exception": false,
     "start_time": "2021-06-11T17:53:41.637830",
     "status": "completed"
    },
    "tags": []
   },
   "source": [
    "#### Ragged tensors\n",
    "In short, a tensor with variable numbers of elements along some axis."
   ]
  },
  {
   "cell_type": "code",
   "execution_count": 14,
   "id": "pretty-fight",
   "metadata": {
    "execution": {
     "iopub.execute_input": "2021-06-11T17:53:41.721688Z",
     "iopub.status.busy": "2021-06-11T17:53:41.720933Z",
     "iopub.status.idle": "2021-06-11T17:53:41.723622Z",
     "shell.execute_reply": "2021-06-11T17:53:41.724297Z",
     "shell.execute_reply.started": "2021-06-11T17:52:38.319001Z"
    },
    "papermill": {
     "duration": 0.035471,
     "end_time": "2021-06-11T17:53:41.724525",
     "exception": false,
     "start_time": "2021-06-11T17:53:41.689054",
     "status": "completed"
    },
    "tags": []
   },
   "outputs": [
    {
     "name": "stdout",
     "output_type": "stream",
     "text": [
      "Creating ragged tensor from python sequence:  <tf.RaggedTensor [[1, 2, 3], [4, 5], [6]]>\n"
     ]
    }
   ],
   "source": [
    "# This works!\n",
    "y = [[1, 2, 3],\n",
    "     [4, 5],\n",
    "     [6]\n",
    "    ]\n",
    "\n",
    "ragged = tf.ragged.constant(y)\n",
    "print(\"Creating ragged tensor from python sequence: \", ragged)"
   ]
  },
  {
   "cell_type": "code",
   "execution_count": 15,
   "id": "bearing-harbor",
   "metadata": {
    "execution": {
     "iopub.execute_input": "2021-06-11T17:53:41.780360Z",
     "iopub.status.busy": "2021-06-11T17:53:41.779752Z",
     "iopub.status.idle": "2021-06-11T17:53:41.787101Z",
     "shell.execute_reply": "2021-06-11T17:53:41.786339Z",
     "shell.execute_reply.started": "2021-06-11T17:52:59.943590Z"
    },
    "papermill": {
     "duration": 0.035841,
     "end_time": "2021-06-11T17:53:41.787304",
     "exception": false,
     "start_time": "2021-06-11T17:53:41.751463",
     "status": "completed"
    },
    "tags": []
   },
   "outputs": [
    {
     "name": "stdout",
     "output_type": "stream",
     "text": [
      "Trying to create tensor from above python sequence\n",
      "\n",
      "ValueError Can't convert non-rectangular Python sequence to Tensor.\n"
     ]
    }
   ],
   "source": [
    "# This won't work\n",
    "print(\"Trying to create tensor from above python sequence\\n\")\n",
    "try:\n",
    "    z = tf.constant(y)\n",
    "except Exception as ex:\n",
    "    print(type(ex).__name__, ex)"
   ]
  },
  {
   "cell_type": "markdown",
   "id": "confused-sampling",
   "metadata": {
    "papermill": {
     "duration": 0.02553,
     "end_time": "2021-06-11T17:53:41.838752",
     "exception": false,
     "start_time": "2021-06-11T17:53:41.813222",
     "status": "completed"
    },
    "tags": []
   },
   "source": [
    "#### Sparse tensors"
   ]
  },
  {
   "cell_type": "code",
   "execution_count": 16,
   "id": "brutal-approach",
   "metadata": {
    "execution": {
     "iopub.execute_input": "2021-06-11T17:53:41.899750Z",
     "iopub.status.busy": "2021-06-11T17:53:41.898988Z",
     "iopub.status.idle": "2021-06-11T17:53:41.907771Z",
     "shell.execute_reply": "2021-06-11T17:53:41.908524Z",
     "shell.execute_reply.started": "2021-06-11T17:53:07.624199Z"
    },
    "papermill": {
     "duration": 0.043587,
     "end_time": "2021-06-11T17:53:41.908750",
     "exception": false,
     "start_time": "2021-06-11T17:53:41.865163",
     "status": "completed"
    },
    "tags": []
   },
   "outputs": [
    {
     "name": "stdout",
     "output_type": "stream",
     "text": [
      "SparseTensor(indices=tf.Tensor(\n",
      "[[0 0]\n",
      " [1 1]\n",
      " [2 2]], shape=(3, 2), dtype=int64), values=tf.Tensor([1 2 3], shape=(3,), dtype=int32), dense_shape=tf.Tensor([3 3], shape=(2,), dtype=int64))\n",
      "\n",
      " tf.Tensor(\n",
      "[[1 0 0]\n",
      " [0 2 0]\n",
      " [0 0 3]], shape=(3, 3), dtype=int32)\n"
     ]
    }
   ],
   "source": [
    "# Let's say you have a an array like this one\n",
    "# [[1 0 0]\n",
    "#  [0 2 0]\n",
    "#  [0 0 3]]\n",
    "# If there are too many zeros in your `huge` tensor, then it is wise to use `sparse`\n",
    "# tensors instead of `dense` one. Let's say how to create this one. We need to specify:\n",
    "# 1. Indices where our values are\n",
    "# 2. The values \n",
    "# 3. The actual shape\n",
    "\n",
    "sparse_tensor = tf.SparseTensor(indices=[[0, 0], [1, 1], [2, 2]],\n",
    "                                values=[1, 2, 3],\n",
    "                                dense_shape=[3, 3]\n",
    "                               )\n",
    "print(sparse_tensor)\n",
    "\n",
    "# You can convert sparse tensors to dense as well\n",
    "print(\"\\n\", tf.sparse.to_dense(sparse_tensor))"
   ]
  },
  {
   "cell_type": "markdown",
   "id": "hindu-divorce",
   "metadata": {
    "papermill": {
     "duration": 0.026559,
     "end_time": "2021-06-11T17:53:41.963403",
     "exception": false,
     "start_time": "2021-06-11T17:53:41.936844",
     "status": "completed"
    },
    "tags": []
   },
   "source": [
    "**Exercise for readers**:\n",
    "1. Create a random 10x10 sparse tensor\n",
    "2. Gather the elements that are > 5\n",
    "3. Update these elements with a value of 500"
   ]
  },
  {
   "cell_type": "markdown",
   "id": "terminal-drive",
   "metadata": {
    "papermill": {
     "duration": 0.027099,
     "end_time": "2021-06-11T17:53:42.017512",
     "exception": false,
     "start_time": "2021-06-11T17:53:41.990413",
     "status": "completed"
    },
    "tags": []
   },
   "source": [
    "That's it for part 1! We will be looking at other things in the next tutorial!<br>\n",
    "\n",
    "\n",
    "**References**:\n",
    "1. https://www.tensorflow.org/guide/tensor\n",
    "2. https://keras.io/getting_started/intro_to_keras_for_researchers/"
   ]
  },
  {
   "cell_type": "code",
   "execution_count": null,
   "id": "passing-spotlight",
   "metadata": {
    "papermill": {
     "duration": 0.026699,
     "end_time": "2021-06-11T17:53:42.070942",
     "exception": false,
     "start_time": "2021-06-11T17:53:42.044243",
     "status": "completed"
    },
    "tags": []
   },
   "outputs": [],
   "source": []
  }
 ],
 "metadata": {
  "kernelspec": {
   "display_name": "Python 3",
   "language": "python",
   "name": "python3"
  },
  "language_info": {
   "codemirror_mode": {
    "name": "ipython",
    "version": 3
   },
   "file_extension": ".py",
   "mimetype": "text/x-python",
   "name": "python",
   "nbconvert_exporter": "python",
   "pygments_lexer": "ipython3",
   "version": "3.8.10"
  },
  "papermill": {
   "default_parameters": {},
   "duration": 17.775834,
   "end_time": "2021-06-11T17:53:43.209063",
   "environment_variables": {},
   "exception": null,
   "input_path": "__notebook__.ipynb",
   "output_path": "__notebook__.ipynb",
   "parameters": {},
   "start_time": "2021-06-11T17:53:25.433229",
   "version": "2.3.3"
  }
 },
 "nbformat": 4,
 "nbformat_minor": 5
}
