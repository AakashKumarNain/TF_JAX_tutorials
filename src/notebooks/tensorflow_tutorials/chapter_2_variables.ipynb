{
 "cells": [
  {
   "cell_type": "markdown",
   "id": "isolated-hybrid",
   "metadata": {
    "papermill": {
     "duration": 0.018051,
     "end_time": "2021-06-24T07:18:11.158513",
     "exception": false,
     "start_time": "2021-06-24T07:18:11.140462",
     "status": "completed"
    },
    "tags": []
   },
   "source": [
    "\n",
    "\n",
    "<img src=\"https://i.ytimg.com/vi/yjprpOoH5c8/maxresdefault.jpg\" width=\"300\" height=\"300\" align=\"center\"/>"
   ]
  },
  {
   "cell_type": "code",
   "execution_count": 1,
   "id": "optimum-glenn",
   "metadata": {
    "_cell_guid": "b1076dfc-b9ad-4769-8c92-a6c4dae69d19",
    "_uuid": "8f2839f25d086af736a60e9eeb907d3b93b6e0e5",
    "execution": {
     "iopub.execute_input": "2021-06-24T07:18:11.205547Z",
     "iopub.status.busy": "2021-06-24T07:18:11.204821Z",
     "iopub.status.idle": "2021-06-24T07:18:18.309973Z",
     "shell.execute_reply": "2021-06-24T07:18:18.310824Z",
     "shell.execute_reply.started": "2021-06-06T07:18:17.553228Z"
    },
    "papermill": {
     "duration": 7.135774,
     "end_time": "2021-06-24T07:18:18.311233",
     "exception": false,
     "start_time": "2021-06-24T07:18:11.175459",
     "status": "completed"
    },
    "scrolled": true,
    "tags": []
   },
   "outputs": [],
   "source": [
    "import numpy as np\n",
    "import tensorflow as tf\n",
    "from tensorflow import keras\n",
    "from tensorflow.keras import layers\n",
    "\n",
    "seed=1234\n",
    "np.random.seed(seed)\n",
    "tf.random.set_seed(seed)\n",
    "%config IPCompleter.use_jedi = False"
   ]
  },
  {
   "cell_type": "markdown",
   "id": "concerned-drive",
   "metadata": {
    "papermill": {
     "duration": 0.016164,
     "end_time": "2021-06-24T07:18:18.344210",
     "exception": false,
     "start_time": "2021-06-24T07:18:18.328046",
     "status": "completed"
    },
    "tags": []
   },
   "source": [
    "In the last notebook, we read about the following:<br>\n",
    "1. Tensors\n",
    "2. Different ways of creating a tensor in TF\n",
    "3. Immutability in TF tensors\n",
    "4. Special operations like `tf.gather` and `tf.scatter`\n",
    "\n",
    "In this tutorial, we will be looking at another building block. \n",
    "\n",
    "## Variables\n",
    "\n",
    "A `Variable` is a \"special\" kind of tensor. It is used to represent or store the mutable state. A `tf.Variable` represents a tensor whose value can be changed by running ops on it. Think of a situation where you would use a `Variable` object? **Weights** of neural networks is one of the best examples of usages of Variables. \n",
    "\n",
    "We will first see how Variable objets are created, and then we will look into the properties and some of the gotchas"
   ]
  },
  {
   "cell_type": "markdown",
   "id": "hispanic-roller",
   "metadata": {
    "papermill": {
     "duration": 0.016165,
     "end_time": "2021-06-24T07:18:18.377366",
     "exception": false,
     "start_time": "2021-06-24T07:18:18.361201",
     "status": "completed"
    },
    "tags": []
   },
   "source": [
    "### Creating a Variable\n",
    "\n",
    "Good news! There is only one method that creates a `Variable` object: `tf.Variable(..)`"
   ]
  },
  {
   "cell_type": "code",
   "execution_count": 2,
   "id": "blessed-chassis",
   "metadata": {
    "execution": {
     "iopub.execute_input": "2021-06-24T07:18:18.414375Z",
     "iopub.status.busy": "2021-06-24T07:18:18.413607Z",
     "iopub.status.idle": "2021-06-24T07:18:18.456237Z",
     "shell.execute_reply": "2021-06-24T07:18:18.456762Z",
     "shell.execute_reply.started": "2021-06-03T18:13:40.049473Z"
    },
    "papermill": {
     "duration": 0.063139,
     "end_time": "2021-06-24T07:18:18.456959",
     "exception": false,
     "start_time": "2021-06-24T07:18:18.393820",
     "status": "completed"
    },
    "tags": []
   },
   "outputs": [
    {
     "data": {
      "text/plain": [
       "<tf.Variable 'Variable:0' shape=() dtype=int32, numpy=2>"
      ]
     },
     "execution_count": 2,
     "metadata": {},
     "output_type": "execute_result"
    }
   ],
   "source": [
    "# Variables with an integer value of 2 as initial value\n",
    "x = tf.Variable(2)\n",
    "x"
   ]
  },
  {
   "cell_type": "code",
   "execution_count": 3,
   "id": "international-franklin",
   "metadata": {
    "execution": {
     "iopub.execute_input": "2021-06-24T07:18:18.495393Z",
     "iopub.status.busy": "2021-06-24T07:18:18.494651Z",
     "iopub.status.idle": "2021-06-24T07:18:18.504443Z",
     "shell.execute_reply": "2021-06-24T07:18:18.505066Z",
     "shell.execute_reply.started": "2021-06-03T18:13:40.096739Z"
    },
    "papermill": {
     "duration": 0.030943,
     "end_time": "2021-06-24T07:18:18.505301",
     "exception": false,
     "start_time": "2021-06-24T07:18:18.474358",
     "status": "completed"
    },
    "tags": []
   },
   "outputs": [
    {
     "data": {
      "text/plain": [
       "<tf.Variable 'Variable:0' shape=(1, 2) dtype=int32, numpy=array([[2, 3]], dtype=int32)>"
      ]
     },
     "execution_count": 3,
     "metadata": {},
     "output_type": "execute_result"
    }
   ],
   "source": [
    "# Nested list as initial value\n",
    "y = tf.Variable([[2, 3]], dtype=tf.int32)\n",
    "y"
   ]
  },
  {
   "cell_type": "code",
   "execution_count": 4,
   "id": "fallen-belief",
   "metadata": {
    "execution": {
     "iopub.execute_input": "2021-06-24T07:18:18.544434Z",
     "iopub.status.busy": "2021-06-24T07:18:18.543631Z",
     "iopub.status.idle": "2021-06-24T07:18:18.552789Z",
     "shell.execute_reply": "2021-06-24T07:18:18.552258Z",
     "shell.execute_reply.started": "2021-06-03T18:13:40.111318Z"
    },
    "papermill": {
     "duration": 0.030215,
     "end_time": "2021-06-24T07:18:18.552947",
     "exception": false,
     "start_time": "2021-06-24T07:18:18.522732",
     "status": "completed"
    },
    "tags": []
   },
   "outputs": [
    {
     "data": {
      "text/plain": [
       "<tf.Variable 'Variable:0' shape=(2,) dtype=int32, numpy=array([2, 3], dtype=int32)>"
      ]
     },
     "execution_count": 4,
     "metadata": {},
     "output_type": "execute_result"
    }
   ],
   "source": [
    "# Tuples also work but beware it isn't the same as a nested list.\n",
    "# Check the difference between the current output and the previous cell output\n",
    "y = tf.Variable(((2, 3)), dtype=tf.int32)\n",
    "y"
   ]
  },
  {
   "cell_type": "code",
   "execution_count": 5,
   "id": "specific-jonathan",
   "metadata": {
    "execution": {
     "iopub.execute_input": "2021-06-24T07:18:18.597800Z",
     "iopub.status.busy": "2021-06-24T07:18:18.596793Z",
     "iopub.status.idle": "2021-06-24T07:18:18.601722Z",
     "shell.execute_reply": "2021-06-24T07:18:18.601162Z",
     "shell.execute_reply.started": "2021-06-03T18:13:55.247154Z"
    },
    "papermill": {
     "duration": 0.030631,
     "end_time": "2021-06-24T07:18:18.601884",
     "exception": false,
     "start_time": "2021-06-24T07:18:18.571253",
     "status": "completed"
    },
    "tags": []
   },
   "outputs": [
    {
     "data": {
      "text/plain": [
       "<tf.Variable 'Variable:0' shape=(2,) dtype=int32, numpy=array([1, 2], dtype=int32)>"
      ]
     },
     "execution_count": 5,
     "metadata": {},
     "output_type": "execute_result"
    }
   ],
   "source": [
    "# You can even pass a tensor object as an initial value\n",
    "t = tf.constant([1, 2,], dtype=tf.int32)\n",
    "z = tf.Variable(t)\n",
    "z"
   ]
  },
  {
   "cell_type": "code",
   "execution_count": 6,
   "id": "structured-damage",
   "metadata": {
    "execution": {
     "iopub.execute_input": "2021-06-24T07:18:18.646089Z",
     "iopub.status.busy": "2021-06-24T07:18:18.645314Z",
     "iopub.status.idle": "2021-06-24T07:18:18.673296Z",
     "shell.execute_reply": "2021-06-24T07:18:18.672553Z",
     "shell.execute_reply.started": "2021-06-03T19:04:11.140614Z"
    },
    "papermill": {
     "duration": 0.053626,
     "end_time": "2021-06-24T07:18:18.673491",
     "exception": false,
     "start_time": "2021-06-24T07:18:18.619865",
     "status": "completed"
    },
    "tags": []
   },
   "outputs": [
    {
     "name": "stdout",
     "output_type": "stream",
     "text": [
      "TypeError 'tensorflow.python.framework.ops.EagerTensor' object does not support item assignment\n",
      "TypeError 'ResourceVariable' object does not support item assignment\n",
      "\n",
      "Original variable:  <tf.Variable 'Variable:0' shape=(2,) dtype=int32, numpy=array([1, 2], dtype=int32)>\n",
      "Updated variable:  <tf.Variable 'Variable:0' shape=(2,) dtype=int32, numpy=array([5, 2], dtype=int32)>\n"
     ]
    }
   ],
   "source": [
    "# An interesting thing to note. \n",
    "# You can't change the values of the tensor `t` in the above example\n",
    "# but you can change the values of the variable created using it\n",
    "\n",
    "# This won't work\n",
    "try:\n",
    "    t[0] = 1\n",
    "except Exception as ex:\n",
    "    print(type(ex).__name__, ex)\n",
    "    \n",
    "# This also won't work\n",
    "try:\n",
    "    z[0] = 10\n",
    "except Exception as ex:\n",
    "    print(type(ex).__name__, ex)\n",
    "    \n",
    "# This works though\n",
    "print(\"\\nOriginal variable: \", z)\n",
    "z[0].assign(5)\n",
    "print(\"Updated variable: \", z)"
   ]
  },
  {
   "cell_type": "markdown",
   "id": "dependent-festival",
   "metadata": {
    "papermill": {
     "duration": 0.017901,
     "end_time": "2021-06-24T07:18:18.710107",
     "exception": false,
     "start_time": "2021-06-24T07:18:18.692206",
     "status": "completed"
    },
    "tags": []
   },
   "source": [
    "**A few things to note:**\n",
    "\n",
    "1. You can create a variable by passing an initial value which can be a `Tensor`, or Python object convertible to a `Tensor` \n",
    "2. The tensor object that you are passing is immutable but the variable created using it is mutable\n",
    "3. Variable is a `special` kind of tensor but the underlying data structure for both `tensors` and `variables` is `tf.Tensor`\n",
    "4. Since the data structure is the same, most of the properties for the two are same. We will take an example of this in a moment.\n",
    "5. Direct assignment (like z[0]=5) doesn't work with `tf.Variable` as well. For changing the values, you need to call the methods like `assign(...)`, `assign_add(...)` or `assign_sub(...)` \n",
    "6. Any Variable has the same lifecycle as any other Python object. When there are no references to a variable it is automatically deallocated."
   ]
  },
  {
   "cell_type": "code",
   "execution_count": 7,
   "id": "armed-canberra",
   "metadata": {
    "execution": {
     "iopub.execute_input": "2021-06-24T07:18:18.757090Z",
     "iopub.status.busy": "2021-06-24T07:18:18.756385Z",
     "iopub.status.idle": "2021-06-24T07:18:18.762690Z",
     "shell.execute_reply": "2021-06-24T07:18:18.762113Z",
     "shell.execute_reply.started": "2021-06-03T18:14:11.90033Z"
    },
    "papermill": {
     "duration": 0.033994,
     "end_time": "2021-06-24T07:18:18.762861",
     "exception": false,
     "start_time": "2021-06-24T07:18:18.728867",
     "status": "completed"
    },
    "tags": []
   },
   "outputs": [
    {
     "name": "stdout",
     "output_type": "stream",
     "text": [
      "Shape of variable : (2,)\n",
      "Another method to obtain the shape using `tf.shape(..)`: [2]\n",
      "dtype of the variable: <dtype: 'int32'>\n",
      "Total size of the variable: 2\n",
      "Values of the variable: [5 2]\n"
     ]
    }
   ],
   "source": [
    "# Most of the properties that we saw for tensors in part1 are the same for variables\n",
    "print(f\"Shape of variable : {z.shape}\")\n",
    "print(f\"Another method to obtain the shape using `tf.shape(..)`: {tf.shape(z)}\")\n",
    "\n",
    "print(f\"dtype of the variable: {z.dtype}\")\n",
    "print(f\"Total size of the variable: {tf.size(z)}\")\n",
    "print(f\"Values of the variable: {z.numpy()}\")"
   ]
  },
  {
   "cell_type": "code",
   "execution_count": 8,
   "id": "sought-vehicle",
   "metadata": {
    "execution": {
     "iopub.execute_input": "2021-06-24T07:18:18.806982Z",
     "iopub.status.busy": "2021-06-24T07:18:18.806033Z",
     "iopub.status.idle": "2021-06-24T07:18:19.149276Z",
     "shell.execute_reply": "2021-06-24T07:18:19.148510Z",
     "shell.execute_reply.started": "2021-06-03T18:15:52.150365Z"
    },
    "papermill": {
     "duration": 0.367793,
     "end_time": "2021-06-24T07:18:19.149462",
     "exception": false,
     "start_time": "2021-06-24T07:18:18.781669",
     "status": "completed"
    },
    "tags": []
   },
   "outputs": [
    {
     "ename": "AttributeError",
     "evalue": "'ResourceVariable' object has no attribute 'ndim'",
     "output_type": "error",
     "traceback": [
      "\u001b[0;31m---------------------------------------------------------------------------\u001b[0m",
      "\u001b[0;31mAttributeError\u001b[0m                            Traceback (most recent call last)",
      "\u001b[0;32m<ipython-input-8-add6497306f0>\u001b[0m in \u001b[0;36m<module>\u001b[0;34m\u001b[0m\n\u001b[1;32m      1\u001b[0m \u001b[0;31m#  This doesn't work though\u001b[0m\u001b[0;34m\u001b[0m\u001b[0;34m\u001b[0m\u001b[0;34m\u001b[0m\u001b[0m\n\u001b[0;32m----> 2\u001b[0;31m \u001b[0mprint\u001b[0m\u001b[0;34m(\u001b[0m\u001b[0;34mf\"Rank: {z.ndim}\"\u001b[0m\u001b[0;34m)\u001b[0m\u001b[0;34m\u001b[0m\u001b[0;34m\u001b[0m\u001b[0m\n\u001b[0m",
      "\u001b[0;31mAttributeError\u001b[0m: 'ResourceVariable' object has no attribute 'ndim'"
     ]
    }
   ],
   "source": [
    "#  This doesn't work though\n",
    "print(f\"Rank: {z.ndim}\")"
   ]
  },
  {
   "cell_type": "code",
   "execution_count": 9,
   "id": "structural-authorization",
   "metadata": {
    "execution": {
     "iopub.execute_input": "2021-06-24T07:18:19.195661Z",
     "iopub.status.busy": "2021-06-24T07:18:19.194521Z",
     "iopub.status.idle": "2021-06-24T07:18:19.198627Z",
     "shell.execute_reply": "2021-06-24T07:18:19.199428Z",
     "shell.execute_reply.started": "2021-06-03T18:16:06.860169Z"
    },
    "papermill": {
     "duration": 0.030982,
     "end_time": "2021-06-24T07:18:19.199706",
     "exception": false,
     "start_time": "2021-06-24T07:18:19.168724",
     "status": "completed"
    },
    "tags": []
   },
   "outputs": [
    {
     "name": "stdout",
     "output_type": "stream",
     "text": [
      "Rank: [2] or like this (2,)\n"
     ]
    }
   ],
   "source": [
    "# Crap! How to find out the no of dimensions then?\n",
    "print(f\"Rank: {tf.shape(z)} or like this {z.shape}\")"
   ]
  },
  {
   "cell_type": "code",
   "execution_count": 10,
   "id": "artistic-ability",
   "metadata": {
    "execution": {
     "iopub.execute_input": "2021-06-24T07:18:19.247686Z",
     "iopub.status.busy": "2021-06-24T07:18:19.246662Z",
     "iopub.status.idle": "2021-06-24T07:18:19.264550Z",
     "shell.execute_reply": "2021-06-24T07:18:19.263722Z",
     "shell.execute_reply.started": "2021-06-03T18:18:00.499717Z"
    },
    "papermill": {
     "duration": 0.044654,
     "end_time": "2021-06-24T07:18:19.264778",
     "exception": false,
     "start_time": "2021-06-24T07:18:19.220124",
     "status": "completed"
    },
    "tags": []
   },
   "outputs": [
    {
     "name": "stdout",
     "output_type": "stream",
     "text": [
      "Tensor t:  tf.Tensor([1 2], shape=(2,), dtype=int32)\n",
      "Variable z:  <tf.Variable 'Variable:0' shape=(2,) dtype=int32, numpy=array([1, 2], dtype=int32)>\n",
      "\n",
      "This works:  tf.Tensor([6 7], shape=(2,), dtype=int32)\n",
      "So does this:  tf.Tensor([6 7], shape=(2,), dtype=int32)\n",
      "Another example just for demonstration: [ 5 10], [ 5 10]\n"
     ]
    }
   ],
   "source": [
    "# Whatever operator overloading is available for a Tensor, is also available for a Variable\n",
    "# We have a tensor `t` and a varibale `z`. \n",
    "\n",
    "t = tf.constant([1, 2,], dtype=tf.int32)\n",
    "z = tf.Variable(t)\n",
    "print(\"Tensor t: \", t)\n",
    "print(\"Variable z: \", z)\n",
    "\n",
    "print(\"\\nThis works: \", (t+5))\n",
    "print(\"So does this: \", (z +5))\n",
    "\n",
    "print(f\"Another example just for demonstration: {(t*5).numpy()}, {(z*5).numpy()}\")"
   ]
  },
  {
   "cell_type": "code",
   "execution_count": 11,
   "id": "agreed-small",
   "metadata": {
    "execution": {
     "iopub.execute_input": "2021-06-24T07:18:19.314701Z",
     "iopub.status.busy": "2021-06-24T07:18:19.313912Z",
     "iopub.status.idle": "2021-06-24T07:18:19.323968Z",
     "shell.execute_reply": "2021-06-24T07:18:19.323257Z",
     "shell.execute_reply.started": "2021-06-03T18:18:07.234886Z"
    },
    "papermill": {
     "duration": 0.03894,
     "end_time": "2021-06-24T07:18:19.324133",
     "exception": false,
     "start_time": "2021-06-24T07:18:19.285193",
     "status": "completed"
    },
    "tags": []
   },
   "outputs": [
    {
     "data": {
      "text/plain": [
       "<tf.Tensor: shape=(1,), dtype=int32, numpy=array([2], dtype=int32)>"
      ]
     },
     "execution_count": 11,
     "metadata": {},
     "output_type": "execute_result"
    }
   ],
   "source": [
    "# Gather works as well\n",
    "tf.gather(z, indices=[1])"
   ]
  },
  {
   "cell_type": "code",
   "execution_count": 12,
   "id": "dietary-flash",
   "metadata": {
    "execution": {
     "iopub.execute_input": "2021-06-24T07:18:19.372251Z",
     "iopub.status.busy": "2021-06-24T07:18:19.371338Z",
     "iopub.status.idle": "2021-06-24T07:18:19.376297Z",
     "shell.execute_reply": "2021-06-24T07:18:19.375502Z",
     "shell.execute_reply.started": "2021-06-03T19:03:32.305895Z"
    },
    "papermill": {
     "duration": 0.032023,
     "end_time": "2021-06-24T07:18:19.376515",
     "exception": false,
     "start_time": "2021-06-24T07:18:19.344492",
     "status": "completed"
    },
    "tags": []
   },
   "outputs": [
    {
     "name": "stdout",
     "output_type": "stream",
     "text": [
      "Is variable z trainable?  True\n",
      "AttributeError 'tensorflow.python.framework.ops.EagerTensor' object has no attribute 'trainable'\n"
     ]
    }
   ],
   "source": [
    "# Here is another interesting difference between the properties of \n",
    "# a tensor and a variable\n",
    "\n",
    "try:\n",
    "    print(\"Is variable z trainable? \", z.trainable)\n",
    "    print(\"Is tensor t trainable? \", t.trainable)\n",
    "except Exception as ex:\n",
    "    print(type(ex).__name__, ex)"
   ]
  },
  {
   "cell_type": "markdown",
   "id": "available-paste",
   "metadata": {
    "papermill": {
     "duration": 0.021194,
     "end_time": "2021-06-24T07:18:19.419271",
     "exception": false,
     "start_time": "2021-06-24T07:18:19.398077",
     "status": "completed"
    },
    "tags": []
   },
   "source": [
    "Let's talk about a bit why `trainable` is an interesting property when it comes to a Variable object.\n",
    "1. Any variable is tracked by Gradient tape (if it's in the scope) automatically unless it isn't trainable\n",
    "2. Any variable that is defined within the scope of a class that inherits `tf.Module` is tracked automatically and can be collected via the `trainable_variables`, `variables`, or `submodule` property (More on this in the future notebooks)\n",
    "3. Sometimes we don't want the gradients for a certain Variable. In that case, we can turn off the tracking by setting `trainable=False`. One example for this can be a counter"
   ]
  },
  {
   "cell_type": "code",
   "execution_count": 13,
   "id": "changing-municipality",
   "metadata": {
    "execution": {
     "iopub.execute_input": "2021-06-24T07:18:19.472219Z",
     "iopub.status.busy": "2021-06-24T07:18:19.471227Z",
     "iopub.status.idle": "2021-06-24T07:18:19.481575Z",
     "shell.execute_reply": "2021-06-24T07:18:19.480895Z",
     "shell.execute_reply.started": "2021-06-03T18:53:25.362678Z"
    },
    "papermill": {
     "duration": 0.041948,
     "end_time": "2021-06-24T07:18:19.481757",
     "exception": false,
     "start_time": "2021-06-24T07:18:19.439809",
     "status": "completed"
    },
    "tags": []
   },
   "outputs": [
    {
     "name": "stdout",
     "output_type": "stream",
     "text": [
      "['x:0']\n"
     ]
    }
   ],
   "source": [
    "x = tf.Variable(2.0, name=\"x\")\n",
    "y = tf.Variable(4.0, trainable=False, name=\"y\")\n",
    "z = tf.Variable(6.0, name=\"z\")\n",
    "\n",
    "with tf.GradientTape() as tape:\n",
    "    x = x + 2\n",
    "    y = y + 5\n",
    "\n",
    "print([variable.name for variable in tape.watched_variables()])"
   ]
  },
  {
   "cell_type": "markdown",
   "id": "national-proceeding",
   "metadata": {
    "papermill": {
     "duration": 0.020268,
     "end_time": "2021-06-24T07:18:19.522987",
     "exception": false,
     "start_time": "2021-06-24T07:18:19.502719",
     "status": "completed"
    },
    "tags": []
   },
   "source": [
    "The biggest advantage with a variable is that the memory can be reused. You can modify the values without creating a new one, though there are certain things to keep in mind. Check this out"
   ]
  },
  {
   "cell_type": "code",
   "execution_count": 14,
   "id": "sexual-builder",
   "metadata": {
    "execution": {
     "iopub.execute_input": "2021-06-24T07:18:19.579473Z",
     "iopub.status.busy": "2021-06-24T07:18:19.574875Z",
     "iopub.status.idle": "2021-06-24T07:18:19.589449Z",
     "shell.execute_reply": "2021-06-24T07:18:19.588837Z",
     "shell.execute_reply.started": "2021-06-03T19:15:01.268024Z"
    },
    "papermill": {
     "duration": 0.045978,
     "end_time": "2021-06-24T07:18:19.589611",
     "exception": false,
     "start_time": "2021-06-24T07:18:19.543633",
     "status": "completed"
    },
    "tags": []
   },
   "outputs": [
    {
     "name": "stdout",
     "output_type": "stream",
     "text": [
      "Variable z:0:  <tf.Variable 'z:0' shape=(2,) dtype=int32, numpy=array([1, 2], dtype=int32)>\n",
      "\n",
      "Oh dear...what have you done!\n",
      "TypeError Cannot convert [1.0, 2.0] to EagerTensor of dtype int32\n",
      "\n",
      "Are you thinking clearly?\n",
      "ValueError Cannot assign to variable z:0 due to variable shape (2,) and value shape (3,) are incompatible\n",
      "\n",
      "Original Variable x:  <tf.Variable 'x:0' shape=<unknown> dtype=int32, numpy=5>\n",
      "Modified Variable x:  <tf.Variable 'x:0' shape=<unknown> dtype=int32, numpy=array([1, 2, 3], dtype=int32)>\n",
      "\n",
      "This works!!\n",
      "Variable value modified with a diff shape:  <tf.Variable 'x:0' shape=<unknown> dtype=int32, numpy=\n",
      "array([[1, 2, 3],\n",
      "       [4, 5, 6]], dtype=int32)>\n"
     ]
    }
   ],
   "source": [
    "# Create a variable instance\n",
    "z = tf.Variable([1, 2], dtype=tf.int32, name=\"z\")\n",
    "print(f\"Variable {z.name}: \", z)\n",
    "\n",
    "# Can we change the dtype while changing the values?\n",
    "try:\n",
    "    z.assign([1.0, 2.0])\n",
    "except Exception as ex:\n",
    "    print(\"\\nOh dear...what have you done!\")\n",
    "    print(type(ex).__name__, ex)\n",
    "    \n",
    "# Can we change the shape while assigning a new value?\n",
    "try:\n",
    "    z.assign([1, 2, 3])\n",
    "except Exception as ex:\n",
    "    print(\"\\nAre you thinking clearly?\")\n",
    "    print(type(ex).__name__, ex)\n",
    "    \n",
    "# A way to create variable with an arbitrary shape\n",
    "x = tf.Variable(5, dtype=tf.int32, shape=tf.TensorShape(None), name=\"x\")\n",
    "print(\"\\nOriginal Variable x: \", x)\n",
    "\n",
    "# Assign a proper value with a defined shape\n",
    "x.assign([1, 2, 3])\n",
    "print(\"Modified Variable x: \", x)\n",
    "\n",
    "# Try assigning a value with a diff shape now.\n",
    "try:\n",
    "    x.assign([[1, 2, 3], [4, 5, 6]])\n",
    "    print(\"\\nThis works!!\")\n",
    "    print(\"Variable value modified with a diff shape: \", x)\n",
    "except Exception as ex:\n",
    "    print(\"\\nDid you forget what we just learned?\")\n",
    "    print(type(ex).__name__, ex)"
   ]
  },
  {
   "cell_type": "markdown",
   "id": "nuclear-paint",
   "metadata": {
    "papermill": {
     "duration": 0.020902,
     "end_time": "2021-06-24T07:18:19.631695",
     "exception": false,
     "start_time": "2021-06-24T07:18:19.610793",
     "status": "completed"
    },
    "tags": []
   },
   "source": [
    "That's it for part 2! I hope you enjoyed reading it. We will be looking at other things k like `GradientTape` in the next tutorial!<br>\n",
    "\n",
    "**References**:\n",
    "1. https://www.tensorflow.org/guide/variable\n",
    "2. https://keras.io/getting_started/intro_to_keras_for_researchers/"
   ]
  },
  {
   "cell_type": "code",
   "execution_count": null,
   "id": "returning-therapy",
   "metadata": {
    "papermill": {
     "duration": 0.020587,
     "end_time": "2021-06-24T07:18:19.673357",
     "exception": false,
     "start_time": "2021-06-24T07:18:19.652770",
     "status": "completed"
    },
    "tags": []
   },
   "outputs": [],
   "source": []
  }
 ],
 "metadata": {
  "kernelspec": {
   "display_name": "Python 3",
   "language": "python",
   "name": "python3"
  },
  "language_info": {
   "codemirror_mode": {
    "name": "ipython",
    "version": 3
   },
   "file_extension": ".py",
   "mimetype": "text/x-python",
   "name": "python",
   "nbconvert_exporter": "python",
   "pygments_lexer": "ipython3",
   "version": "3.8.10"
  },
  "papermill": {
   "default_parameters": {},
   "duration": 20.088373,
   "end_time": "2021-06-24T07:18:21.805997",
   "environment_variables": {},
   "exception": null,
   "input_path": "__notebook__.ipynb",
   "output_path": "__notebook__.ipynb",
   "parameters": {},
   "start_time": "2021-06-24T07:18:01.717624",
   "version": "2.3.3"
  }
 },
 "nbformat": 4,
 "nbformat_minor": 5
}
