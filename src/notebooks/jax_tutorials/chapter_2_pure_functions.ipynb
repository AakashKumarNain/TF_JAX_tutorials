{
 "cells": [
  {
   "cell_type": "markdown",
   "id": "43c8971e",
   "metadata": {
    "_cell_guid": "b1076dfc-b9ad-4769-8c92-a6c4dae69d19",
    "_uuid": "8f2839f25d086af736a60e9eeb907d3b93b6e0e5",
    "papermill": {
     "duration": 0.013098,
     "end_time": "2021-07-31T10:21:34.100609",
     "exception": false,
     "start_time": "2021-07-31T10:21:34.087511",
     "status": "completed"
    },
    "tags": []
   },
   "source": [
    "<img src=\"https://raw.githubusercontent.com/google/jax/main/images/jax_logo_250px.png\" width=\"300\" height=\"300\" align=\"center\"/><br>\n",
    "\n",
    "I hope you all enjoyed the first JAX tutorial where we discussed **DeviceArray** and some other fundamental concepts in detail. This is the fifth tutorial in this series, and today we will discuss another important concept specific to JAX. If you haven't looked at the previous tutorials, I highly suggest going through them once. Here are the links:\n",
    "\n",
    "1. [TF_JAX_Tutorials - Part 1](https://www.kaggle.com/aakashnain/tf-jax-tutorials-part1)\n",
    "2. [TF_JAX_Tutorials - Part 2](https://www.kaggle.com/aakashnain/tf-jax-tutorials-part2)\n",
    "3. [TF_JAX_Tutorials - Part 3](https://www.kaggle.com/aakashnain/tf-jax-tutorials-part3)\n",
    "4. [TF_JAX_Tutorials - Part 4 (JAX and DeviceArray)](https://www.kaggle.com/aakashnain/tf-jax-tutorials-part-4-jax-and-devicearray)\n",
    "\n",
    "\n",
    "Without any further delay, let's jump in and talk about **pure functions** along with code examples"
   ]
  },
  {
   "cell_type": "markdown",
   "id": "a3881acd",
   "metadata": {
    "papermill": {
     "duration": 0.012324,
     "end_time": "2021-07-31T10:21:34.125253",
     "exception": false,
     "start_time": "2021-07-31T10:21:34.112929",
     "status": "completed"
    },
    "tags": []
   },
   "source": [
    "# Pure Functions\n",
    "\n",
    "According to [Wikipedia](https://en.wikipedia.org/wiki/Pure_function), a function is pure if:\n",
    "1. The function returns the same values when invoked with the same inputs\n",
    "2. There are no side effects observed on a function call\n",
    "\n",
    "Although the definition looks pretty simple, without examples it can be hard to comprehend and it can sound very vague (especially to the beginners). The first point is clear, but what does a **`side-effect`** mean? What constitutes or is marked as a side effect? What can you do to avoid side effects?\n",
    "\n",
    "Though I can state all the things here and you can try to \"fit\" them in your head to make sure that you aren't writing anything that has a side effect, I prefer taking examples so that everyone can understand the \"why\" part in an easier way. So, let's take a few examples and see some common mistakes that can create side effects"
   ]
  },
  {
   "cell_type": "code",
   "execution_count": 1,
   "id": "a7f98f81",
   "metadata": {
    "execution": {
     "iopub.execute_input": "2021-07-31T10:21:34.153801Z",
     "iopub.status.busy": "2021-07-31T10:21:34.152722Z",
     "iopub.status.idle": "2021-07-31T10:21:35.804601Z",
     "shell.execute_reply": "2021-07-31T10:21:35.803952Z",
     "shell.execute_reply.started": "2021-07-31T07:22:56.261463Z"
    },
    "papermill": {
     "duration": 1.667183,
     "end_time": "2021-07-31T10:21:35.804793",
     "exception": false,
     "start_time": "2021-07-31T10:21:34.137610",
     "status": "completed"
    },
    "tags": []
   },
   "outputs": [],
   "source": [
    "import numpy as np\n",
    "\n",
    "import jax\n",
    "import jax.numpy as jnp\n",
    "\n",
    "from jax import grad\n",
    "from jax import jit\n",
    "from jax import lax\n",
    "from jax import random\n",
    "\n",
    "%config IPCompleter.use_jedi = False"
   ]
  },
  {
   "cell_type": "markdown",
   "id": "eea5341a",
   "metadata": {
    "papermill": {
     "duration": 0.011998,
     "end_time": "2021-07-31T10:21:35.829446",
     "exception": false,
     "start_time": "2021-07-31T10:21:35.817448",
     "status": "completed"
    },
    "tags": []
   },
   "source": [
    "# Case 1 : Globals"
   ]
  },
  {
   "cell_type": "code",
   "execution_count": 2,
   "id": "8fd746f9",
   "metadata": {
    "execution": {
     "iopub.execute_input": "2021-07-31T10:21:35.859695Z",
     "iopub.status.busy": "2021-07-31T10:21:35.859081Z",
     "iopub.status.idle": "2021-07-31T10:21:35.861052Z",
     "shell.execute_reply": "2021-07-31T10:21:35.861485Z",
     "shell.execute_reply.started": "2021-07-31T07:22:59.123943Z"
    },
    "papermill": {
     "duration": 0.018879,
     "end_time": "2021-07-31T10:21:35.861667",
     "exception": false,
     "start_time": "2021-07-31T10:21:35.842788",
     "status": "completed"
    },
    "tags": []
   },
   "outputs": [],
   "source": [
    "# A global variable\n",
    "counter = 5\n",
    "\n",
    "def add_global_value(x):\n",
    "    \"\"\"\n",
    "    A function that relies on the global variable `counter` for\n",
    "    doing some computation.\n",
    "    \"\"\"\n",
    "    return x + counter"
   ]
  },
  {
   "cell_type": "code",
   "execution_count": 3,
   "id": "b590d75d",
   "metadata": {
    "execution": {
     "iopub.execute_input": "2021-07-31T10:21:35.889072Z",
     "iopub.status.busy": "2021-07-31T10:21:35.888457Z",
     "iopub.status.idle": "2021-07-31T10:21:36.106864Z",
     "shell.execute_reply": "2021-07-31T10:21:36.107347Z",
     "shell.execute_reply.started": "2021-07-31T07:23:00.109696Z"
    },
    "papermill": {
     "duration": 0.233429,
     "end_time": "2021-07-31T10:21:36.107529",
     "exception": false,
     "start_time": "2021-07-31T10:21:35.874100",
     "status": "completed"
    },
    "tags": []
   },
   "outputs": [
    {
     "name": "stdout",
     "output_type": "stream",
     "text": [
      "Global variable value:  5\n",
      "First call to the function with input 2 with global variable value 5 returned 7\n",
      "\n",
      "Global variable changed value:  10\n",
      "Second call to the function with input 2 with global variable value 10 returned 7\n"
     ]
    }
   ],
   "source": [
    "x = 2\n",
    "\n",
    "# We will `JIT` the function so that it runs as a JAX transformed\n",
    "# function and not like a normal python function\n",
    "y = jit(add_global_value)(x)\n",
    "print(\"Global variable value: \", counter)\n",
    "print(f\"First call to the function with input {x} with global variable value {counter} returned {y}\")\n",
    "\n",
    "# Someone updated the global value later in the code\n",
    "counter = 10\n",
    "\n",
    "# Call the function again\n",
    "y = jit(add_global_value)(x)\n",
    "print(\"\\nGlobal variable changed value: \", counter)\n",
    "print(f\"Second call to the function with input {x} with global variable value {counter} returned {y}\")"
   ]
  },
  {
   "cell_type": "markdown",
   "id": "a8324b3c",
   "metadata": {
    "papermill": {
     "duration": 0.012324,
     "end_time": "2021-07-31T10:21:36.132635",
     "exception": false,
     "start_time": "2021-07-31T10:21:36.120311",
     "status": "completed"
    },
    "tags": []
   },
   "source": [
    "Wait...What??? What just happened?\n",
    "\n",
    "When you `jit` your function, JAX tracing kicks in. On the first call, the results would be as expected, but on the subsequent function calls you will get the **`cached`** results unless:\n",
    "1. The type of the argument has changed or\n",
    "2. The shape of the argument has changed\n",
    "\n",
    "Let's see it in action"
   ]
  },
  {
   "cell_type": "code",
   "execution_count": 4,
   "id": "98121442",
   "metadata": {
    "execution": {
     "iopub.execute_input": "2021-07-31T10:21:36.160642Z",
     "iopub.status.busy": "2021-07-31T10:21:36.160016Z",
     "iopub.status.idle": "2021-07-31T10:21:36.176796Z",
     "shell.execute_reply": "2021-07-31T10:21:36.176304Z",
     "shell.execute_reply.started": "2021-07-31T07:23:30.980294Z"
    },
    "papermill": {
     "duration": 0.031751,
     "end_time": "2021-07-31T10:21:36.176954",
     "exception": false,
     "start_time": "2021-07-31T10:21:36.145203",
     "status": "completed"
    },
    "tags": []
   },
   "outputs": [
    {
     "name": "stdout",
     "output_type": "stream",
     "text": [
      "Third call to the function with input 2.0 with global variable value 10 returned 12.0\n"
     ]
    }
   ],
   "source": [
    "# Change the type of the argument passed to the function\n",
    "# In this case we will change int to float (2 -> 2.0)\n",
    "x = 2.0\n",
    "y = jit(add_global_value)(x)\n",
    "print(f\"Third call to the function with input {x} with global variable value {counter} returned {y}\")"
   ]
  },
  {
   "cell_type": "code",
   "execution_count": 5,
   "id": "bac777e3",
   "metadata": {
    "execution": {
     "iopub.execute_input": "2021-07-31T10:21:36.205798Z",
     "iopub.status.busy": "2021-07-31T10:21:36.205153Z",
     "iopub.status.idle": "2021-07-31T10:21:36.230833Z",
     "shell.execute_reply": "2021-07-31T10:21:36.231370Z",
     "shell.execute_reply.started": "2021-07-31T07:23:33.466016Z"
    },
    "papermill": {
     "duration": 0.041774,
     "end_time": "2021-07-31T10:21:36.231600",
     "exception": false,
     "start_time": "2021-07-31T10:21:36.189826",
     "status": "completed"
    },
    "tags": []
   },
   "outputs": [
    {
     "name": "stdout",
     "output_type": "stream",
     "text": [
      "Third call to the function with input [2] with global variable value 15 returned [17]\n"
     ]
    }
   ],
   "source": [
    "# Change the shape of the argument\n",
    "x = jnp.array([2])\n",
    "\n",
    "# Changing global variable value again\n",
    "counter = 15\n",
    "\n",
    "# Call the function again\n",
    "y = jit(add_global_value)(x)\n",
    "print(f\"Third call to the function with input {x} with global variable value {counter} returned {y}\")"
   ]
  },
  {
   "cell_type": "markdown",
   "id": "b458e72b",
   "metadata": {
    "papermill": {
     "duration": 0.013042,
     "end_time": "2021-07-31T10:21:36.258297",
     "exception": false,
     "start_time": "2021-07-31T10:21:36.245255",
     "status": "completed"
    },
    "tags": []
   },
   "source": [
    "What if I don't `jit` my function in the first place?  ¯\\_(ツ)_/¯ <br>\n",
    "Let's take an example of that as well. We are in no hurry!"
   ]
  },
  {
   "cell_type": "code",
   "execution_count": 6,
   "id": "9c92d1eb",
   "metadata": {
    "execution": {
     "iopub.execute_input": "2021-07-31T10:21:36.291118Z",
     "iopub.status.busy": "2021-07-31T10:21:36.290448Z",
     "iopub.status.idle": "2021-07-31T10:21:36.314257Z",
     "shell.execute_reply": "2021-07-31T10:21:36.313617Z",
     "shell.execute_reply.started": "2021-07-31T07:23:42.203998Z"
    },
    "papermill": {
     "duration": 0.042876,
     "end_time": "2021-07-31T10:21:36.314395",
     "exception": false,
     "start_time": "2021-07-31T10:21:36.271519",
     "status": "completed"
    },
    "tags": []
   },
   "outputs": [
    {
     "name": "stdout",
     "output_type": "stream",
     "text": [
      "Global variable value:  15\n",
      "First call to the function with global variable value 15 returned 0.20791170001029968\n",
      "\n",
      "Global variable value:  90\n",
      "Second call to the function with global variable value 90 returned 0.03489949554204941\n"
     ]
    }
   ],
   "source": [
    "def apply_sin_to_global():\n",
    "    return jnp.sin(jnp.pi / counter)\n",
    "\n",
    "y = apply_sin_to_global()\n",
    "print(\"Global variable value: \", counter)\n",
    "print(f\"First call to the function with global variable value {counter} returned {y}\")\n",
    "\n",
    "\n",
    "# Change the global value again\n",
    "counter = 90\n",
    "y = apply_sin_to_global()\n",
    "print(\"\\nGlobal variable value: \", counter)\n",
    "print(f\"Second call to the function with global variable value {counter} returned {y}\")"
   ]
  },
  {
   "cell_type": "markdown",
   "id": "9b8e4ea4",
   "metadata": {
    "papermill": {
     "duration": 0.012802,
     "end_time": "2021-07-31T10:21:36.340436",
     "exception": false,
     "start_time": "2021-07-31T10:21:36.327634",
     "status": "completed"
    },
    "tags": []
   },
   "source": [
    "*`Hooraaayy! Problem solved! You can use JIT, I won't!`*  If you are thinking in this direction, then it's time to remember two things:\n",
    "\n",
    "1. We are using JAX so that we can transform our native Python code to make it run **faster**\n",
    "2. We can achieve 1) if we compile (using it loosely here) the code so that it can run on **XLA**, the compiler used by JAX\n",
    "\n",
    "Hence, avoid using `globals` in your computation because globals introduce **impurity**"
   ]
  },
  {
   "cell_type": "markdown",
   "id": "1d2950c9",
   "metadata": {
    "papermill": {
     "duration": 0.012779,
     "end_time": "2021-07-31T10:21:36.366283",
     "exception": false,
     "start_time": "2021-07-31T10:21:36.353504",
     "status": "completed"
    },
    "tags": []
   },
   "source": [
    "# Case 2: Iterators\n",
    "\n",
    "We will take a very simple example to see the side effect. We will add numbers from `0 to 5` but in two different ways:\n",
    "1. Passing an actual array of numbers to a function\n",
    "2. Passing an **`iterator`** object to the same function"
   ]
  },
  {
   "cell_type": "code",
   "execution_count": 7,
   "id": "defc32b2",
   "metadata": {
    "execution": {
     "iopub.execute_input": "2021-07-31T10:21:36.401766Z",
     "iopub.status.busy": "2021-07-31T10:21:36.401085Z",
     "iopub.status.idle": "2021-07-31T10:21:36.477947Z",
     "shell.execute_reply": "2021-07-31T10:21:36.477457Z",
     "shell.execute_reply.started": "2021-07-31T07:24:37.288222Z"
    },
    "papermill": {
     "duration": 0.098648,
     "end_time": "2021-07-31T10:21:36.478123",
     "exception": false,
     "start_time": "2021-07-31T10:21:36.379475",
     "status": "completed"
    },
    "tags": []
   },
   "outputs": [
    {
     "name": "stdout",
     "output_type": "stream",
     "text": [
      "Array:  [0 1 2 3 4]\n",
      "Adding all the array elements gives:  10\n",
      "\n",
      "\n",
      "Iterator:  <iterator object at 0x7f373c3c5b50>\n",
      "Adding all the elements gives:  0\n"
     ]
    }
   ],
   "source": [
    "# A function that takes an actual array object\n",
    "# and add all the elements present in it\n",
    "def add_elements(array, start, end, initial_value=0):\n",
    "    res = 0\n",
    "    def loop_fn(i, val):\n",
    "        return val + array[i]\n",
    "    return lax.fori_loop(start, end, loop_fn, initial_value)\n",
    "\n",
    "\n",
    "# Define an array object\n",
    "array = jnp.arange(5)\n",
    "print(\"Array: \", array)\n",
    "print(\"Adding all the array elements gives: \", add_elements(array, 0, len(array), 0))\n",
    "\n",
    "\n",
    "# Redefining the same function but this time it takes an \n",
    "# iterator object as an input\n",
    "def add_elements(iterator, start, end, initial_value=0):\n",
    "    res = 0\n",
    "    def loop_fn(i, val):\n",
    "        return val + next(iterator)\n",
    "    return lax.fori_loop(start, end, loop_fn, initial_value)\n",
    "    \n",
    "    \n",
    "# Define an iterator\n",
    "iterator = iter(np.arange(5))\n",
    "print(\"\\n\\nIterator: \", iterator)\n",
    "print(\"Adding all the elements gives: \", add_elements(iterator, 0, 5, 0))"
   ]
  },
  {
   "cell_type": "markdown",
   "id": "f3ba0402",
   "metadata": {
    "papermill": {
     "duration": 0.013107,
     "end_time": "2021-07-31T10:21:36.504988",
     "exception": false,
     "start_time": "2021-07-31T10:21:36.491881",
     "status": "completed"
    },
    "tags": []
   },
   "source": [
    "Why the result turned out to be zero in the second case?<br>\n",
    "This is because an `iterator` introduces an **external state** to retrieve the next value."
   ]
  },
  {
   "cell_type": "markdown",
   "id": "e7cb19db",
   "metadata": {
    "papermill": {
     "duration": 0.013242,
     "end_time": "2021-07-31T10:21:36.531759",
     "exception": false,
     "start_time": "2021-07-31T10:21:36.518517",
     "status": "completed"
    },
    "tags": []
   },
   "source": [
    "# Case 3: IO\n",
    "\n",
    "Let's take one more example, a very **unusual** one that can turn your functions impure."
   ]
  },
  {
   "cell_type": "code",
   "execution_count": 8,
   "id": "e5d0a7a9",
   "metadata": {
    "execution": {
     "iopub.execute_input": "2021-07-31T10:21:36.565420Z",
     "iopub.status.busy": "2021-07-31T10:21:36.564723Z",
     "iopub.status.idle": "2021-07-31T10:21:36.567434Z",
     "shell.execute_reply": "2021-07-31T10:21:36.567926Z",
     "shell.execute_reply.started": "2021-07-31T07:25:13.633723Z"
    },
    "papermill": {
     "duration": 0.02267,
     "end_time": "2021-07-31T10:21:36.568138",
     "exception": false,
     "start_time": "2021-07-31T10:21:36.545468",
     "status": "completed"
    },
    "tags": []
   },
   "outputs": [
    {
     "name": "stdout",
     "output_type": "stream",
     "text": [
      "I have received the value\n",
      "Value returned on first call: 2\n",
      "\n",
      "Value returned on second call: 4\n"
     ]
    }
   ],
   "source": [
    "def return_as_it_is(x):\n",
    "    \"\"\"Returns the same element doing nothing. A function that isn't\n",
    "    using `globals` or any `iterator`\n",
    "    \"\"\"\n",
    "    print(f\"I have received the value\")\n",
    "    return x\n",
    "\n",
    "\n",
    "# First call to the function\n",
    "print(f\"Value returned on first call: {jit(return_as_it_is)(2)}\\n\")\n",
    "\n",
    "# Second call to the fucntion with different value\n",
    "print(f\"Value returned on second call: {jit(return_as_it_is)(4)}\")"
   ]
  },
  {
   "cell_type": "markdown",
   "id": "66242a9f",
   "metadata": {
    "papermill": {
     "duration": 0.013842,
     "end_time": "2021-07-31T10:21:36.596366",
     "exception": false,
     "start_time": "2021-07-31T10:21:36.582524",
     "status": "completed"
    },
    "tags": []
   },
   "source": [
    "Did you notice that? The statement **`I have received the value`** didn't get printed on the subsequent call. <br>\n",
    "At this point, most people would literally say `Well, this is insane! I am not using globals, no iterators, nothing at all and there is still a side effect? How is that even possible?`\n",
    "\n",
    "The thing is that your function is still **dependent** on an external state. The **print** statement! It is using the standard output stream to print. What if the stream isn't available on the subsequent calls for whatsoever reason? That will violate the first principle of \"returning the same thing\" when called with the same inputs.\n",
    "\n",
    "\n",
    "In a nutshell, to keep function pure, don't use anything that depends on an **external state**. The word **external** is important because you can use stateful objects internally and still keep the functions pure. Let's take an example of this as well"
   ]
  },
  {
   "cell_type": "markdown",
   "id": "25cb825e",
   "metadata": {
    "papermill": {
     "duration": 0.0142,
     "end_time": "2021-07-31T10:21:36.624824",
     "exception": false,
     "start_time": "2021-07-31T10:21:36.610624",
     "status": "completed"
    },
    "tags": []
   },
   "source": [
    "# Pure functions with stateful objects"
   ]
  },
  {
   "cell_type": "code",
   "execution_count": 9,
   "id": "e3b1bacc",
   "metadata": {
    "execution": {
     "iopub.execute_input": "2021-07-31T10:21:36.656573Z",
     "iopub.status.busy": "2021-07-31T10:21:36.655834Z",
     "iopub.status.idle": "2021-07-31T10:21:36.703270Z",
     "shell.execute_reply": "2021-07-31T10:21:36.703770Z",
     "shell.execute_reply.started": "2021-07-31T07:26:46.261035Z"
    },
    "papermill": {
     "duration": 0.064806,
     "end_time": "2021-07-31T10:21:36.704008",
     "exception": false,
     "start_time": "2021-07-31T10:21:36.639202",
     "status": "completed"
    },
    "tags": []
   },
   "outputs": [
    {
     "name": "stdout",
     "output_type": "stream",
     "text": [
      "Value returned on first call: {0: DeviceArray(10, dtype=int32), 1: DeviceArray(11, dtype=int32), 2: DeviceArray(12, dtype=int32), 3: DeviceArray(13, dtype=int32), 4: DeviceArray(14, dtype=int32)}\n",
      "\n",
      "Value returned on second call: {0: DeviceArray(10, dtype=int32), 1: DeviceArray(11, dtype=int32), 2: DeviceArray(12, dtype=int32), 3: DeviceArray(13, dtype=int32), 4: DeviceArray(14, dtype=int32)}\n"
     ]
    }
   ],
   "source": [
    "# Function that uses stateful objects but internally and is still pure\n",
    "def pure_function_with_stateful_obejcts(array):\n",
    "    array_dict = {}\n",
    "    for i in range(len(array)):\n",
    "        array_dict[i] = array[i] + 10\n",
    "    return array_dict\n",
    "\n",
    "\n",
    "array = jnp.arange(5)\n",
    "\n",
    "# First call to the function\n",
    "print(f\"Value returned on first call: {jit(pure_function_with_stateful_obejcts)(array)}\")\n",
    "\n",
    "# Second call to the fucntion with different value\n",
    "print(f\"\\nValue returned on second call: {jit(pure_function_with_stateful_obejcts)(array)}\")"
   ]
  },
  {
   "cell_type": "markdown",
   "id": "adcb3ca3",
   "metadata": {
    "papermill": {
     "duration": 0.013768,
     "end_time": "2021-07-31T10:21:36.732682",
     "exception": false,
     "start_time": "2021-07-31T10:21:36.718914",
     "status": "completed"
    },
    "tags": []
   },
   "source": [
    "So, to keep things **pure**, remember not to use anything inside a function that depends on any **external state**, including the IO as well. If you do that, transforming the function would give you unexpected results, and you would end up wasting a lot of time debugging your code when the transformed function returns a cached result, which is ironical because pure functions are easy to debug"
   ]
  },
  {
   "cell_type": "markdown",
   "id": "0e1d9610",
   "metadata": {
    "papermill": {
     "duration": 0.013661,
     "end_time": "2021-07-31T10:21:36.760454",
     "exception": false,
     "start_time": "2021-07-31T10:21:36.746793",
     "status": "completed"
    },
    "tags": []
   },
   "source": [
    "# Why pure functions?\n",
    "\n",
    "A natural question that comes to mind is that why JAX uses pure functions in the first place? No other framework like TensorFlow, PyTorch, mxnet, etc uses it. <br>\n",
    "Another thing that you must be thinking right is probably this: Using pure functions is such a headache, I never have to deal with these nuances in TF/Torch.\n",
    "\n",
    "Well, if you are thinking that, you aren't alone but before jumping to any conclusion, consider the advantages of relying on pure functions.\n",
    "\n",
    "### 1. Easy to debug\n",
    "\n",
    "The fact that a function is pure implies that you don't need to look beyond the scope of the pure function. All you need to focus on is the arguments, the logic inside the function, and the returned value. That's it! Same inputs => Same outputs\n",
    "\n",
    "\n",
    "### 2. Easy to parallelize\n",
    "\n",
    "Let's say you have three functions A, B, and C and there is a computation involved like this one:<br>\n",
    " <div style=\"font-style: italic; text-align: center;\">\n",
    " `res = A(x) + B(y) + C(z)` <br>\n",
    " </div>\n",
    " \n",
    "Because all the functions are pure, you don't have to worry about the dependency on an external state or a shared state. There is no dependency between A, B, and C in terms of how are they executed. Each function receives some argument and returns the same output. Hence you can easily offload the computation to many threads, cores, devices, etc. The only thing that the compiler has to ensure that the results of all the functions (A, b, and C in this case) are available before item assignment\n",
    "\n",
    "\n",
    "### 3. Caching or Memoization\n",
    "\n",
    "We saw in the above examples that once we compile a pure function, the function will return a cached result on the subsequent calls. We can cache the results of the transformed functions to make the whole program a lot faster\n",
    "\n",
    "\n",
    "### 4. Functional Composition\n",
    "\n",
    "When functions are pure, you can `chain` them to solve complex things in a much easier way. For example, in JAX you will see these patterns very often:\n",
    "<div style=\"font-style: italic; text-align: center;\">\n",
    "jit(vmap(grad(..)))\n",
    "</div>\n",
    "\n",
    "### 5. Referential transparency\n",
    "\n",
    "An expression is called referentially transparent if it can be replaced with its corresponding value (and vice-versa) without changing the program's behavior. This can only be achieved when the function is pure. It is especially helpful when doing algebra (which is all we do in ML). For example, consider the expression<br>\n",
    " <div style=\"font-style: italic; text-align: center;\">\n",
    "  x = 5 <br>\n",
    "  y = 5 <br> \n",
    " z = x + y <br>\n",
    " </div>\n",
    " \n",
    " Now you can replace `x + y` with `z` anywhere in your code, considering the value of `z` is coming from a pure function"
   ]
  },
  {
   "cell_type": "markdown",
   "id": "a103c2d1",
   "metadata": {
    "papermill": {
     "duration": 0.013683,
     "end_time": "2021-07-31T10:21:36.788374",
     "exception": false,
     "start_time": "2021-07-31T10:21:36.774691",
     "status": "completed"
    },
    "tags": []
   },
   "source": [
    "That's it for Part-5! We will look into other building blocks in the next few chapters, and then we will dive into building neural networks in JAX! \n",
    "\n",
    "**References:**<br>\n",
    "1. https://jax.readthedocs.io/en/latest/\n",
    "2. https://alvinalexander.com/scala/fp-book/benefits-of-pure-functions/\n",
    "3. https://www.sitepoint.com/what-is-referential-transparency/#referentialtransparencyinmaths"
   ]
  },
  {
   "cell_type": "code",
   "execution_count": null,
   "id": "f305b380",
   "metadata": {
    "papermill": {
     "duration": 0.013758,
     "end_time": "2021-07-31T10:21:36.816183",
     "exception": false,
     "start_time": "2021-07-31T10:21:36.802425",
     "status": "completed"
    },
    "tags": []
   },
   "outputs": [],
   "source": []
  }
 ],
 "metadata": {
  "kernelspec": {
   "display_name": "Python 3",
   "language": "python",
   "name": "python3"
  },
  "language_info": {
   "codemirror_mode": {
    "name": "ipython",
    "version": 3
   },
   "file_extension": ".py",
   "mimetype": "text/x-python",
   "name": "python",
   "nbconvert_exporter": "python",
   "pygments_lexer": "ipython3",
   "version": "3.7.10"
  },
  "papermill": {
   "default_parameters": {},
   "duration": 11.890622,
   "end_time": "2021-07-31T10:21:38.166234",
   "environment_variables": {},
   "exception": null,
   "input_path": "__notebook__.ipynb",
   "output_path": "__notebook__.ipynb",
   "parameters": {},
   "start_time": "2021-07-31T10:21:26.275612",
   "version": "2.3.3"
  }
 },
 "nbformat": 4,
 "nbformat_minor": 5
}
