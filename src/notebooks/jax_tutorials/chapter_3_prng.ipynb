{
 "cells": [
  {
   "cell_type": "markdown",
   "id": "97a1fd5c",
   "metadata": {
    "_cell_guid": "b1076dfc-b9ad-4769-8c92-a6c4dae69d19",
    "_uuid": "8f2839f25d086af736a60e9eeb907d3b93b6e0e5",
    "papermill": {
     "duration": 0.024651,
     "end_time": "2021-08-17T10:13:29.189762",
     "exception": false,
     "start_time": "2021-08-17T10:13:29.165111",
     "status": "completed"
    },
    "tags": []
   },
   "source": [
    "<img src=\"https://raw.githubusercontent.com/google/jax/main/images/jax_logo_250px.png\" width=\"300\" height=\"300\" align=\"center\"/><br>\n",
    "\n",
    "Welcome to another JAX tutorial. Till now, we have discussed **DeviceArray** and **Pure Functions** in JAX. Today, we will dive\n",
    "into another important concept **`Pseudo Random Number Generation`** in JAX. We all have been using `random numbers` in libraries\n",
    "like `numpy`, `scikit-learn`, `TensorFlow`, `PyTorch`, etc. We will see how PRNGs, as done in `numpy`, are not good enough and how JAXtries to overcome those limitations.\n",
    "\n",
    "As usual, if you haven't gone through the previous tutorials, I highly suggest going through them. Here are the links:\n",
    "\n",
    "1. [TF_JAX_Tutorials - Part 1](https://www.kaggle.com/aakashnain/tf-jax-tutorials-part1)\n",
    "2. [TF_JAX_Tutorials - Part 2](https://www.kaggle.com/aakashnain/tf-jax-tutorials-part2)\n",
    "3. [TF_JAX_Tutorials - Part 3](https://www.kaggle.com/aakashnain/tf-jax-tutorials-part3)\n",
    "4. [TF_JAX_Tutorials - Part 4 (JAX and DeviceArray)](https://www.kaggle.com/aakashnain/tf-jax-tutorials-part-4-jax-and-devicearray)\n",
    "5. [TF_JAX_Tutorials - Part 5 (Pure Functions in JAX)](https://www.kaggle.com/aakashnain/tf-jax-tutorials-part-5-pure-functions-in-jax/)\n",
    "\n",
    "\n",
    "Lets' start with the basic concepts of PRNGs first, and then we will look into the implementation differences between `numpy` and JAX for the same"
   ]
  },
  {
   "cell_type": "markdown",
   "id": "ed5391b7",
   "metadata": {
    "papermill": {
     "duration": 0.023314,
     "end_time": "2021-08-17T10:13:29.236987",
     "exception": false,
     "start_time": "2021-08-17T10:13:29.213673",
     "status": "completed"
    },
    "tags": []
   },
   "source": [
    "# PRNG - An Introduction\n",
    "\n",
    "Before we look into random numbers generation, here are a few questions that you should ask:<br>\n",
    "1. What is PRNG?\n",
    "2. What is PRNG used for?\n",
    "3. Why should you care about PRNG?\n",
    "\n",
    "\n",
    "Let's tackle those questions one by one and try to understand the `why` and `how` for the things that we are going to learn in this tutorial"
   ]
  },
  {
   "cell_type": "markdown",
   "id": "715f8c8a",
   "metadata": {
    "papermill": {
     "duration": 0.023166,
     "end_time": "2021-08-17T10:13:29.283544",
     "exception": false,
     "start_time": "2021-08-17T10:13:29.260378",
     "status": "completed"
    },
    "tags": []
   },
   "source": [
    "## What is PRNG?\n",
    "\n",
    "If we go by the definition, then **`Pseudo Random Number Generation`** is a process of generating a sequence of random numbers **algorithmically** such that the properties of the generated random numbers approximate the properties of a sequence of random numbers sampled from an appropriate distribution. And when we say `random`, it means that the probability of predicting this sequence is no better than a random guess.\n",
    "\n",
    "Although we are concerned about the randomness here, pseudo random number generation isn't *truly* a random process. Why? Because the sequence is determined by the initial value or initial state provided to the algorithm. The **algorithm** used to generate these sequences of random numbers is known as **`Pseudo Random Number Generator`**\n",
    "\n",
    "\n",
    "## What is PRNG used for?\n",
    "\n",
    "PRNG has a lot of use cases but among the most interesting ones are in `Cryptography`, `Simulations`, `Games`, `Data Science and Machine Learning`(of course), etc. You might have noticed that *most* people set the **`seed`** in their Data Science and Machine Learning workflow. The **seed** is known as the initial value!\n",
    "\n",
    "\n",
    "## Why should you care about PRNG?\n",
    "\n",
    "Although there are tons of use cases of PRNG, I would keep this very specific to Data Science and Machine Learning workflow. When we set a seed, what we try to solve is the `reproducibility` issue. Although `reproducibility` depends on a lot of things, I will use the term very loosely in this context. \n",
    "\n",
    "We deal with random states in Machine Learning work more often than we think about. For example, splitting a dataset into training and validation sets, sampling the weights of a hidden layer from a given distribution in a neural network, sampling a noise vector from a Gaussian distribution, etc. So, when we say `reproducible` in this context, what we mean is that no matter how many times I run the same process, I should get the same sequence of random numbers. That's why setting a seed becomes important. \n",
    "\n",
    "**Note:** Saying it again, setting `seed` doesn't solve the reproducibility crisis of a workflow, it's just a first step to ensure it.\n",
    "\n",
    "Let's take an example to clear the point about reproducibility!"
   ]
  },
  {
   "cell_type": "code",
   "execution_count": 1,
   "id": "1c55a269",
   "metadata": {
    "execution": {
     "iopub.execute_input": "2021-08-17T10:13:29.339360Z",
     "iopub.status.busy": "2021-08-17T10:13:29.338710Z",
     "iopub.status.idle": "2021-08-17T10:13:31.149566Z",
     "shell.execute_reply": "2021-08-17T10:13:31.148828Z",
     "shell.execute_reply.started": "2021-08-17T10:11:59.806276Z"
    },
    "papermill": {
     "duration": 1.842635,
     "end_time": "2021-08-17T10:13:31.149805",
     "exception": false,
     "start_time": "2021-08-17T10:13:29.307170",
     "status": "completed"
    },
    "tags": []
   },
   "outputs": [],
   "source": [
    "import numpy as np\n",
    "from joblib import Parallel, delayed\n",
    "\n",
    "import jax\n",
    "from jax import jit\n",
    "import jax.numpy as jnp\n",
    "\n",
    "%config IPCompleter.use_jedi = False"
   ]
  },
  {
   "cell_type": "markdown",
   "id": "9b2c36d0",
   "metadata": {
    "papermill": {
     "duration": 0.024039,
     "end_time": "2021-08-17T10:13:31.198640",
     "exception": false,
     "start_time": "2021-08-17T10:13:31.174601",
     "status": "completed"
    },
    "tags": []
   },
   "source": [
    "# Random Numbers in Numpy"
   ]
  },
  {
   "cell_type": "code",
   "execution_count": 2,
   "id": "84e2f666",
   "metadata": {
    "execution": {
     "iopub.execute_input": "2021-08-17T10:13:31.253007Z",
     "iopub.status.busy": "2021-08-17T10:13:31.252253Z",
     "iopub.status.idle": "2021-08-17T10:13:31.257999Z",
     "shell.execute_reply": "2021-08-17T10:13:31.257473Z",
     "shell.execute_reply.started": "2021-08-17T10:12:01.219186Z"
    },
    "papermill": {
     "duration": 0.035133,
     "end_time": "2021-08-17T10:13:31.258141",
     "exception": false,
     "start_time": "2021-08-17T10:13:31.223008",
     "status": "completed"
    },
    "tags": []
   },
   "outputs": [
    {
     "name": "stdout",
     "output_type": "stream",
     "text": [
      "Seed: 0 -> Random number generated: 4\n",
      "Seed: 0 -> Random number generated: 4\n",
      "Seed: 0 -> Random number generated: 4\n",
      "Seed: 0 -> Random number generated: 4\n",
      "Seed: 0 -> Random number generated: 4\n",
      "Seed: 0 -> Random number generated: 4\n",
      "Seed: 0 -> Random number generated: 4\n",
      "Seed: 0 -> Random number generated: 4\n",
      "Seed: 0 -> Random number generated: 4\n",
      "Seed: 0 -> Random number generated: 4\n"
     ]
    }
   ],
   "source": [
    "# If I set the seed, would I get the same sequence of random numbers every time?\n",
    "\n",
    "for i in range(10):\n",
    "    # Set initial value by providing a seed value\n",
    "    seed = 0 \n",
    "    np.random.seed(seed)\n",
    "    \n",
    "    # Generate a random integer from a range of [0, 5)\n",
    "    random_number = np.random.randint(0, 5)\n",
    "    print(f\"Seed: {seed} -> Random number generated: {random_number}\")"
   ]
  },
  {
   "cell_type": "markdown",
   "id": "a0861dd1",
   "metadata": {
    "papermill": {
     "duration": 0.024354,
     "end_time": "2021-08-17T10:13:31.307819",
     "exception": false,
     "start_time": "2021-08-17T10:13:31.283465",
     "status": "completed"
    },
    "tags": []
   },
   "source": [
    "Let's take a bit complex example. We will take an array and split the array into two arrays."
   ]
  },
  {
   "cell_type": "code",
   "execution_count": 3,
   "id": "80e1eac1",
   "metadata": {
    "execution": {
     "iopub.execute_input": "2021-08-17T10:13:31.368971Z",
     "iopub.status.busy": "2021-08-17T10:13:31.368254Z",
     "iopub.status.idle": "2021-08-17T10:13:31.373538Z",
     "shell.execute_reply": "2021-08-17T10:13:31.372885Z",
     "shell.execute_reply.started": "2021-08-17T10:12:01.228663Z"
    },
    "papermill": {
     "duration": 0.040967,
     "end_time": "2021-08-17T10:13:31.373681",
     "exception": false,
     "start_time": "2021-08-17T10:13:31.332714",
     "status": "completed"
    },
    "tags": []
   },
   "outputs": [
    {
     "name": "stdout",
     "output_type": "stream",
     "text": [
      "Iteration: 1  Seed value: 1234\n",
      "\n",
      "First array: [3 6 5 4 8 9 1 7]  Second array: [9 6]\n",
      "==================================================\n",
      "\n",
      "Iteration: 2  Seed value: 1234\n",
      "\n",
      "First array: [3 6 5 4 8 9 1 7]  Second array: [9 6]\n",
      "==================================================\n",
      "\n",
      "Iteration: 3  Seed value: 1234\n",
      "\n",
      "First array: [3 6 5 4 8 9 1 7]  Second array: [9 6]\n",
      "==================================================\n",
      "\n",
      "Iteration: 4  Seed value: 1234\n",
      "\n",
      "First array: [3 6 5 4 8 9 1 7]  Second array: [9 6]\n",
      "==================================================\n",
      "\n",
      "Iteration: 5  Seed value: 1234\n",
      "\n",
      "First array: [3 6 5 4 8 9 1 7]  Second array: [9 6]\n",
      "==================================================\n",
      "\n"
     ]
    }
   ],
   "source": [
    "# Array of 10 values\n",
    "array = np.arange(10)\n",
    "\n",
    "for i in range(5):\n",
    "    # Set initial value by providing a seed value\n",
    "    seed = 1234\n",
    "    np.random.seed(seed)\n",
    "    \n",
    "    # Choose array1 and array2 indices\n",
    "    array_1_idx = np.random.choice(array, size=8)\n",
    "    array_2_idx = np.random.choice(array, size=2)\n",
    "    \n",
    "    # Split the array into two sets\n",
    "    array_1 = array[array_1_idx]\n",
    "    array_2 = array[array_2_idx]\n",
    "    \n",
    "    print(f\"Iteration: {i+1}  Seed value: {seed}\\n\")\n",
    "    print(f\"First array: {array_1}  Second array: {array_2}\")\n",
    "    print(\"=\"*50)\n",
    "    print(\"\")"
   ]
  },
  {
   "cell_type": "markdown",
   "id": "5ead513b",
   "metadata": {
    "papermill": {
     "duration": 0.024607,
     "end_time": "2021-08-17T10:13:31.422862",
     "exception": false,
     "start_time": "2021-08-17T10:13:31.398255",
     "status": "completed"
    },
    "tags": []
   },
   "source": [
    "<div class=\"alert alert-warning\"> <b>Note: </b>The one we saw above is the <b>legacy</b> way to generate a sequence of random numbers in numpy. It uses a legacy generator provided by numpy <i><a href=\"https://numpy.org/doc/stable/reference/random/legacy.html\">RandomState(...)</a></i>. But this is also the one that is most widely used. There is another functions (preferred way as per the docs) <i>np.random.default_rng()</i> that uses the default BitGenerator for generating random sequences.\n",
    "</div><br><br>\n",
    "\n",
    "Let's repeat the above example with `default_rng(...)` as well. Because this is a different RNG, we should expect a different sequence here."
   ]
  },
  {
   "cell_type": "code",
   "execution_count": 4,
   "id": "7ccf128d",
   "metadata": {
    "execution": {
     "iopub.execute_input": "2021-08-17T10:13:31.480864Z",
     "iopub.status.busy": "2021-08-17T10:13:31.480172Z",
     "iopub.status.idle": "2021-08-17T10:13:31.489678Z",
     "shell.execute_reply": "2021-08-17T10:13:31.490130Z",
     "shell.execute_reply.started": "2021-08-17T10:13:02.823326Z"
    },
    "papermill": {
     "duration": 0.041885,
     "end_time": "2021-08-17T10:13:31.490322",
     "exception": false,
     "start_time": "2021-08-17T10:13:31.448437",
     "status": "completed"
    },
    "tags": []
   },
   "outputs": [
    {
     "name": "stdout",
     "output_type": "stream",
     "text": [
      "Iteration: 1  Seed value: 0\n",
      "\n",
      "First array: [8 6 5 2 3 0 0 0]  Second array: [1 8]\n",
      "==================================================\n",
      "\n",
      "Iteration: 2  Seed value: 0\n",
      "\n",
      "First array: [8 6 5 2 3 0 0 0]  Second array: [1 8]\n",
      "==================================================\n",
      "\n",
      "Iteration: 3  Seed value: 0\n",
      "\n",
      "First array: [8 6 5 2 3 0 0 0]  Second array: [1 8]\n",
      "==================================================\n",
      "\n",
      "Iteration: 4  Seed value: 0\n",
      "\n",
      "First array: [8 6 5 2 3 0 0 0]  Second array: [1 8]\n",
      "==================================================\n",
      "\n",
      "Iteration: 5  Seed value: 0\n",
      "\n",
      "First array: [8 6 5 2 3 0 0 0]  Second array: [1 8]\n",
      "==================================================\n",
      "\n"
     ]
    }
   ],
   "source": [
    "# Array of 10 values\n",
    "array = np.arange(10)\n",
    "\n",
    "# Same example but with a different kind of random number generator\n",
    "for i in range(5):\n",
    "    # Set initial value by providing a seed value\n",
    "    seed = 0\n",
    "    rng = np.random.default_rng(seed)\n",
    "    \n",
    "    # Choose array1 and array2 indices\n",
    "    array_1_idx = rng.choice(array, size=8)\n",
    "    array_2_idx = rng.choice(array, size=2)\n",
    "    \n",
    "    # Split the array into two sets\n",
    "    array_1 = array[array_1_idx]\n",
    "    array_2 = array[array_2_idx]\n",
    "    \n",
    "    print(f\"Iteration: {i+1}  Seed value: {seed}\\n\")\n",
    "    print(f\"First array: {array_1}  Second array: {array_2}\")\n",
    "    print(\"=\"*50)\n",
    "    print(\"\")"
   ]
  },
  {
   "cell_type": "markdown",
   "id": "735e9cff",
   "metadata": {
    "papermill": {
     "duration": 0.02508,
     "end_time": "2021-08-17T10:13:31.541045",
     "exception": false,
     "start_time": "2021-08-17T10:13:31.515965",
     "status": "completed"
    },
    "tags": []
   },
   "source": [
    "# Numpy PRNG: Pros and Cons\n",
    "\n",
    "We saw a few examples of how you can generate pseudo random numbers in numpy. But I am pretty sure that most of us overlook the `pros` and `cons` of these approaches. Today isn't that day. We will dive into the pros and cons right away.\n",
    "\n",
    "\n",
    "## Pros\n",
    "\n",
    "1. Setting a global seed is easy from most of the end users' perspectives. You set it once and be done with it\n",
    "2. With the new generator and **[SeedSequencing](https://numpy.org/doc/stable/reference/random/bit_generators/generated/numpy.random.SeedSequence.html#numpy.random.SeedSequence)**, it is possible to produce repeatable pseudo-random numbers across multiple processes (local or distributed)\n",
    "3. **Sequential Equivalent Guarantee**: One of the good things about random number generation in `numpy` is that it ensures sequential equivalent guarantee. What does that mean? It means that whether you sample a vector of `n` elements at once, or sample `n` elements but one at a time, the final sequence will always be the same. Let's see this one in action"
   ]
  },
  {
   "cell_type": "code",
   "execution_count": 5,
   "id": "f4d66e5f",
   "metadata": {
    "execution": {
     "iopub.execute_input": "2021-08-17T10:13:31.601025Z",
     "iopub.status.busy": "2021-08-17T10:13:31.600187Z",
     "iopub.status.idle": "2021-08-17T10:13:31.604533Z",
     "shell.execute_reply": "2021-08-17T10:13:31.603891Z",
     "shell.execute_reply.started": "2021-08-12T17:44:12.866519Z"
    },
    "papermill": {
     "duration": 0.037194,
     "end_time": "2021-08-17T10:13:31.604676",
     "exception": false,
     "start_time": "2021-08-17T10:13:31.567482",
     "status": "completed"
    },
    "tags": []
   },
   "outputs": [
    {
     "name": "stdout",
     "output_type": "stream",
     "text": [
      "Sampled all at once    => [3 6 5 4 8 9 1 7 9 6]\n",
      "Sampled one at a time  => [3 6 5 4 8 9 1 7 9 6]\n"
     ]
    }
   ],
   "source": [
    "# Set the seed\n",
    "seed = 1234\n",
    "np.random.seed(seed)\n",
    "\n",
    "# Sample a vector of size 10 \n",
    "array1 = np.random.randint(0, 10, size=10)\n",
    "\n",
    "# Sample 10 elements one at a time\n",
    "np.random.seed(seed)\n",
    "array2 = np.stack([np.random.randint(0, 10) for _ in range(10)])\n",
    "\n",
    "print(f\"Sampled all at once    => {array1}\")\n",
    "print(f\"Sampled one at a time  => {array2}\")"
   ]
  },
  {
   "cell_type": "markdown",
   "id": "4bfa5271",
   "metadata": {
    "papermill": {
     "duration": 0.024871,
     "end_time": "2021-08-17T10:13:31.655388",
     "exception": false,
     "start_time": "2021-08-17T10:13:31.630517",
     "status": "completed"
    },
    "tags": []
   },
   "source": [
    "## Cons\n",
    "\n",
    "1. Global state is bad for reproducibility: Global state is problematic especially if you are going to implement some sort of concurrency in your code. That's why the original way to set global seed in numpy isn't encouraged anymore\n",
    "2. With a shared global state, it’s hard to reason about how it’s being used and updated across different threads, processes, and devices, and it’s very easy to screw up when the details of entropy production and consumption are hidden from the end-user.\n",
    "3. The **Mersenne Twister PRNG** used in most of the python and numpy code has several [initialization issues](https://dl.acm.org/doi/10.1145/1276927.1276928)\n",
    "4. `SeedSequencing` makes it easy to get a reproducible sequence of random numbers when concurrency is involved but it still can't be used for JAX (we will see later in why exactly!) \n",
    "\n",
    "Let's take an example of `SeedSequencing` as well before we move to JAX PRNG design"
   ]
  },
  {
   "cell_type": "code",
   "execution_count": 6,
   "id": "4c1cbdd1",
   "metadata": {
    "execution": {
     "iopub.execute_input": "2021-08-17T10:13:31.713750Z",
     "iopub.status.busy": "2021-08-17T10:13:31.712932Z",
     "iopub.status.idle": "2021-08-17T10:13:31.715932Z",
     "shell.execute_reply": "2021-08-17T10:13:31.715398Z",
     "shell.execute_reply.started": "2021-08-12T17:44:13.541905Z"
    },
    "papermill": {
     "duration": 0.033954,
     "end_time": "2021-08-17T10:13:31.716081",
     "exception": false,
     "start_time": "2021-08-17T10:13:31.682127",
     "status": "completed"
    },
    "tags": []
   },
   "outputs": [],
   "source": [
    "def get_sequence(seed, size=5):\n",
    "    rng = np.random.default_rng(seed)\n",
    "    array = np.arange(10)\n",
    "    return rng.choice(array, size=size)"
   ]
  },
  {
   "cell_type": "code",
   "execution_count": 7,
   "id": "ee2accb7",
   "metadata": {
    "execution": {
     "iopub.execute_input": "2021-08-17T10:13:31.773773Z",
     "iopub.status.busy": "2021-08-17T10:13:31.773099Z",
     "iopub.status.idle": "2021-08-17T10:13:32.230255Z",
     "shell.execute_reply": "2021-08-17T10:13:32.231432Z",
     "shell.execute_reply.started": "2021-08-12T17:44:13.782236Z"
    },
    "papermill": {
     "duration": 0.490065,
     "end_time": "2021-08-17T10:13:32.231722",
     "exception": false,
     "start_time": "2021-08-17T10:13:31.741657",
     "status": "completed"
    },
    "tags": []
   },
   "outputs": [
    {
     "name": "stdout",
     "output_type": "stream",
     "text": [
      "Iteration: 1 Sequences: [array([4, 5, 4, 2, 5]), array([7, 7, 7, 5, 1])]\n",
      "======================================================================\n",
      "Iteration: 2 Sequences: [array([4, 5, 4, 2, 5]), array([7, 7, 7, 5, 1])]\n",
      "======================================================================\n",
      "Iteration: 3 Sequences: [array([4, 5, 4, 2, 5]), array([7, 7, 7, 5, 1])]\n",
      "======================================================================\n",
      "Iteration: 4 Sequences: [array([4, 5, 4, 2, 5]), array([7, 7, 7, 5, 1])]\n",
      "======================================================================\n",
      "Iteration: 5 Sequences: [array([4, 5, 4, 2, 5]), array([7, 7, 7, 5, 1])]\n",
      "======================================================================\n"
     ]
    }
   ],
   "source": [
    "# Instantiate SeedSequence\n",
    "seed = 1234\n",
    "ss = np.random.SeedSequence(seed)\n",
    "\n",
    "# Spawn 2 child seed sequence\n",
    "child_seeds = ss.spawn(2)\n",
    "\n",
    "# Run the function a few times in parallel to check if we get\n",
    "# same RNG sequence\n",
    "for i in range(5):\n",
    "    res = []\n",
    "    for child_seed in child_seeds:\n",
    "        res.append(delayed(get_sequence)(child_seed))\n",
    "    res = Parallel(n_jobs=2)(res)\n",
    "    print(f\"Iteration: {i+1} Sequences: {res}\")\n",
    "    print(\"=\"*70)"
   ]
  },
  {
   "cell_type": "markdown",
   "id": "72c1970e",
   "metadata": {
    "papermill": {
     "duration": 0.025887,
     "end_time": "2021-08-17T10:13:32.286110",
     "exception": false,
     "start_time": "2021-08-17T10:13:32.260223",
     "status": "completed"
    },
    "tags": []
   },
   "source": [
    "# Random Numbers in JAX\n",
    "\n",
    "RNG in JAX is very different from RNG in numpy. A question that naturally comes to mind is this: Why would the JAX team implement a whole new PRNG in JAX when they could have just reused the same codebase from numpy? ¯\\_(ツ)_/¯\n",
    "\n",
    "Let's take a few examples to answer that question\n",
    "\n",
    "Execution of functions that use numpy code is enforced by Python. Let's say `A`, and `B` are two functions. The return values from `A` and `B` are assigned to `C`. So, the code looks like this: `C = A() + B()`"
   ]
  },
  {
   "cell_type": "code",
   "execution_count": 8,
   "id": "a9d34129",
   "metadata": {
    "execution": {
     "iopub.execute_input": "2021-08-17T10:13:32.342650Z",
     "iopub.status.busy": "2021-08-17T10:13:32.341997Z",
     "iopub.status.idle": "2021-08-17T10:13:32.350085Z",
     "shell.execute_reply": "2021-08-17T10:13:32.349539Z",
     "shell.execute_reply.started": "2021-08-12T17:44:14.69966Z"
    },
    "papermill": {
     "duration": 0.037514,
     "end_time": "2021-08-17T10:13:32.350223",
     "exception": false,
     "start_time": "2021-08-17T10:13:32.312709",
     "status": "completed"
    },
    "tags": []
   },
   "outputs": [
    {
     "name": "stdout",
     "output_type": "stream",
     "text": [
      "Iteration: 1  C: AB\n",
      "Iteration: 2  C: aB\n"
     ]
    }
   ],
   "source": [
    "# Global seed\n",
    "np.random.seed(1234)\n",
    "\n",
    "def A():\n",
    "    return np.random.choice([\"a\", \"A\"])\n",
    "\n",
    "def B():\n",
    "    return np.random.choice([\"b\", \"B\"])\n",
    "\n",
    "for i in range(2):\n",
    "    C = A() + B()\n",
    "    print(f\"Iteration: {i+1}  C: {C}\")"
   ]
  },
  {
   "cell_type": "markdown",
   "id": "ebab0420",
   "metadata": {
    "papermill": {
     "duration": 0.025486,
     "end_time": "2021-08-17T10:13:32.402084",
     "exception": false,
     "start_time": "2021-08-17T10:13:32.376598",
     "status": "completed"
    },
    "tags": []
   },
   "source": [
    "Here the execution has a defined order. `A()` is always called before `B()`. But if you do the same thing in JAX (although JAX doesn't allow string type, this is just for the sake of an example) and `jit` it, then you don't know whether `A()` will be called first or `B()` will be called first. Why?\n",
    "\n",
    "1. XLA will execute them in the order that is most efficient not necessarily in the same order. Remember `tf.control_dependencies(...)` that we used to use in the old days? Nothing wrong with TensorFlow, it's just a way to instruct the compiler\n",
    "2. If you force the order of execution, then it contradicts the philosophy of JAX that if two transformations are independent of each other, then their execution can be parallelized.\n",
    "\n",
    "\n",
    "This looks like a crisis. How? If you use a global state (as in numpy), you won't be able to infer which function was called first, hence the sequence of generated random numbers is irreproducible. What's the solution then?\n",
    "\n",
    "## RNG Design in JAX\n",
    "\n",
    "To make sure that we can parallelize the transformations, and still get reproducible results, JAX applies two rules:\n",
    "1. Don't depend on the global seed for generating random sequences\n",
    "2. Random functions should explicitly consume a state(seed), this will ensure that these functions would reproduce the same result when the same seed. This can have some weird effects as well which we will see in a moment\n",
    "\n",
    "Let's take a few examples of how `state` is passed to random functions in JAX.\n",
    "\n",
    "**Note:** When people say `state`, `seed`, or `key` in the context of PRNG, they mean the same thing (unless it is something different). JAX uses the word `key` and `subkey` more often than the word `seed`. To keep it consistent with the docs, we will use the same terminology here"
   ]
  },
  {
   "cell_type": "code",
   "execution_count": 9,
   "id": "e9a35597",
   "metadata": {
    "execution": {
     "iopub.execute_input": "2021-08-17T10:13:32.458560Z",
     "iopub.status.busy": "2021-08-17T10:13:32.457860Z",
     "iopub.status.idle": "2021-08-17T10:13:32.461058Z",
     "shell.execute_reply": "2021-08-17T10:13:32.460558Z",
     "shell.execute_reply.started": "2021-08-12T17:44:16.117339Z"
    },
    "papermill": {
     "duration": 0.033386,
     "end_time": "2021-08-17T10:13:32.461195",
     "exception": false,
     "start_time": "2021-08-17T10:13:32.427809",
     "status": "completed"
    },
    "tags": []
   },
   "outputs": [],
   "source": [
    "from jax import random"
   ]
  },
  {
   "cell_type": "code",
   "execution_count": 10,
   "id": "fe4749ad",
   "metadata": {
    "execution": {
     "iopub.execute_input": "2021-08-17T10:13:32.558270Z",
     "iopub.status.busy": "2021-08-17T10:13:32.557579Z",
     "iopub.status.idle": "2021-08-17T10:13:32.795895Z",
     "shell.execute_reply": "2021-08-17T10:13:32.795367Z",
     "shell.execute_reply.started": "2021-08-12T17:44:16.871439Z"
    },
    "papermill": {
     "duration": 0.308984,
     "end_time": "2021-08-17T10:13:32.796039",
     "exception": false,
     "start_time": "2021-08-17T10:13:32.487055",
     "status": "completed"
    },
    "tags": []
   },
   "outputs": [
    {
     "data": {
      "text/plain": [
       "DeviceArray([   0, 1234], dtype=uint32)"
      ]
     },
     "execution_count": 10,
     "metadata": {},
     "output_type": "execute_result"
    }
   ],
   "source": [
    "# Define a state\n",
    "seed = 1234\n",
    "key = random.PRNGKey(1234)\n",
    "key"
   ]
  },
  {
   "cell_type": "markdown",
   "id": "f201253a",
   "metadata": {
    "papermill": {
     "duration": 0.025677,
     "end_time": "2021-08-17T10:13:32.847737",
     "exception": false,
     "start_time": "2021-08-17T10:13:32.822060",
     "status": "completed"
    },
    "tags": []
   },
   "source": [
    "So, a `key` is nothing but a `DeviceArray` of shape `(2, )`. This key is then passed to random functions. **Random functions consume the state but don't change it**, meaning if you keep passing the same key to the same function, it will always return the same output.\n",
    "\n",
    "Because functions don't change the state, ever ytime we call a new random function, we need to pass a new key. How is the new key generated? By splitting the original key. Take a look at the example below"
   ]
  },
  {
   "cell_type": "code",
   "execution_count": 11,
   "id": "d2daae53",
   "metadata": {
    "execution": {
     "iopub.execute_input": "2021-08-17T10:13:32.943053Z",
     "iopub.status.busy": "2021-08-17T10:13:32.937467Z",
     "iopub.status.idle": "2021-08-17T10:13:33.323738Z",
     "shell.execute_reply": "2021-08-17T10:13:33.324279Z",
     "shell.execute_reply.started": "2021-08-12T17:44:17.842463Z"
    },
    "papermill": {
     "duration": 0.450833,
     "end_time": "2021-08-17T10:13:33.324473",
     "exception": false,
     "start_time": "2021-08-17T10:13:32.873640",
     "status": "completed"
    },
    "tags": []
   },
   "outputs": [
    {
     "name": "stdout",
     "output_type": "stream",
     "text": [
      "[2 4 9 9 4]\n"
     ]
    }
   ],
   "source": [
    "# Passing the original key to a random function\n",
    "random_integers = random.randint(key=key, minval=0, maxval=10, shape=[5])\n",
    "print(random_integers)"
   ]
  },
  {
   "cell_type": "code",
   "execution_count": 12,
   "id": "81e29a96",
   "metadata": {
    "execution": {
     "iopub.execute_input": "2021-08-17T10:13:33.407724Z",
     "iopub.status.busy": "2021-08-17T10:13:33.406963Z",
     "iopub.status.idle": "2021-08-17T10:13:33.496785Z",
     "shell.execute_reply": "2021-08-17T10:13:33.496146Z",
     "shell.execute_reply.started": "2021-08-12T17:44:18.269733Z"
    },
    "papermill": {
     "duration": 0.145268,
     "end_time": "2021-08-17T10:13:33.496927",
     "exception": false,
     "start_time": "2021-08-17T10:13:33.351659",
     "status": "completed"
    },
    "tags": []
   },
   "outputs": [
    {
     "name": "stdout",
     "output_type": "stream",
     "text": [
      "Original key:  [   0 1234]\n",
      "New key:  [2113592192 1902136347]\n",
      "Subkey:  [603280156 445306386]\n"
     ]
    }
   ],
   "source": [
    "# What if we want to call another function?\n",
    "# Don't use the same key. Split the original key, and then pass it\n",
    "print(\"Original key: \", key)\n",
    "\n",
    "# Split the key. By default the number of splits is set to 2\n",
    "# You can specify explicitly how many splits you want to do\n",
    "key, subkey = random.split(key, num=2)\n",
    "\n",
    "print(\"New key: \",  key)\n",
    "print(\"Subkey: \", subkey)"
   ]
  },
  {
   "cell_type": "code",
   "execution_count": 13,
   "id": "9a6d1ee9",
   "metadata": {
    "execution": {
     "iopub.execute_input": "2021-08-17T10:13:33.578901Z",
     "iopub.status.busy": "2021-08-17T10:13:33.572977Z",
     "iopub.status.idle": "2021-08-17T10:13:33.739210Z",
     "shell.execute_reply": "2021-08-17T10:13:33.738423Z",
     "shell.execute_reply.started": "2021-08-12T17:44:19.736536Z"
    },
    "papermill": {
     "duration": 0.214737,
     "end_time": "2021-08-17T10:13:33.739437",
     "exception": false,
     "start_time": "2021-08-17T10:13:33.524700",
     "status": "completed"
    },
    "tags": []
   },
   "outputs": [
    {
     "name": "stdout",
     "output_type": "stream",
     "text": [
      "[ 5.2179128e-01  1.4659788e-03 -5.9906763e-01 -3.9343226e-01\n",
      " -1.9224551e+00]\n"
     ]
    }
   ],
   "source": [
    "# Call another random function with the new key\n",
    "random_floats = random.normal(key=key, shape=(5,), dtype=jnp.float32)\n",
    "print(random_floats)"
   ]
  },
  {
   "cell_type": "markdown",
   "id": "4a1689a6",
   "metadata": {
    "papermill": {
     "duration": 0.027838,
     "end_time": "2021-08-17T10:13:33.795811",
     "exception": false,
     "start_time": "2021-08-17T10:13:33.767973",
     "status": "completed"
    },
    "tags": []
   },
   "source": [
    "**Note:** Although we are calling them `key` and `subkey`, both are states and you can pass either of them to any random function or even the `split` function"
   ]
  },
  {
   "cell_type": "markdown",
   "id": "0817cb64",
   "metadata": {
    "papermill": {
     "duration": 0.028031,
     "end_time": "2021-08-17T10:13:33.852188",
     "exception": false,
     "start_time": "2021-08-17T10:13:33.824157",
     "status": "completed"
    },
    "tags": []
   },
   "source": [
    "# JAX PRNG: Pros and Cons\n",
    "\n",
    "Now that we have seen the design of PRNG in JAX and how it is implemented and consumed, it is time to discuss the `pros` and `cons` of this approach. **After all, anything and everything has pros and cons**\n",
    "\n",
    "\n",
    "## Pros\n",
    "\n",
    "1. The JAX PRNG is a counter-based PRNG design and it uses the **Threefry hash function**. This design allows JAX to escape sequential execution order constraint, allowing everything to be vectorizable and to be parallelizable without giving up on reproducibility\n",
    "2. Every random function consumes the state but doesn't change it. Neither the `key` has to be returned from the function\n",
    "3. The `split` method is **deterministic**. So, if you start with a random key, and split it into `n` keys in your code, you can be assured that every time you run the code, you will get the same splits. We will see an example of this right away\n",
    "4. You can generate `n` number of keys from a key in a single go and keep passing them around"
   ]
  },
  {
   "cell_type": "code",
   "execution_count": 14,
   "id": "fc88167e",
   "metadata": {
    "execution": {
     "iopub.execute_input": "2021-08-17T10:13:33.914392Z",
     "iopub.status.busy": "2021-08-17T10:13:33.913444Z",
     "iopub.status.idle": "2021-08-17T10:13:33.931906Z",
     "shell.execute_reply": "2021-08-17T10:13:33.931212Z",
     "shell.execute_reply.started": "2021-08-12T18:17:30.531525Z"
    },
    "papermill": {
     "duration": 0.052681,
     "end_time": "2021-08-17T10:13:33.932055",
     "exception": false,
     "start_time": "2021-08-17T10:13:33.879374",
     "status": "completed"
    },
    "tags": []
   },
   "outputs": [
    {
     "name": "stdout",
     "output_type": "stream",
     "text": [
      "Iteration: 1\n",
      "\n",
      "Original key: [   0 1234]\n",
      "First subkey: [2113592192 1902136347]\n",
      "Second subkey: [603280156 445306386]\n",
      "==================================================\n",
      "\n",
      "Iteration: 2\n",
      "\n",
      "Original key: [   0 1234]\n",
      "First subkey: [2113592192 1902136347]\n",
      "Second subkey: [603280156 445306386]\n",
      "==================================================\n",
      "\n",
      "Iteration: 3\n",
      "\n",
      "Original key: [   0 1234]\n",
      "First subkey: [2113592192 1902136347]\n",
      "Second subkey: [603280156 445306386]\n",
      "==================================================\n",
      "\n",
      "Iteration: 4\n",
      "\n",
      "Original key: [   0 1234]\n",
      "First subkey: [2113592192 1902136347]\n",
      "Second subkey: [603280156 445306386]\n",
      "==================================================\n",
      "\n",
      "Iteration: 5\n",
      "\n",
      "Original key: [   0 1234]\n",
      "First subkey: [2113592192 1902136347]\n",
      "Second subkey: [603280156 445306386]\n",
      "==================================================\n",
      "\n"
     ]
    }
   ],
   "source": [
    "# Splitting is deterministic!\n",
    "\n",
    "for i in range(5):\n",
    "    key = random.PRNGKey(1234)\n",
    "    print(f\"Iteration: {i+1}\\n\")\n",
    "    print(f\"Original key: {key}\")\n",
    "    key, subkey = random.split(key)\n",
    "    print(f\"First subkey: {key}\")\n",
    "    print(f\"Second subkey: {subkey}\")\n",
    "    print(\"=\"*50)\n",
    "    print(\"\")"
   ]
  },
  {
   "cell_type": "code",
   "execution_count": 15,
   "id": "82599cc2",
   "metadata": {
    "execution": {
     "iopub.execute_input": "2021-08-17T10:13:33.995411Z",
     "iopub.status.busy": "2021-08-17T10:13:33.993818Z",
     "iopub.status.idle": "2021-08-17T10:13:34.158564Z",
     "shell.execute_reply": "2021-08-17T10:13:34.157880Z",
     "shell.execute_reply.started": "2021-08-12T18:21:16.152505Z"
    },
    "papermill": {
     "duration": 0.198716,
     "end_time": "2021-08-17T10:13:34.158704",
     "exception": false,
     "start_time": "2021-08-17T10:13:33.959988",
     "status": "completed"
    },
    "tags": []
   },
   "outputs": [
    {
     "name": "stdout",
     "output_type": "stream",
     "text": [
      "Original key: [  0 111]\n",
      "\n",
      "Subkey no: 1  Subkey: [2149343144 3788759061]\n",
      "Subkey no: 2  Subkey: [1263116805 2203640444]\n",
      "Subkey no: 3  Subkey: [ 260051842 2161001049]\n",
      "Subkey no: 4  Subkey: [ 450316230 2080109636]\n",
      "Subkey no: 5  Subkey: [2532194002 3516360950]\n"
     ]
    }
   ],
   "source": [
    "# You can generate multiple keys at one go with one split\n",
    "key = random.PRNGKey(111)\n",
    "print(f\"Original key: {key}\\n\")\n",
    "\n",
    "subkeys = random.split(key, num=5)\n",
    "\n",
    "for i, subkey in enumerate(subkeys):\n",
    "    print(f\"Subkey no: {i+1}  Subkey: {subkey}\")"
   ]
  },
  {
   "cell_type": "markdown",
   "id": "b8171579",
   "metadata": {
    "papermill": {
     "duration": 0.029553,
     "end_time": "2021-08-17T10:13:34.217897",
     "exception": false,
     "start_time": "2021-08-17T10:13:34.188344",
     "status": "completed"
    },
    "tags": []
   },
   "source": [
    "## Cons\n",
    "\n",
    "1. The new PRNG design in JAX is only possible if we give up **Sequential Equivalent Guarantee**. Why? Because that property is incompatible with vectorization, the latter one is, in fact, a priority for JAX\n",
    "2. This is not a con as such but this is something an end-user can easily forget. Two things to consider here:\n",
    "    * If you call a function again and again with the same key, you will **always** get the same output. Consider that you want to sample 5 random numbers from a uniform distribution. If you pass the same key to your sampling function, you will end up with 5 duplicate numbers.\n",
    "    * If you pass the same key to different functions, in some cases you will get highly correlated results. The end-user should always split the key before passing to anything that uses a random function in whatsoever sense\n",
    "    \n",
    "Let's take an example of each to clarify these points"
   ]
  },
  {
   "cell_type": "code",
   "execution_count": 16,
   "id": "78fa95b0",
   "metadata": {
    "execution": {
     "iopub.execute_input": "2021-08-17T10:13:34.288501Z",
     "iopub.status.busy": "2021-08-17T10:13:34.287461Z",
     "iopub.status.idle": "2021-08-17T10:13:34.556301Z",
     "shell.execute_reply": "2021-08-17T10:13:34.555692Z",
     "shell.execute_reply.started": "2021-08-12T18:35:10.637433Z"
    },
    "papermill": {
     "duration": 0.308352,
     "end_time": "2021-08-17T10:13:34.556474",
     "exception": false,
     "start_time": "2021-08-17T10:13:34.248122",
     "status": "completed"
    },
    "tags": []
   },
   "outputs": [
    {
     "name": "stdout",
     "output_type": "stream",
     "text": [
      "Generated all at once:  [2 4 9 9 4]\n",
      "Generated sequentially:  [1 5 8 7]\n"
     ]
    }
   ],
   "source": [
    "# No more Sequential Equivalent Guarantee unlike numpy\n",
    "\n",
    "key = random.PRNGKey(1234)\n",
    "random_integers_1 = random.randint(key=key, minval=0, maxval=10, shape=(5,))\n",
    "\n",
    "key = random.PRNGKey(1234)\n",
    "key, *subkeys = random.split(key, 5)\n",
    "random_integers_2 = []\n",
    "\n",
    "for subkey in subkeys:\n",
    "    num = random.randint(key=subkey, minval=0, maxval=10, shape=(1,))\n",
    "    random_integers_2.append(num)\n",
    "\n",
    "random_integers_2 = np.stack(random_integers_2, axis=-1)[0]\n",
    "\n",
    "print(\"Generated all at once: \", random_integers_1)\n",
    "print(\"Generated sequentially: \", random_integers_2)"
   ]
  },
  {
   "cell_type": "code",
   "execution_count": 17,
   "id": "658de7ac",
   "metadata": {
    "execution": {
     "iopub.execute_input": "2021-08-17T10:13:34.622422Z",
     "iopub.status.busy": "2021-08-17T10:13:34.621377Z",
     "iopub.status.idle": "2021-08-17T10:13:34.723647Z",
     "shell.execute_reply": "2021-08-17T10:13:34.724130Z",
     "shell.execute_reply.started": "2021-08-12T18:44:30.117247Z"
    },
    "papermill": {
     "duration": 0.139428,
     "end_time": "2021-08-17T10:13:34.724326",
     "exception": false,
     "start_time": "2021-08-17T10:13:34.584898",
     "status": "completed"
    },
    "tags": []
   },
   "outputs": [
    {
     "name": "stdout",
     "output_type": "stream",
     "text": [
      "First sample:  [0.21629536 0.8041241 ]\n",
      "Second sample:  [0.43259072 1.6082482 ]\n"
     ]
    }
   ],
   "source": [
    "# Possible highly correlated outputs. \n",
    "# Not a very good example but serves the demonstration purpose\n",
    "\n",
    "def sampler1(key):\n",
    "    return random.uniform(key=key, minval=0, maxval=1, shape=(2,))\n",
    "\n",
    "def sampler2(key):\n",
    "    return 2 * random.uniform(key=key, minval=0, maxval=1, shape=(2,))\n",
    "\n",
    "key = random.PRNGKey(0)\n",
    "sample_1 = sampler1(key=key)\n",
    "sample_2 = sampler2(key=key)\n",
    "\n",
    "print(\"First sample: \", sample_1)\n",
    "print(\"Second sample: \", sample_2)"
   ]
  },
  {
   "cell_type": "markdown",
   "id": "63bc39ad",
   "metadata": {
    "papermill": {
     "duration": 0.028364,
     "end_time": "2021-08-17T10:13:34.781485",
     "exception": false,
     "start_time": "2021-08-17T10:13:34.753121",
     "status": "completed"
    },
    "tags": []
   },
   "source": [
    "Whattttttt!!! Let's try that in numpy now!"
   ]
  },
  {
   "cell_type": "code",
   "execution_count": 18,
   "id": "e5fb9233",
   "metadata": {
    "execution": {
     "iopub.execute_input": "2021-08-17T10:13:34.846429Z",
     "iopub.status.busy": "2021-08-17T10:13:34.845743Z",
     "iopub.status.idle": "2021-08-17T10:13:34.849902Z",
     "shell.execute_reply": "2021-08-17T10:13:34.850495Z",
     "shell.execute_reply.started": "2021-08-12T18:46:17.508464Z"
    },
    "papermill": {
     "duration": 0.040713,
     "end_time": "2021-08-17T10:13:34.850667",
     "exception": false,
     "start_time": "2021-08-17T10:13:34.809954",
     "status": "completed"
    },
    "tags": []
   },
   "outputs": [
    {
     "name": "stdout",
     "output_type": "stream",
     "text": [
      "First sample:  [0.5488135  0.71518937]\n",
      "Second sample:  [1.20552675 1.08976637]\n"
     ]
    }
   ],
   "source": [
    "def sampler1():\n",
    "    return np.random.uniform(low=0, high=1, size=(2,))\n",
    "\n",
    "def sampler2():\n",
    "    return 2 * np.random.uniform(low=0, high=1, size=(2,))\n",
    "\n",
    "np.random.seed(0)\n",
    "sample_1 = sampler1()\n",
    "sample_2 = sampler2()\n",
    "\n",
    "print(\"First sample: \", sample_1)\n",
    "print(\"Second sample: \", sample_2)"
   ]
  },
  {
   "cell_type": "markdown",
   "id": "be7a3d1f",
   "metadata": {
    "papermill": {
     "duration": 0.031239,
     "end_time": "2021-08-17T10:13:34.910985",
     "exception": false,
     "start_time": "2021-08-17T10:13:34.879746",
     "status": "completed"
    },
    "tags": []
   },
   "source": [
    "You see that in JAX code, the outputs of two samplers were highly correlated while in numpy code we didn't get that perfect correlation. **Lesson?** Unless you want the same outputs, never reuse a `key` by passing it to different random functions in JAX. **Always split the key!**\n",
    "\n",
    "That's it for Part 6! We will dive into other important concepts in the next tutorial. Stay tuned!\n",
    "\n",
    "# References\n",
    "1. https://jax.readthedocs.io/en/latest/notebooks/Common_Gotchas_in_JAX.html#rngs-and-state\n",
    "2. https://github.com/google/jax/blob/main/design_notes/prng.md\n",
    "3. https://numpy.org/neps/nep-0019-rng-policy.html\n",
    "4. https://albertcthomas.github.io/good-practices-random-number-generators/\n",
    "5. https://courses.physics.illinois.edu/phys466/fa2016/lnotes/PRNG.pdf"
   ]
  },
  {
   "cell_type": "code",
   "execution_count": null,
   "id": "4ffc23af",
   "metadata": {
    "papermill": {
     "duration": 0.029184,
     "end_time": "2021-08-17T10:13:34.969749",
     "exception": false,
     "start_time": "2021-08-17T10:13:34.940565",
     "status": "completed"
    },
    "tags": []
   },
   "outputs": [],
   "source": []
  }
 ],
 "metadata": {
  "kernelspec": {
   "display_name": "Python 3",
   "language": "python",
   "name": "python3"
  },
  "language_info": {
   "codemirror_mode": {
    "name": "ipython",
    "version": 3
   },
   "file_extension": ".py",
   "mimetype": "text/x-python",
   "name": "python",
   "nbconvert_exporter": "python",
   "pygments_lexer": "ipython3",
   "version": "3.7.10"
  },
  "papermill": {
   "default_parameters": {},
   "duration": 14.743263,
   "end_time": "2021-08-17T10:13:35.809192",
   "environment_variables": {},
   "exception": null,
   "input_path": "__notebook__.ipynb",
   "output_path": "__notebook__.ipynb",
   "parameters": {},
   "start_time": "2021-08-17T10:13:21.065929",
   "version": "2.3.3"
  }
 },
 "nbformat": 4,
 "nbformat_minor": 5
}
