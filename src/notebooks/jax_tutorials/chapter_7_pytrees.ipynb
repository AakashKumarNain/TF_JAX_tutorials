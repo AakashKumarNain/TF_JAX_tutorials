{
 "cells": [
  {
   "cell_type": "markdown",
   "id": "2c236ca2",
   "metadata": {
    "papermill": {
     "duration": 0.024416,
     "end_time": "2021-12-02T18:50:32.534966",
     "exception": false,
     "start_time": "2021-12-02T18:50:32.510550",
     "status": "completed"
    },
    "tags": []
   },
   "source": [
    "<img src=\"https://raw.githubusercontent.com/google/jax/main/images/jax_logo_250px.png\" width=\"300\" height=\"300\" align=\"center\"/><br>\n",
    "\n",
    "Welcome to another JAX tutorial. I hope you all have been enjoying the JAX Tutorials so far. If you haven't gone through the previous tutorials, I highly suggest going through them. Here are the links:\n",
    "\n",
    "1. [TF_JAX_Tutorials - Part 1](https://www.kaggle.com/aakashnain/tf-jax-tutorials-part1)\n",
    "2. [TF_JAX_Tutorials - Part 2](https://www.kaggle.com/aakashnain/tf-jax-tutorials-part2)\n",
    "3. [TF_JAX_Tutorials - Part 3](https://www.kaggle.com/aakashnain/tf-jax-tutorials-part3)\n",
    "4. [TF_JAX_Tutorials - Part 4 (JAX and DeviceArray)](https://www.kaggle.com/aakashnain/tf-jax-tutorials-part-4-jax-and-devicearray)\n",
    "5. [TF_JAX_Tutorials - Part 5 (Pure Functions in JAX)](https://www.kaggle.com/aakashnain/tf-jax-tutorials-part-5-pure-functions-in-jax/)\n",
    "6. [TF_JAX_Tutorials - Part 6 (PRNG in JAX)](https://www.kaggle.com/aakashnain/tf-jax-tutorials-part-6-prng-in-jax/)\n",
    "7. [TF_JAX_Tutorials - Part 7 (JIT in JAX)](https://www.kaggle.com/aakashnain/tf-jax-tutorials-part-7-jit-in-jax)\n",
    "8. [TF_JAX_Tutorials - Part 8 (Vmap and Pmap)](https://www.kaggle.com/aakashnain/tf-jax-tutorials-part-8-vmap-pmap)\n",
    "9. [TF_JAX_Tutorials - Part 9 (Autodiff in JAX)](https://www.kaggle.com/aakashnain/tf-jax-tutorials-part-9-autodiff-in-jax)\n",
    "\n",
    "\n",
    "We are going to cover an important concept that is very specific to JAX, and not to other libraries. Also, this notebook is the last notbook that will be wrap up the fundamentals or the building blocks of JAX. If you have gone through all the other tutorials already, I am hoping that you know have a very solid understanding of how JAX works under the hood. Understanding the fundamnetals is the key to learn anything in a solid way. Without any further due, let's start!"
   ]
  },
  {
   "cell_type": "code",
   "execution_count": 1,
   "id": "d242d883",
   "metadata": {
    "_cell_guid": "b1076dfc-b9ad-4769-8c92-a6c4dae69d19",
    "_uuid": "8f2839f25d086af736a60e9eeb907d3b93b6e0e5",
    "execution": {
     "iopub.execute_input": "2021-12-02T18:50:32.593392Z",
     "iopub.status.busy": "2021-12-02T18:50:32.592421Z",
     "iopub.status.idle": "2021-12-02T18:50:34.288188Z",
     "shell.execute_reply": "2021-12-02T18:50:34.287454Z",
     "shell.execute_reply.started": "2021-12-02T18:11:13.293702Z"
    },
    "papermill": {
     "duration": 1.728941,
     "end_time": "2021-12-02T18:50:34.288359",
     "exception": false,
     "start_time": "2021-12-02T18:50:32.559418",
     "status": "completed"
    },
    "tags": []
   },
   "outputs": [],
   "source": [
    "import time\n",
    "import numpy as np\n",
    "import matplotlib.pyplot as plt\n",
    "\n",
    "import jax\n",
    "import jax.numpy as jnp\n",
    "from jax import random\n",
    "from jax import make_jaxpr\n",
    "from jax import vmap, pmap, jit\n",
    "from jax import grad, value_and_grad\n",
    "from jax.test_util import check_grads\n",
    "\n",
    "\n",
    "%config IPCompleter.use_jedi = False"
   ]
  },
  {
   "cell_type": "markdown",
   "id": "07b5c89b",
   "metadata": {
    "papermill": {
     "duration": 0.019638,
     "end_time": "2021-12-02T18:50:34.327928",
     "exception": false,
     "start_time": "2021-12-02T18:50:34.308290",
     "status": "completed"
    },
    "tags": []
   },
   "source": [
    "# Pytrees\n",
    "\n",
    "What is a Pytree? If we go by the definition of Pytress as provided in the [docs](https://jax.readthedocs.io/en/latest/pytrees.html), then a *pytree* refers to a tree-like structure built out of container-like Python objects.\n",
    "\n",
    "What are the container-like Python objects? Given the name, you might have already guessed that the container-like Python objects include **list**, **tuples**, **dictionaries**, **namedtuple**, **OrderedDict**, and **None** (this isn't so obvious). These data structures are the default container-like objects treated as Pytrees. We can also tell JAX to treat a class as a container-like object but we need to include them in pytree registry first (We will discuss this in detail later on in this tutorial).\n",
    "\n",
    "Let's take a look at a few examples of Pytrees."
   ]
  },
  {
   "cell_type": "code",
   "execution_count": 2,
   "id": "fea34923",
   "metadata": {
    "execution": {
     "iopub.execute_input": "2021-12-02T18:50:34.377648Z",
     "iopub.status.busy": "2021-12-02T18:50:34.376641Z",
     "iopub.status.idle": "2021-12-02T18:50:34.380478Z",
     "shell.execute_reply": "2021-12-02T18:50:34.381020Z",
     "shell.execute_reply.started": "2021-12-02T18:11:17.417295Z"
    },
    "papermill": {
     "duration": 0.033408,
     "end_time": "2021-12-02T18:50:34.381197",
     "exception": false,
     "start_time": "2021-12-02T18:50:34.347789",
     "status": "completed"
    },
    "tags": []
   },
   "outputs": [
    {
     "name": "stdout",
     "output_type": "stream",
     "text": [
      "Pytree: [1, 2, 3]                     \n",
      "Number of leaves: 3\n",
      "Leaves are: [1, 2, 3]\n",
      "\n",
      "==================================================\n",
      "Pytree: [1, 2, 'a', 'b', (3, 4)]      \n",
      "Number of leaves: 6\n",
      "Leaves are: [1, 2, 'a', 'b', 3, 4]\n",
      "\n",
      "==================================================\n",
      "Pytree: (1, 2, 'a', 'b', (3, 4))      \n",
      "Number of leaves: 6\n",
      "Leaves are: [1, 2, 'a', 'b', 3, 4]\n",
      "\n",
      "==================================================\n",
      "Pytree: {'k1': 1, 'k2': 2, 'k3': 'a', 'k4': 'b', 'k5': (3, 4)}\n",
      "Number of leaves: 6\n",
      "Leaves are: [1, 2, 'a', 'b', 3, 4]\n",
      "\n",
      "==================================================\n"
     ]
    }
   ],
   "source": [
    "# A list as a pytree\n",
    "example_1 = [1, 2, 3]\n",
    "\n",
    "# As in normal Python code, a list that represents pytree\n",
    "# can contain obejcts of any type\n",
    "example_2 = [1, 2, \"a\", \"b\", (3, 4)]\n",
    "\n",
    "# Similarly we can define pytree using a tuple as well\n",
    "example_3 = (1, 2, \"a\", \"b\", (3, 4))\n",
    "\n",
    "# We can define the same pytree using a dict as well\n",
    "example_4 = {\"k1\": 1, \"k2\": 2, \"k3\": \"a\", \"k4\": \"b\", \"k5\": (3, 4)}\n",
    "\n",
    "# Let's check the number of leaves and the corresponding values in the above pytrees\n",
    "example_pytrees = [example_1, example_2, example_3, example_4]\n",
    "for pytree in example_pytrees:\n",
    "    leaves = jax.tree_leaves(pytree)\n",
    "    print(f\"Pytree: {repr(pytree):<30}\")\n",
    "    print(f\"Number of leaves: {len(leaves)}\")\n",
    "    print(f\"Leaves are: {leaves}\\n\")\n",
    "    print(\"=\"*50)"
   ]
  },
  {
   "cell_type": "markdown",
   "id": "fcb3a353",
   "metadata": {
    "papermill": {
     "duration": 0.020065,
     "end_time": "2021-12-02T18:50:34.421685",
     "exception": false,
     "start_time": "2021-12-02T18:50:34.401620",
     "status": "completed"
    },
    "tags": []
   },
   "source": [
    "So, in short, a pytree is just a composition of **nodes**(container-like Python objects) and **leaves**(all other Python objects). JAX also lets you register custom types as pytrees (we will take a few examples of this later on)\n",
    "\n",
    "One question that you should be asking at this point is whether a **DeviceArray**, the core data structure in JAX, can be used as a pytree or not. Well, the answer is no. Any *ndarray* is treated as a leaf in a pytree/ Let's take an example to make it clear."
   ]
  },
  {
   "cell_type": "code",
   "execution_count": 3,
   "id": "c8f88749",
   "metadata": {
    "execution": {
     "iopub.execute_input": "2021-12-02T18:50:34.468518Z",
     "iopub.status.busy": "2021-12-02T18:50:34.467820Z",
     "iopub.status.idle": "2021-12-02T18:50:34.502436Z",
     "shell.execute_reply": "2021-12-02T18:50:34.503219Z",
     "shell.execute_reply.started": "2021-12-02T18:11:18.486002Z"
    },
    "papermill": {
     "duration": 0.061332,
     "end_time": "2021-12-02T18:50:34.503474",
     "exception": false,
     "start_time": "2021-12-02T18:50:34.442142",
     "status": "completed"
    },
    "tags": []
   },
   "outputs": [
    {
     "name": "stdout",
     "output_type": "stream",
     "text": [
      "DeviceArray: DeviceArray([1, 2, 3], dtype=int32)\n",
      "Number of leaves: 1\n",
      "Leaves are: [DeviceArray([1, 2, 3], dtype=int32)]\n"
     ]
    }
   ],
   "source": [
    "# Check if we can make a pytree from a DeviceArray\n",
    "example_5 = jnp.array([1, 2, 3])\n",
    "leaves = jax.tree_leaves(example_5)\n",
    "print(f\"DeviceArray: {repr(example_5):<30}\")\n",
    "print(f\"Number of leaves: {len(leaves)}\")\n",
    "print(f\"Leaves are: {leaves}\")"
   ]
  },
  {
   "cell_type": "markdown",
   "id": "1c36a1f1",
   "metadata": {
    "papermill": {
     "duration": 0.020365,
     "end_time": "2021-12-02T18:50:34.544951",
     "exception": false,
     "start_time": "2021-12-02T18:50:34.524586",
     "status": "completed"
    },
    "tags": []
   },
   "source": [
    "As you can see, the ndarray is considered as one leaf only. The same goes for numeric values.\n",
    "\n",
    "Another important thing to note is that pytrees are tree-like data structures rather than DAG-like or graph-like. They assume referential transparency, and that there are no reference cycles present. So, don't use the same object in multiple leaves of a pytree\n",
    "\n",
    "We can *flatten* the tree at each level, get the leaves, and the original tree structure as well. Let's see it in action"
   ]
  },
  {
   "cell_type": "code",
   "execution_count": 4,
   "id": "1598a5d1",
   "metadata": {
    "execution": {
     "iopub.execute_input": "2021-12-02T18:50:34.591008Z",
     "iopub.status.busy": "2021-12-02T18:50:34.589932Z",
     "iopub.status.idle": "2021-12-02T18:50:34.596620Z",
     "shell.execute_reply": "2021-12-02T18:50:34.597345Z",
     "shell.execute_reply.started": "2021-12-02T18:11:19.395238Z"
    },
    "papermill": {
     "duration": 0.031744,
     "end_time": "2021-12-02T18:50:34.597525",
     "exception": false,
     "start_time": "2021-12-02T18:50:34.565781",
     "status": "completed"
    },
    "tags": []
   },
   "outputs": [
    {
     "name": "stdout",
     "output_type": "stream",
     "text": [
      "Original Pytree: [1, 2, 'a', 'b', (3, 4)]\n",
      "Leaves: [1, 2, 'a', 'b', 3, 4]\n",
      "Pytree structure: PyTreeDef([*, *, *, *, (*, *)])\n"
     ]
    }
   ],
   "source": [
    "# We will use the `example_2` pytree for this purpose.\n",
    "# Our pytree looks like this: [1, 2, 'a', 'b', (3, 4)]\n",
    "# We will unflatten it, obtain the leaves, and the tree structure as well\n",
    "\n",
    "example_2_leaves, example_2_treedef = jax.tree_flatten(example_2)\n",
    "print(f\"Original Pytree: {repr(example_2)}\")\n",
    "print(f\"Leaves: {repr(example_2_leaves)}\")\n",
    "print(f\"Pytree structure: {repr(example_2_treedef)}\")"
   ]
  },
  {
   "cell_type": "markdown",
   "id": "e53a04e8",
   "metadata": {
    "papermill": {
     "duration": 0.020746,
     "end_time": "2021-12-02T18:50:34.639871",
     "exception": false,
     "start_time": "2021-12-02T18:50:34.619125",
     "status": "completed"
    },
    "tags": []
   },
   "source": [
    "Now that we have extracted the leaves, we can modify these and reconstruct the tree again using the original tree structure (treedef). \n",
    "\n",
    "**Note:** We can(should) use `tree_map(...)` and `tree_multimap(...)` for doing operations on leaves as it is a much better way to achieve it. The above example is to showcase that you can do it in a way where you want more control over the operations applied to different leaves of the tree"
   ]
  },
  {
   "cell_type": "code",
   "execution_count": 5,
   "id": "06d9caa3",
   "metadata": {
    "execution": {
     "iopub.execute_input": "2021-12-02T18:50:34.688396Z",
     "iopub.status.busy": "2021-12-02T18:50:34.684644Z",
     "iopub.status.idle": "2021-12-02T18:50:34.692472Z",
     "shell.execute_reply": "2021-12-02T18:50:34.693285Z",
     "shell.execute_reply.started": "2021-12-02T18:11:20.309393Z"
    },
    "papermill": {
     "duration": 0.032851,
     "end_time": "2021-12-02T18:50:34.693516",
     "exception": false,
     "start_time": "2021-12-02T18:50:34.660665",
     "status": "completed"
    },
    "tags": []
   },
   "outputs": [
    {
     "name": "stdout",
     "output_type": "stream",
     "text": [
      "Original leaves:    [1, 2, 'a', 'b', 3, 4]\n",
      "Transformed leaves: [1, 4, 'a', 'bb', 3, 8]\n"
     ]
    }
   ],
   "source": [
    "def change_even_positioned_leaf(x, pos):\n",
    "    if pos % 2 == 0:\n",
    "        return x * 2\n",
    "    else:\n",
    "        return x\n",
    "    \n",
    "transformed_leaves = [\n",
    "    change_even_positioned_leaf(leaf, pos+1) for pos, leaf in enumerate(example_2_leaves)\n",
    "]\n",
    "\n",
    "print(f\"Original leaves:    {repr(example_2_leaves)}\")\n",
    "print(f\"Transformed leaves: {repr(transformed_leaves)}\")"
   ]
  },
  {
   "cell_type": "markdown",
   "id": "c9df4c4f",
   "metadata": {
    "papermill": {
     "duration": 0.021015,
     "end_time": "2021-12-02T18:50:34.736690",
     "exception": false,
     "start_time": "2021-12-02T18:50:34.715675",
     "status": "completed"
    },
    "tags": []
   },
   "source": [
    "We can now use the original tree structure to rebuild the tree with the transformed leaves"
   ]
  },
  {
   "cell_type": "code",
   "execution_count": 6,
   "id": "d94ee6af",
   "metadata": {
    "execution": {
     "iopub.execute_input": "2021-12-02T18:50:34.784386Z",
     "iopub.status.busy": "2021-12-02T18:50:34.783714Z",
     "iopub.status.idle": "2021-12-02T18:50:34.789465Z",
     "shell.execute_reply": "2021-12-02T18:50:34.790382Z",
     "shell.execute_reply.started": "2021-12-02T18:11:21.177157Z"
    },
    "papermill": {
     "duration": 0.031594,
     "end_time": "2021-12-02T18:50:34.790587",
     "exception": false,
     "start_time": "2021-12-02T18:50:34.758993",
     "status": "completed"
    },
    "tags": []
   },
   "outputs": [
    {
     "name": "stdout",
     "output_type": "stream",
     "text": [
      "Original Pytree:    [1, 2, 'a', 'b', (3, 4)]\n",
      "Transformed Pytree: [1, 4, 'a', 'bb', (3, 8)]\n"
     ]
    }
   ],
   "source": [
    "# Reconstruct the tree\n",
    "example_2_modified = jax.tree_unflatten(treedef=example_2_treedef, leaves=transformed_leaves)\n",
    "print(f\"Original Pytree:    {repr(example_2)}\")\n",
    "print(f\"Transformed Pytree: {repr(example_2_modified)}\")"
   ]
  },
  {
   "cell_type": "markdown",
   "id": "31c76931",
   "metadata": {
    "papermill": {
     "duration": 0.020922,
     "end_time": "2021-12-02T18:50:34.833797",
     "exception": false,
     "start_time": "2021-12-02T18:50:34.812875",
     "status": "completed"
    },
    "tags": []
   },
   "source": [
    "We saw that Pytree are container-like Python objects like lists, tuples, dicts, etc. But what if you want to extend this set of Python objects treated as pytree nodes? For example, what if you want to treat your class as a Pytree node? \n",
    "\n",
    "Well, if you think about it, to treat a class as a pytree node, we need to:\n",
    "1. Tell JAX that you want to treat it as a node and not a leaf by registering it in the internal registry.\n",
    "2. Because this is a custom object, JAX doesn't know how to `flatten` and `unflatten` it, we need to tell JAX this as well\n",
    "3. There are cases when we need to compare two `treedef` structures for equality. Hence we need to make sure that adding a custom object doesn't break the equality check.\n",
    "\n",
    "Let's look at an example."
   ]
  },
  {
   "cell_type": "code",
   "execution_count": 7,
   "id": "75e37ae4",
   "metadata": {
    "execution": {
     "iopub.execute_input": "2021-12-02T18:50:34.879854Z",
     "iopub.status.busy": "2021-12-02T18:50:34.879203Z",
     "iopub.status.idle": "2021-12-02T18:50:34.882885Z",
     "shell.execute_reply": "2021-12-02T18:50:34.883376Z",
     "shell.execute_reply.started": "2021-12-02T18:11:22.066827Z"
    },
    "papermill": {
     "duration": 0.028484,
     "end_time": "2021-12-02T18:50:34.883540",
     "exception": false,
     "start_time": "2021-12-02T18:50:34.855056",
     "status": "completed"
    },
    "tags": []
   },
   "outputs": [],
   "source": [
    "from jax.tree_util import register_pytree_node\n",
    "from jax.tree_util import register_pytree_node_class"
   ]
  },
  {
   "cell_type": "code",
   "execution_count": 8,
   "id": "8af6d47c",
   "metadata": {
    "execution": {
     "iopub.execute_input": "2021-12-02T18:50:34.929770Z",
     "iopub.status.busy": "2021-12-02T18:50:34.929109Z",
     "iopub.status.idle": "2021-12-02T18:50:34.937518Z",
     "shell.execute_reply": "2021-12-02T18:50:34.938055Z",
     "shell.execute_reply.started": "2021-12-02T18:11:22.509139Z"
    },
    "papermill": {
     "duration": 0.033181,
     "end_time": "2021-12-02T18:50:34.938231",
     "exception": false,
     "start_time": "2021-12-02T18:50:34.905050",
     "status": "completed"
    },
    "tags": []
   },
   "outputs": [],
   "source": [
    "class Counter:\n",
    "    def __init__(self, count, name):\n",
    "        self.count = count\n",
    "        self.name = name\n",
    "        \n",
    "    def __repr__(self):\n",
    "        return f\"Counter value = {self.count}\"\n",
    "    \n",
    "    def increment(self):\n",
    "        return self.count + 1\n",
    "    \n",
    "    def decrement(self):\n",
    "        return self.count - 1\n",
    "    \n",
    "\n",
    "# Because JAX doesn't know how to flattent and unflatten these custom objects\n",
    "# hence we need to define those methods for these objects\n",
    "\n",
    "def flatten_counter(tree):\n",
    "    \"\"\"Specifies how to flatten a Counter class object.\n",
    "    \n",
    "    Args:\n",
    "        tree: Counter class object represented as Pytree node\n",
    "    Returns:\n",
    "        A pair of an iterable with the children to be flattened recursively,\n",
    "        and some opaque auxiliary data to pass back to the unflattening recipe.\n",
    "        The auxiliary data is stored in the treedef for use during unflattening.\n",
    "        The auxiliary data could be used, e.g., for dictionary keys.\n",
    "    \"\"\"\n",
    "    \n",
    "    children = (tree.count,)\n",
    "    aux_data = tree.name # We don't want to treat the name as a child\n",
    "    return (children, aux_data)\n",
    "\n",
    "\n",
    "def unflatten_counter(aux_data, children):\n",
    "    \"\"\"Specifies how to unflattening a Counter class object.\n",
    "\n",
    "    Args:\n",
    "        aux_data: the opaque data that was specified during flattening of the\n",
    "            current treedef.\n",
    "        children: the unflattened children\n",
    "    Returns:\n",
    "        A re-constructed object of the registered type, using the specified\n",
    "        children and auxiliary data.\n",
    "    \"\"\"\n",
    "    return Counter(*children, aux_data)\n",
    "\n",
    "\n",
    "# Now all we need to do is to tell JAX that we need to Register our class as\n",
    "# a Pytree node and it need to treat all the objects of that class as such\n",
    "register_pytree_node(\n",
    "    Counter,\n",
    "    flatten_counter,    # tell JAX what are the children nodes\n",
    "    unflatten_counter   # tell JAX how to pack back into a `Counter`\n",
    ")"
   ]
  },
  {
   "cell_type": "code",
   "execution_count": 9,
   "id": "4c0fe612",
   "metadata": {
    "execution": {
     "iopub.execute_input": "2021-12-02T18:50:34.989993Z",
     "iopub.status.busy": "2021-12-02T18:50:34.988912Z",
     "iopub.status.idle": "2021-12-02T18:50:34.992002Z",
     "shell.execute_reply": "2021-12-02T18:50:34.992518Z",
     "shell.execute_reply.started": "2021-12-02T18:11:22.934900Z"
    },
    "papermill": {
     "duration": 0.032815,
     "end_time": "2021-12-02T18:50:34.992687",
     "exception": false,
     "start_time": "2021-12-02T18:50:34.959872",
     "status": "completed"
    },
    "tags": []
   },
   "outputs": [
    {
     "name": "stdout",
     "output_type": "stream",
     "text": [
      "Original Pytree: Counter value = 5\n",
      "Leaves: [5]\n",
      "Pytree structure: PyTreeDef(CustomNode(<class '__main__.Counter'>[Counter_class_as_pytree_node], [*]))\n",
      "Reconstructed Pytree: Counter value = 5\n"
     ]
    }
   ],
   "source": [
    "# An instance of the Counter class\n",
    "my_counter = Counter(count=5, name=\"Counter_class_as_pytree_node\")\n",
    "\n",
    "# Flatten the custom object\n",
    "my_counter_leaves, my_counter_treedef = jax.tree_flatten(my_counter)\n",
    "\n",
    "# Unflatten\n",
    "my_counter_reconstructed = jax.tree_unflatten(\n",
    "    treedef=my_counter_treedef, leaves=my_counter_leaves\n",
    ")\n",
    "print(f\"Original Pytree: {repr(my_counter)}\")\n",
    "print(f\"Leaves: {repr(my_counter_leaves)}\")\n",
    "print(f\"Pytree structure: {repr(my_counter_treedef)}\")\n",
    "print(f\"Reconstructed Pytree: {repr(my_counter_reconstructed)}\")"
   ]
  },
  {
   "cell_type": "markdown",
   "id": "2d9720c7",
   "metadata": {
    "papermill": {
     "duration": 0.022671,
     "end_time": "2021-12-02T18:50:35.037836",
     "exception": false,
     "start_time": "2021-12-02T18:50:35.015165",
     "status": "completed"
    },
    "tags": []
   },
   "source": [
    "Easy, right? Well, that's JAX is all about, making things easy!\n",
    "\n",
    "**Note:** When defining a function to flatten the custom objects, please recheck the order of arguments passed to that function. The first positional parameter always represents the *auxiliary* data while the second argument always represents the *children*. Please check the `flatten_counter(...)` above as an example.\n",
    "\n",
    "One thing that we haven't checked yet is that if our pytree can do the equality check. Let's check it."
   ]
  },
  {
   "cell_type": "code",
   "execution_count": 10,
   "id": "c2d4f496",
   "metadata": {
    "execution": {
     "iopub.execute_input": "2021-12-02T18:50:35.085538Z",
     "iopub.status.busy": "2021-12-02T18:50:35.084542Z",
     "iopub.status.idle": "2021-12-02T18:50:35.093445Z",
     "shell.execute_reply": "2021-12-02T18:50:35.094006Z",
     "shell.execute_reply.started": "2021-12-02T18:11:24.215351Z"
    },
    "papermill": {
     "duration": 0.034621,
     "end_time": "2021-12-02T18:50:35.094186",
     "exception": false,
     "start_time": "2021-12-02T18:50:35.059565",
     "status": "completed"
    },
    "tags": []
   },
   "outputs": [
    {
     "data": {
      "text/plain": [
       "True"
      ]
     },
     "execution_count": 10,
     "metadata": {},
     "output_type": "execute_result"
    }
   ],
   "source": [
    "# Another instance\n",
    "my_counter_2 = Counter(count=5, name=\"Counter_class_as_pytree_node\")\n",
    "\n",
    "# Flatten the custom object\n",
    "my_counter_2_leaves, my_counter_2_treedef = jax.tree_flatten(my_counter)\n",
    "\n",
    "# Check if the treedef are same for both the pytrees\n",
    "my_counter_treedef == my_counter_2_treedef"
   ]
  },
  {
   "cell_type": "markdown",
   "id": "695f3121",
   "metadata": {
    "papermill": {
     "duration": 0.021681,
     "end_time": "2021-12-02T18:50:35.137918",
     "exception": false,
     "start_time": "2021-12-02T18:50:35.116237",
     "status": "completed"
    },
    "tags": []
   },
   "source": [
    "# Pytrees and JAX transformations\n",
    "\n",
    "Till now we discussed what pytrees are and how can you create one, including using a custom container-like object. Before we jump onto using pytrees for some high-level examples, let's take a step back and understand how JAX function transformations like `grad`, `vmap`, etc can be applied to pytrees."
   ]
  },
  {
   "cell_type": "code",
   "execution_count": 11,
   "id": "8c3f42eb",
   "metadata": {
    "execution": {
     "iopub.execute_input": "2021-12-02T18:50:35.185734Z",
     "iopub.status.busy": "2021-12-02T18:50:35.184717Z",
     "iopub.status.idle": "2021-12-02T18:50:35.695892Z",
     "shell.execute_reply": "2021-12-02T18:50:35.696925Z",
     "shell.execute_reply.started": "2021-12-02T18:11:25.551325Z"
    },
    "papermill": {
     "duration": 0.537251,
     "end_time": "2021-12-02T18:50:35.697166",
     "exception": false,
     "start_time": "2021-12-02T18:50:35.159915",
     "status": "completed"
    },
    "tags": []
   },
   "outputs": [
    {
     "name": "stdout",
     "output_type": "stream",
     "text": [
      "Original pytree:\n",
      " {'weights': DeviceArray([ 0.90665466, -0.9453377 ,  0.08205649, -1.8436366 ,\n",
      "              0.45950893], dtype=float32)}\n",
      "\n",
      "Leaves in the pytree:\n",
      "[DeviceArray([ 0.90665466, -0.9453377 ,  0.08205649, -1.8436366 ,\n",
      "              0.45950893], dtype=float32)]\n",
      "\n",
      "Gradients per example:\n",
      "{'weights': DeviceArray([0.48228705, 0.45585024, 0.99329686, 0.0953269 , 0.8153717 ],            dtype=float32)}\n",
      "\n"
     ]
    }
   ],
   "source": [
    "def activate(x):\n",
    "    \"\"\"Applies tanh activation.\"\"\"\n",
    "    return jnp.tanh(x[\"weights\"])\n",
    "\n",
    "\n",
    "# Always use the PRNG\n",
    "key = random.PRNGKey(1234)\n",
    "example_pytree = {\"weights\": random.normal(key=key, shape=(5,))}\n",
    "\n",
    "# We will now use vmap and grad to compute the gradients per sample\n",
    "grads_example_pytree = vmap(grad(activate), in_axes=({\"weights\":0},))(example_pytree)\n",
    "\n",
    "print(\"Original pytree:\")\n",
    "print(f\" {repr(example_pytree)}\\n\")\n",
    "print(\"Leaves in the pytree:\")\n",
    "print(f\"{repr(jax.tree_leaves(example_pytree))}\\n\")\n",
    "print(\"Gradients per example:\")\n",
    "print(f\"{grads_example_pytree}\\n\")"
   ]
  },
  {
   "cell_type": "markdown",
   "id": "51b75270",
   "metadata": {
    "papermill": {
     "duration": 0.022043,
     "end_time": "2021-12-02T18:50:35.742073",
     "exception": false,
     "start_time": "2021-12-02T18:50:35.720030",
     "status": "completed"
    },
    "tags": []
   },
   "source": [
    "A few things to note:\n",
    "1. We can combine any JAX transformation and apply it to the pytrees.\n",
    "2. Some transformations like `vmap` and `pmap` take in optional parameters like `in_axes` and `out_axes` that specify how certain input or output values should be treated. These parameters can also be pytrees, and their structure must correspond to the pytree structure of the corresponding arguments. For example, check how we passed the value for `in_axes` in the above example"
   ]
  },
  {
   "cell_type": "markdown",
   "id": "e063986a",
   "metadata": {
    "papermill": {
     "duration": 0.022049,
     "end_time": "2021-12-02T18:50:35.787253",
     "exception": false,
     "start_time": "2021-12-02T18:50:35.765204",
     "status": "completed"
    },
    "tags": []
   },
   "source": [
    "# Jaxprs and Pytrees\n",
    "\n",
    "As with any other JAX code, you can use jaxprs with pytrees as well. For example, let's check the jaxpr of the above example"
   ]
  },
  {
   "cell_type": "code",
   "execution_count": 12,
   "id": "488803af",
   "metadata": {
    "execution": {
     "iopub.execute_input": "2021-12-02T18:50:35.835419Z",
     "iopub.status.busy": "2021-12-02T18:50:35.834769Z",
     "iopub.status.idle": "2021-12-02T18:50:35.846980Z",
     "shell.execute_reply": "2021-12-02T18:50:35.847566Z",
     "shell.execute_reply.started": "2021-12-02T18:11:28.069187Z"
    },
    "papermill": {
     "duration": 0.038184,
     "end_time": "2021-12-02T18:50:35.847732",
     "exception": false,
     "start_time": "2021-12-02T18:50:35.809548",
     "status": "completed"
    },
    "tags": []
   },
   "outputs": [
    {
     "data": {
      "text/plain": [
       "{ lambda  ; a.\n",
       "  let b = tanh a\n",
       "      c = sub 1.0 b\n",
       "      d = mul 1.0 c\n",
       "      e = mul d b\n",
       "      f = add_any d e\n",
       "  in (f,) }"
      ]
     },
     "execution_count": 12,
     "metadata": {},
     "output_type": "execute_result"
    }
   ],
   "source": [
    "make_jaxpr(vmap(grad(activate), in_axes=({\"weights\":0},)))(example_pytree)"
   ]
  },
  {
   "cell_type": "markdown",
   "id": "a31b615c",
   "metadata": {
    "papermill": {
     "duration": 0.022321,
     "end_time": "2021-12-02T18:50:35.892399",
     "exception": false,
     "start_time": "2021-12-02T18:50:35.870078",
     "status": "completed"
    },
    "tags": []
   },
   "source": [
    "# Why pytrees?\n",
    "\n",
    "Till now we discussed Pytrees but one question that we didn't answer yet is why should you learn about pytrees and what are the common use cases for using pytrees. Although there are many use-cases for pytrees, the most common use-case is to specify the model parameters. For example, if you want to build a DNN, you can store the weights and biases corresponding to each layer as pytrees. You can even define your whole module representing the functionality of your DNN as a pytree.\n",
    "Let's see an example in action for the same. This one is taken from the JAX docs only."
   ]
  },
  {
   "cell_type": "code",
   "execution_count": 13,
   "id": "521d39e3",
   "metadata": {
    "execution": {
     "iopub.execute_input": "2021-12-02T18:50:35.952268Z",
     "iopub.status.busy": "2021-12-02T18:50:35.941109Z",
     "iopub.status.idle": "2021-12-02T18:50:36.879536Z",
     "shell.execute_reply": "2021-12-02T18:50:36.880041Z",
     "shell.execute_reply.started": "2021-12-02T18:11:36.968820Z"
    },
    "papermill": {
     "duration": 0.965174,
     "end_time": "2021-12-02T18:50:36.880247",
     "exception": false,
     "start_time": "2021-12-02T18:50:35.915073",
     "status": "completed"
    },
    "tags": []
   },
   "outputs": [
    {
     "data": {
      "image/png": "[encoded data removed]",
      "text/plain": [
       "<Figure size 432x288 with 1 Axes>"
      ]
     },
     "metadata": {
      "needs_background": "light"
     },
     "output_type": "display_data"
    }
   ],
   "source": [
    "key = random.PRNGKey(111)\n",
    "key, subkey = random.split(key)\n",
    "\n",
    "# Generate some random data\n",
    "x = random.normal(key=key, shape=(128, 1))\n",
    "# Let's just do y = 10x + 20\n",
    "y = 10 * x + 20\n",
    "\n",
    "plt.plot(x, y, marker='x', label='Generated linear function')\n",
    "plt.legend()\n",
    "plt.show()"
   ]
  },
  {
   "cell_type": "code",
   "execution_count": 14,
   "id": "ce39210a",
   "metadata": {
    "execution": {
     "iopub.execute_input": "2021-12-02T18:50:36.978167Z",
     "iopub.status.busy": "2021-12-02T18:50:36.937824Z",
     "iopub.status.idle": "2021-12-02T18:50:37.720010Z",
     "shell.execute_reply": "2021-12-02T18:50:37.718433Z",
     "shell.execute_reply.started": "2021-12-02T18:17:45.013477Z"
    },
    "papermill": {
     "duration": 0.815554,
     "end_time": "2021-12-02T18:50:37.720215",
     "exception": false,
     "start_time": "2021-12-02T18:50:36.904661",
     "status": "completed"
    },
    "tags": []
   },
   "outputs": [
    {
     "name": "stdout",
     "output_type": "stream",
     "text": [
      "Layer 1 => Params shape: {'biases': (128,), 'weights': (1, 128)}\n",
      "Layer 2 => Params shape: {'biases': (128,), 'weights': (128, 128)}\n",
      "Layer 3 => Params shape: {'biases': (1,), 'weights': (128, 1)}\n"
     ]
    }
   ],
   "source": [
    "def initialize_params(key, dims):\n",
    "    \"\"\"Initialize the weights and biases of the MLP.\n",
    "    \n",
    "    Args:\n",
    "        key: PRNG key\n",
    "        dims: List of integers\n",
    "    Returns:\n",
    "        A pytree of initialized paramters for each layer\n",
    "    \"\"\"\n",
    "    \n",
    "    params = []\n",
    "    \n",
    "    for dim_in, dim_out in zip(dims[:-1], dims[1:]):\n",
    "        key, subkey = random.split(key)\n",
    "        weights = random.normal(key=key, shape=(dim_in, dim_out)) * jnp.sqrt(2 / dim_in)\n",
    "        biases = jnp.zeros(shape=(dim_out))\n",
    "        params.append({\"weights\": weights, \"biases\":biases})\n",
    "    \n",
    "    return params\n",
    "\n",
    "\n",
    "# Initialize the parameters\n",
    "params = initialize_params(key=subkey, dims=[1, 128, 128, 1])\n",
    "\n",
    "# We can inspect the shape of the intialized params as well\n",
    "shapes = jax.tree_map(lambda layer_params: layer_params.shape, params)\n",
    "\n",
    "for i, shape in enumerate(shapes):\n",
    "    print(f\"Layer {i+1} => Params shape: {shape}\")"
   ]
  },
  {
   "cell_type": "code",
   "execution_count": 15,
   "id": "376cc5e6",
   "metadata": {
    "execution": {
     "iopub.execute_input": "2021-12-02T18:50:37.782202Z",
     "iopub.status.busy": "2021-12-02T18:50:37.781069Z",
     "iopub.status.idle": "2021-12-02T18:50:39.290147Z",
     "shell.execute_reply": "2021-12-02T18:50:39.289405Z",
     "shell.execute_reply.started": "2021-12-02T18:17:45.649044Z"
    },
    "papermill": {
     "duration": 1.545458,
     "end_time": "2021-12-02T18:50:39.290310",
     "exception": false,
     "start_time": "2021-12-02T18:50:37.744852",
     "status": "completed"
    },
    "tags": []
   },
   "outputs": [
    {
     "data": {
      "image/png": "[encoded data removed]",
      "text/plain": [
       "<Figure size 432x288 with 1 Axes>"
      ]
     },
     "metadata": {
      "needs_background": "light"
     },
     "output_type": "display_data"
    }
   ],
   "source": [
    "def forward(params, x):\n",
    "    \"\"\"Forward pass for the MLP\n",
    "    \n",
    "    Args:\n",
    "        params: A pytree containing the parameters of the network\n",
    "        x: Inputs\n",
    "    \"\"\"\n",
    "    *hidden, last = params\n",
    "    for layer in hidden:\n",
    "        x = jax.nn.relu(x @ layer['weights'] + layer['biases'])\n",
    "    return x @ last['weights'] + last['biases']\n",
    "\n",
    "\n",
    "def loss_fn(params, x, y):\n",
    "    \"\"\"Mean squared error loss function.\"\"\"\n",
    "    return jnp.mean((forward(params, x) - y) ** 2)\n",
    "\n",
    "\n",
    "\n",
    "@jax.jit\n",
    "def update(params, x, y):\n",
    "    \"\"\"Updates the parameters of the network.\n",
    "    \n",
    "    Args:\n",
    "        params: A pytree containing the parameters of the network\n",
    "        x : Inputs\n",
    "        y:  Outputs\n",
    "    Returns:\n",
    "        Pytree with updated values\n",
    "    \"\"\"\n",
    "    \n",
    "    # 1. Calculate the gradients based on the loss\n",
    "    grads = jax.grad(loss_fn)(params, x, y)\n",
    "    \n",
    "    # 2. Update the parameters using `tree_multi_map(...)`\n",
    "    return jax.tree_multimap(lambda p, g: p - 0.0001 * g, params, grads)\n",
    "\n",
    "\n",
    "\n",
    "\n",
    "# Run the model for a few iterations\n",
    "for _ in range(2000):\n",
    "    params = update(params, x, y)\n",
    "    \n",
    "    \n",
    "# Plot the predictions and the ground truth\n",
    "plt.plot(x, y, marker='x', label='Generated linear function')\n",
    "plt.plot(x, forward(params, x), marker=\"x\", label=\"Predictions\")\n",
    "plt.legend()\n",
    "plt.show()"
   ]
  },
  {
   "cell_type": "markdown",
   "id": "66a32a31",
   "metadata": {
    "papermill": {
     "duration": 0.024673,
     "end_time": "2021-12-02T18:50:39.340086",
     "exception": false,
     "start_time": "2021-12-02T18:50:39.315413",
     "status": "completed"
    },
    "tags": []
   },
   "source": [
    "That's it for now. We have now completed all the basic things you need to know about JAX. I believe if you grasp the understanding of the concepts that we have covered yet, it will be more than sufficient. In future tutorials, we will build NNs using JAX.\n",
    "\n",
    "# References\n",
    "\n",
    "1. https://jax.readthedocs.io/en/latest/pytrees.html\n",
    "2. https://jax.readthedocs.io/en/latest/jax-101/05.1-pytrees.html\n",
    "3. https://arxiv.org/pdf/2111.00254v1.pdf\n",
    "4. https://github.com/patrick-kidger/equinox\n",
    "5. https://github.com/poets-ai/elegy"
   ]
  }
 ],
 "metadata": {
  "kernelspec": {
   "display_name": "Python 3",
   "language": "python",
   "name": "python3"
  },
  "language_info": {
   "codemirror_mode": {
    "name": "ipython",
    "version": 3
   },
   "file_extension": ".py",
   "mimetype": "text/x-python",
   "name": "python",
   "nbconvert_exporter": "python",
   "pygments_lexer": "ipython3",
   "version": "3.7.10"
  },
  "papermill": {
   "default_parameters": {},
   "duration": 19.753701,
   "end_time": "2021-12-02T18:50:42.771291",
   "environment_variables": {},
   "exception": null,
   "input_path": "__notebook__.ipynb",
   "output_path": "__notebook__.ipynb",
   "parameters": {},
   "start_time": "2021-12-02T18:50:23.017590",
   "version": "2.3.3"
  }
 },
 "nbformat": 4,
 "nbformat_minor": 5
}
