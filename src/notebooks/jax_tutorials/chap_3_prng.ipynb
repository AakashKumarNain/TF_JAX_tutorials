{
 "cells": [
  {
   "cell_type": "markdown",
   "id": "fa01a06a",
   "metadata": {
    "_cell_guid": "b1076dfc-b9ad-4769-8c92-a6c4dae69d19",
    "_uuid": "8f2839f25d086af736a60e9eeb907d3b93b6e0e5",
    "papermill": {
     "duration": 0.021133,
     "end_time": "2021-08-12T19:04:18.808118",
     "exception": false,
     "start_time": "2021-08-12T19:04:18.786985",
     "status": "completed"
    },
    "tags": []
   },
   "source": [
    "<img src=\"https://raw.githubusercontent.com/google/jax/main/images/jax_logo_250px.png\" width=\"300\" height=\"300\" align=\"center\"/><br>\n",
    "\n",
    "Welcome to another JAX tutorial. Till now, we have discussed **DeviceArray** and **Pure Functions** in JAX. Today, we will dive\n",
    "into another important concept **`Pseudo Random Number Generation`** in JAX. We all have been using `random numbers` in libraries\n",
    "like `numpy`, `scikit-learn`, `TensorFlow`, `PyTorch`, etc. We will see how PRNGs, as done in `numpy`, are not good enough and how JAXtries to overcome those limitations.\n",
    "\n",
    "As usual, if you haven't gone through the previous tutorials, I highly suggest going through them. Here are the links:\n",
    "\n",
    "1. [TF_JAX_Tutorials - Part 1](https://www.kaggle.com/aakashnain/tf-jax-tutorials-part1)\n",
    "2. [TF_JAX_Tutorials - Part 2](https://www.kaggle.com/aakashnain/tf-jax-tutorials-part2)\n",
    "3. [TF_JAX_Tutorials - Part 3](https://www.kaggle.com/aakashnain/tf-jax-tutorials-part3)\n",
    "4. [TF_JAX_Tutorials - Part 4 (JAX and DeviceArray)](https://www.kaggle.com/aakashnain/tf-jax-tutorials-part-4-jax-and-devicearray)\n",
    "5. [TF_JAX_Tutorials - Part 5 (Pure Functions in JAX)](https://www.kaggle.com/aakashnain/tf-jax-tutorials-part-5-pure-functions-in-jax/)\n",
    "\n",
    "\n",
    "Lets' start with the basic concepts of PRNGs first, and then we will look into the implementation differences between `numpy` and JAX for the same"
   ]
  },
  {
   "cell_type": "markdown",
   "id": "fd4fe214",
   "metadata": {
    "papermill": {
     "duration": 0.020063,
     "end_time": "2021-08-12T19:04:18.850437",
     "exception": false,
     "start_time": "2021-08-12T19:04:18.830374",
     "status": "completed"
    },
    "tags": []
   },
   "source": [
    "# PRNG - An Introduction\n",
    "\n",
    "Before we look into random numbers generation, here are a few questions that you should ask:<br>\n",
    "1. What is PRNG?\n",
    "2. What is PRNG used for?\n",
    "3. Why should you care about PRNG?\n",
    "\n",
    "\n",
    "Let's tackle those questions one by one and try to understand the `why` and `how` for the things that we are going to learn in this tutorial"
   ]
  },
  {
   "cell_type": "markdown",
   "id": "b3ac2ef1",
   "metadata": {
    "papermill": {
     "duration": 0.021176,
     "end_time": "2021-08-12T19:04:18.893210",
     "exception": false,
     "start_time": "2021-08-12T19:04:18.872034",
     "status": "completed"
    },
    "tags": []
   },
   "source": [
    "## What is PRNG?\n",
    "\n",
    "If we go by the definition, then **`Pseudo Random Number Generation`** is a process of generating a sequence of random numbers **algorithmically** such that the properties of the generated random numbers approximate the properties of a sequence of random numbers sampled from an appropriate distribution. And when we say `random`, it means that the probability of predicting this sequence is no better than a random guess.\n",
    "\n",
    "Although we are concerned about the randomness here, pseudo random number generation isn't *truly* a random process. Why? Because the sequence is determined by the initial value or initial state provided to the algorithm. The **algorithm** used to generate these sequences of random numbers is known as **`Pseudo Random Number Generator`**\n",
    "\n",
    "\n",
    "## What is PRNG used for?\n",
    "\n",
    "PRNG has a lot of use cases but among the most interesting ones are in `Cryptography`, `Simulations`, `Games`, `Data Science and Machine Learning`(of course), etc. You might have noticed that *most* people set the **`seed`** in their Data Science and Machine Learning workflow. The **seed** is known as the initial value!\n",
    "\n",
    "\n",
    "## Why should you care about PRNG?\n",
    "\n",
    "Although there are tons of use cases of PRNG, I would keep this very specific to Data Science and Machine Learning workflow. When we set a seed, what we try to solve is the `reproducibility` issue. Although `reproducibility` depends on a lot of things, I will use the term very loosely in this context. \n",
    "\n",
    "We deal with random states in Machine Learning work more often than we think about. For example, splitting a dataset into training and validation sets, sampling the weights of a hidden layer from a given distribution in a neural network, sampling a noise vector from a Gaussian distribution, etc. So, when we say `reproducible` in this context, what we mean is that no matter how many times I run the same process, I should get the same sequence of random numbers. That's why setting a seed becomes important. \n",
    "\n",
    "**Note:** Saying it again, setting `seed` doesn't solve the reproducibility crisis of a workflow, it's just a first step to ensure it.\n",
    "\n",
    "Let's take an example to clear the point about reproducibility!"
   ]
  },
  {
   "cell_type": "code",
   "execution_count": 1,
   "id": "29ee1722",
   "metadata": {
    "execution": {
     "iopub.execute_input": "2021-08-12T19:04:18.949009Z",
     "iopub.status.busy": "2021-08-12T19:04:18.948140Z",
     "iopub.status.idle": "2021-08-12T19:04:20.713158Z",
     "shell.execute_reply": "2021-08-12T19:04:20.712354Z",
     "shell.execute_reply.started": "2021-08-12T17:44:10.419602Z"
    },
    "papermill": {
     "duration": 1.799009,
     "end_time": "2021-08-12T19:04:20.713335",
     "exception": false,
     "start_time": "2021-08-12T19:04:18.914326",
     "status": "completed"
    },
    "tags": []
   },
   "outputs": [],
   "source": [
    "import numpy as np\n",
    "from joblib import Parallel, delayed\n",
    "\n",
    "import jax\n",
    "from jax import jit\n",
    "import jax.numpy as jnp\n",
    "\n",
    "%config IPCompleter.use_jedi = False"
   ]
  },
  {
   "cell_type": "markdown",
   "id": "97d4f2a9",
   "metadata": {
    "papermill": {
     "duration": 0.019518,
     "end_time": "2021-08-12T19:04:20.754117",
     "exception": false,
     "start_time": "2021-08-12T19:04:20.734599",
     "status": "completed"
    },
    "tags": []
   },
   "source": [
    "# Random Numbers in Numpy"
   ]
  },
  {
   "cell_type": "code",
   "execution_count": 2,
   "id": "eb598b30",
   "metadata": {
    "execution": {
     "iopub.execute_input": "2021-08-12T19:04:20.802640Z",
     "iopub.status.busy": "2021-08-12T19:04:20.801559Z",
     "iopub.status.idle": "2021-08-12T19:04:20.809116Z",
     "shell.execute_reply": "2021-08-12T19:04:20.808211Z",
     "shell.execute_reply.started": "2021-08-12T17:44:12.333354Z"
    },
    "papermill": {
     "duration": 0.033683,
     "end_time": "2021-08-12T19:04:20.809344",
     "exception": false,
     "start_time": "2021-08-12T19:04:20.775661",
     "status": "completed"
    },
    "tags": []
   },
   "outputs": [
    {
     "name": "stdout",
     "output_type": "stream",
     "text": [
      "Seed: 0 -> Random number generated: 4\n",
      "Seed: 0 -> Random number generated: 4\n",
      "Seed: 0 -> Random number generated: 4\n",
      "Seed: 0 -> Random number generated: 4\n",
      "Seed: 0 -> Random number generated: 4\n",
      "Seed: 0 -> Random number generated: 4\n",
      "Seed: 0 -> Random number generated: 4\n",
      "Seed: 0 -> Random number generated: 4\n",
      "Seed: 0 -> Random number generated: 4\n",
      "Seed: 0 -> Random number generated: 4\n"
     ]
    }
   ],
   "source": [
    "# If I set the seed, would I get the same sequence of random numbers every time?\n",
    "\n",
    "for i in range(10):\n",
    "    # Set initial value by providing a seed value\n",
    "    seed = 0 \n",
    "    np.random.seed(seed)\n",
    "    \n",
    "    # Generate a random integer from a range of [0, 5)\n",
    "    random_number = np.random.randint(0, 5)\n",
    "    print(f\"Seed: {seed} -> Random number generated: {random_number}\")"
   ]
  },
  {
   "cell_type": "markdown",
   "id": "557cda97",
   "metadata": {
    "papermill": {
     "duration": 0.020171,
     "end_time": "2021-08-12T19:04:20.850113",
     "exception": false,
     "start_time": "2021-08-12T19:04:20.829942",
     "status": "completed"
    },
    "tags": []
   },
   "source": [
    "Let's take a bit complex example. We will take an array and split the array into two arrays. Consider this an example that mimics the train-validation split"
   ]
  },
  {
   "cell_type": "code",
   "execution_count": 3,
   "id": "822c9af4",
   "metadata": {
    "execution": {
     "iopub.execute_input": "2021-08-12T19:04:20.902547Z",
     "iopub.status.busy": "2021-08-12T19:04:20.901103Z",
     "iopub.status.idle": "2021-08-12T19:04:20.909008Z",
     "shell.execute_reply": "2021-08-12T19:04:20.908463Z",
     "shell.execute_reply.started": "2021-08-12T17:44:12.347494Z"
    },
    "papermill": {
     "duration": 0.037296,
     "end_time": "2021-08-12T19:04:20.909153",
     "exception": false,
     "start_time": "2021-08-12T19:04:20.871857",
     "status": "completed"
    },
    "tags": []
   },
   "outputs": [
    {
     "name": "stdout",
     "output_type": "stream",
     "text": [
      "Iteration: 1  Seed value: 1234\n",
      "\n",
      "Train array: [3 6 5 4 8 9 1 7]  Valid array: [9 6]\n",
      "==================================================\n",
      "\n",
      "Iteration: 2  Seed value: 1234\n",
      "\n",
      "Train array: [3 6 5 4 8 9 1 7]  Valid array: [9 6]\n",
      "==================================================\n",
      "\n",
      "Iteration: 3  Seed value: 1234\n",
      "\n",
      "Train array: [3 6 5 4 8 9 1 7]  Valid array: [9 6]\n",
      "==================================================\n",
      "\n",
      "Iteration: 4  Seed value: 1234\n",
      "\n",
      "Train array: [3 6 5 4 8 9 1 7]  Valid array: [9 6]\n",
      "==================================================\n",
      "\n",
      "Iteration: 5  Seed value: 1234\n",
      "\n",
      "Train array: [3 6 5 4 8 9 1 7]  Valid array: [9 6]\n",
      "==================================================\n",
      "\n"
     ]
    }
   ],
   "source": [
    "# Array of 10 values\n",
    "array = np.arange(10)\n",
    "\n",
    "for i in range(5):\n",
    "    # Set initial value by providing a seed value\n",
    "    seed = 1234\n",
    "    np.random.seed(seed)\n",
    "    \n",
    "    # Choose training and validation indices\n",
    "    train_indices = np.random.choice(array, size=8)\n",
    "    valid_indices = np.random.choice(array, size=2)\n",
    "    \n",
    "    # Split the array into training and validation sets\n",
    "    train_array = array[train_indices]\n",
    "    valid_array = array[valid_indices]\n",
    "    \n",
    "    print(f\"Iteration: {i+1}  Seed value: {seed}\\n\")\n",
    "    print(f\"Train array: {train_array}  Valid array: {valid_array}\")\n",
    "    print(\"=\"*50)\n",
    "    print(\"\")"
   ]
  },
  {
   "cell_type": "markdown",
   "id": "7c63cb80",
   "metadata": {
    "papermill": {
     "duration": 0.02221,
     "end_time": "2021-08-12T19:04:20.951770",
     "exception": false,
     "start_time": "2021-08-12T19:04:20.929560",
     "status": "completed"
    },
    "tags": []
   },
   "source": [
    "<div class=\"alert alert-warning\"> <b>Note: </b>The one we saw above is the <b>legacy</b> way to generate a sequence of random numbers in numpy. It uses a legacy generator provided by numpy <i><a href=\"https://numpy.org/doc/stable/reference/random/legacy.html\">RandomState(...)</a></i>. But this is also the one that is most widely used. There is another functions (preferred way as per the docs) <i>np.random.default_rng()</i> that uses the default BitGenerator for generating random sequences.\n",
    "</div><br><br>\n",
    "\n",
    "Let's repeat the above example with `default_rng(...)` as well. Because this is a different RNG, we should expect a different sequence here."
   ]
  },
  {
   "cell_type": "code",
   "execution_count": 4,
   "id": "99956bcd",
   "metadata": {
    "execution": {
     "iopub.execute_input": "2021-08-12T19:04:21.003335Z",
     "iopub.status.busy": "2021-08-12T19:04:21.002501Z",
     "iopub.status.idle": "2021-08-12T19:04:21.011366Z",
     "shell.execute_reply": "2021-08-12T19:04:21.011822Z",
     "shell.execute_reply.started": "2021-08-12T17:44:12.366783Z"
    },
    "papermill": {
     "duration": 0.039384,
     "end_time": "2021-08-12T19:04:21.012030",
     "exception": false,
     "start_time": "2021-08-12T19:04:20.972646",
     "status": "completed"
    },
    "tags": []
   },
   "outputs": [
    {
     "name": "stdout",
     "output_type": "stream",
     "text": [
      "Iteration: 1  Seed value: 1234\n",
      "\n",
      "Train array: [9 9 9 3 1 9 1 2]  Valid array: [1 3]\n",
      "==================================================\n",
      "\n",
      "Iteration: 2  Seed value: 1234\n",
      "\n",
      "Train array: [9 9 9 3 1 9 1 2]  Valid array: [1 3]\n",
      "==================================================\n",
      "\n",
      "Iteration: 3  Seed value: 1234\n",
      "\n",
      "Train array: [9 9 9 3 1 9 1 2]  Valid array: [1 3]\n",
      "==================================================\n",
      "\n",
      "Iteration: 4  Seed value: 1234\n",
      "\n",
      "Train array: [9 9 9 3 1 9 1 2]  Valid array: [1 3]\n",
      "==================================================\n",
      "\n",
      "Iteration: 5  Seed value: 1234\n",
      "\n",
      "Train array: [9 9 9 3 1 9 1 2]  Valid array: [1 3]\n",
      "==================================================\n",
      "\n"
     ]
    }
   ],
   "source": [
    "# Same example but with a different kind of random number generator\n",
    "for i in range(5):\n",
    "    # Set initial value by providing a seed value\n",
    "    seed = 1234\n",
    "    rng = np.random.default_rng(seed)\n",
    "    \n",
    "    # Choose training and validation indices\n",
    "    train_indices = rng.choice(array, size=8)\n",
    "    valid_indices = rng.choice(array, size=2)\n",
    "    \n",
    "    # Split the array into training and validation sets\n",
    "    train_array = array[train_indices]\n",
    "    valid_array = array[valid_indices]\n",
    "    \n",
    "    print(f\"Iteration: {i+1}  Seed value: {seed}\\n\")\n",
    "    print(f\"Train array: {train_array}  Valid array: {valid_array}\")\n",
    "    print(\"=\"*50)\n",
    "    print(\"\")"
   ]
  },
  {
   "cell_type": "markdown",
   "id": "291f9479",
   "metadata": {
    "papermill": {
     "duration": 0.029109,
     "end_time": "2021-08-12T19:04:21.066875",
     "exception": false,
     "start_time": "2021-08-12T19:04:21.037766",
     "status": "completed"
    },
    "tags": []
   },
   "source": [
    "# Numpy PRNG: Pros and Cons\n",
    "\n",
    "We saw a few examples of how you can generate pseudo random numbers in numpy. But I am pretty sure that most of us overlook the `pros` and `cons` of these approaches. Today isn't that day. We will dive into the pros and cons right away.\n",
    "\n",
    "\n",
    "## Pros\n",
    "\n",
    "1. Setting a global seed is easy from most of the end users' perspectives. You set it once and be done with it\n",
    "2. With the new generator and **[SeedSequencing](https://numpy.org/doc/stable/reference/random/bit_generators/generated/numpy.random.SeedSequence.html#numpy.random.SeedSequence)**, it is possible to produce repeatable pseudo-random numbers across multiple processes (local or distributed)\n",
    "3. **Sequential Equivalent Guarantee**: One of the good things about random number generation in `numpy` is that it ensures sequential equivalent guarantee. What does that mean? It means that whether you sample a vector of `n` elements at once, or sample `n` elements but one at a time, the final sequence will always be the same. Let's see this one in action"
   ]
  },
  {
   "cell_type": "code",
   "execution_count": 5,
   "id": "360f97a7",
   "metadata": {
    "execution": {
     "iopub.execute_input": "2021-08-12T19:04:21.130210Z",
     "iopub.status.busy": "2021-08-12T19:04:21.129401Z",
     "iopub.status.idle": "2021-08-12T19:04:21.133639Z",
     "shell.execute_reply": "2021-08-12T19:04:21.134172Z",
     "shell.execute_reply.started": "2021-08-12T17:44:12.866519Z"
    },
    "papermill": {
     "duration": 0.036723,
     "end_time": "2021-08-12T19:04:21.134365",
     "exception": false,
     "start_time": "2021-08-12T19:04:21.097642",
     "status": "completed"
    },
    "tags": []
   },
   "outputs": [
    {
     "name": "stdout",
     "output_type": "stream",
     "text": [
      "Sampled all at once    => [3 6 5 4 8 9 1 7 9 6]\n",
      "Sampled one at a time  => [3 6 5 4 8 9 1 7 9 6]\n"
     ]
    }
   ],
   "source": [
    "# Set the seed\n",
    "seed = 1234\n",
    "np.random.seed(seed)\n",
    "\n",
    "# Sample a vector of size 10 \n",
    "array1 = np.random.randint(0, 10, size=10)\n",
    "\n",
    "# Sample 10 elements one at a time\n",
    "np.random.seed(seed)\n",
    "array2 = np.stack([np.random.randint(0, 10) for _ in range(10)])\n",
    "\n",
    "print(f\"Sampled all at once    => {array1}\")\n",
    "print(f\"Sampled one at a time  => {array2}\")"
   ]
  },
  {
   "cell_type": "markdown",
   "id": "fd9ce538",
   "metadata": {
    "papermill": {
     "duration": 0.024195,
     "end_time": "2021-08-12T19:04:21.190282",
     "exception": false,
     "start_time": "2021-08-12T19:04:21.166087",
     "status": "completed"
    },
    "tags": []
   },
   "source": [
    "## Cons\n",
    "\n",
    "1. Global state is bad for reproducibility: Global state is problematic especially if you are going to implement some sort of concurrency in your code. That's why the original way to set global seed in numpy isn't encouraged anymore\n",
    "2. With a shared global state, it’s hard to reason about how it’s being used and updated across different threads, processes, and devices, and it’s very easy to screw up when the details of entropy production and consumption are hidden from the end-user.\n",
    "3. The **Mersenne Twister PRNG** used in most of the python and numpy code has several [initialization issues](https://dl.acm.org/doi/10.1145/1276927.1276928)\n",
    "4. `SeedSequencing` makes it easy to get a reproducible sequence of random numbers when concurrency is involved but it still can't be used for JAX (we will see later in why exactly!) \n",
    "\n",
    "Let's take an example of `SeedSequencing` as well before we move to JAX PRNG design"
   ]
  },
  {
   "cell_type": "code",
   "execution_count": 6,
   "id": "0c130b48",
   "metadata": {
    "execution": {
     "iopub.execute_input": "2021-08-12T19:04:21.241118Z",
     "iopub.status.busy": "2021-08-12T19:04:21.240069Z",
     "iopub.status.idle": "2021-08-12T19:04:21.245453Z",
     "shell.execute_reply": "2021-08-12T19:04:21.245911Z",
     "shell.execute_reply.started": "2021-08-12T17:44:13.541905Z"
    },
    "papermill": {
     "duration": 0.031477,
     "end_time": "2021-08-12T19:04:21.246106",
     "exception": false,
     "start_time": "2021-08-12T19:04:21.214629",
     "status": "completed"
    },
    "tags": []
   },
   "outputs": [],
   "source": [
    "def get_sequence(seed, size=5):\n",
    "    rng = np.random.default_rng(seed)\n",
    "    array = np.arange(10)\n",
    "    return rng.choice(array, size=size)"
   ]
  },
  {
   "cell_type": "code",
   "execution_count": 7,
   "id": "dcf90c8f",
   "metadata": {
    "execution": {
     "iopub.execute_input": "2021-08-12T19:04:21.295618Z",
     "iopub.status.busy": "2021-08-12T19:04:21.295006Z",
     "iopub.status.idle": "2021-08-12T19:04:21.769299Z",
     "shell.execute_reply": "2021-08-12T19:04:21.768773Z",
     "shell.execute_reply.started": "2021-08-12T17:44:13.782236Z"
    },
    "papermill": {
     "duration": 0.50181,
     "end_time": "2021-08-12T19:04:21.769449",
     "exception": false,
     "start_time": "2021-08-12T19:04:21.267639",
     "status": "completed"
    },
    "tags": []
   },
   "outputs": [
    {
     "name": "stdout",
     "output_type": "stream",
     "text": [
      "Iteration: 1 Sequences: [array([4, 5, 4, 2, 5]), array([7, 7, 7, 5, 1])]\n",
      "======================================================================\n",
      "Iteration: 2 Sequences: [array([4, 5, 4, 2, 5]), array([7, 7, 7, 5, 1])]\n",
      "======================================================================\n",
      "Iteration: 3 Sequences: [array([4, 5, 4, 2, 5]), array([7, 7, 7, 5, 1])]\n",
      "======================================================================\n",
      "Iteration: 4 Sequences: [array([4, 5, 4, 2, 5]), array([7, 7, 7, 5, 1])]\n",
      "======================================================================\n",
      "Iteration: 5 Sequences: [array([4, 5, 4, 2, 5]), array([7, 7, 7, 5, 1])]\n",
      "======================================================================\n"
     ]
    }
   ],
   "source": [
    "# Instantiate SeedSequence\n",
    "seed = 1234\n",
    "ss = np.random.SeedSequence(seed)\n",
    "\n",
    "# Spawn 2 child seed sequence\n",
    "child_seeds = ss.spawn(2)\n",
    "\n",
    "# Run the function a few times in parallel to check if we get\n",
    "# same RNG sequence\n",
    "for i in range(5):\n",
    "    res = []\n",
    "    for child_seed in child_seeds:\n",
    "        res.append(delayed(get_sequence)(child_seed))\n",
    "    res = Parallel(n_jobs=2)(res)\n",
    "    print(f\"Iteration: {i+1} Sequences: {res}\")\n",
    "    print(\"=\"*70)"
   ]
  },
  {
   "cell_type": "markdown",
   "id": "9de66d7d",
   "metadata": {
    "papermill": {
     "duration": 0.020997,
     "end_time": "2021-08-12T19:04:21.813600",
     "exception": false,
     "start_time": "2021-08-12T19:04:21.792603",
     "status": "completed"
    },
    "tags": []
   },
   "source": [
    "# Random Numbers in JAX\n",
    "\n",
    "RNG in JAX is very different from RNG in numpy. A question that naturally comes to mind is this: Why would the JAX team implement a whole new PRNG in JAX when they could have just reused the same codebase from numpy? ¯\\_(ツ)_/¯\n",
    "\n",
    "Let's take a few examples to answer that question\n",
    "\n",
    "Execution of functions that use numpy code is enforced by Python. Let's say `A`, and `B` are two functions. The return values from `A` and `B` are assigned to `C`. So, the code looks like this: `C = A() + B()`"
   ]
  },
  {
   "cell_type": "code",
   "execution_count": 8,
   "id": "2d2a52ee",
   "metadata": {
    "execution": {
     "iopub.execute_input": "2021-08-12T19:04:21.860358Z",
     "iopub.status.busy": "2021-08-12T19:04:21.859702Z",
     "iopub.status.idle": "2021-08-12T19:04:21.867819Z",
     "shell.execute_reply": "2021-08-12T19:04:21.867251Z",
     "shell.execute_reply.started": "2021-08-12T17:44:14.699660Z"
    },
    "papermill": {
     "duration": 0.033411,
     "end_time": "2021-08-12T19:04:21.867977",
     "exception": false,
     "start_time": "2021-08-12T19:04:21.834566",
     "status": "completed"
    },
    "tags": []
   },
   "outputs": [
    {
     "name": "stdout",
     "output_type": "stream",
     "text": [
      "Iteration: 1  C: AB\n",
      "Iteration: 2  C: aB\n"
     ]
    }
   ],
   "source": [
    "# Global seed\n",
    "np.random.seed(1234)\n",
    "\n",
    "def A():\n",
    "    return np.random.choice([\"a\", \"A\"])\n",
    "\n",
    "def B():\n",
    "    return np.random.choice([\"b\", \"B\"])\n",
    "\n",
    "for i in range(2):\n",
    "    C = A() + B()\n",
    "    print(f\"Iteration: {i+1}  C: {C}\")"
   ]
  },
  {
   "cell_type": "markdown",
   "id": "b54241ee",
   "metadata": {
    "papermill": {
     "duration": 0.02392,
     "end_time": "2021-08-12T19:04:21.913223",
     "exception": false,
     "start_time": "2021-08-12T19:04:21.889303",
     "status": "completed"
    },
    "tags": []
   },
   "source": [
    "Here the execution has a defined order. `A()` is always called before `B()`. But if you do the same thing in JAX (although JAX doesn't allow string type, this is just for the sake of an example) and `jit` it, then you don't know whether `A()` will be called first or `B()` will be called first. Why?\n",
    "\n",
    "1. XLA will execute them in the order that is most efficient not necessarily in the same order. Remember `tf.control_dependencies(...)` that we used to use in the old days? Nothing wrong with TensorFlow, it's just a way to instruct the compiler\n",
    "2. If you force the order of execution, then it contradicts the philosophy of JAX that if two transformations are independent of each other, then their execution can be parallelized.\n",
    "\n",
    "\n",
    "This looks like a crisis. How? If you use a global state (as in numpy), you won't be able to infer which function was called first, hence the sequence of generated random numbers is irreproducible. What's the solution then?\n",
    "\n",
    "## RNG Design in JAX\n",
    "\n",
    "To make sure that we can parallelize the transformations, and still get reproducible results, JAX applies two rules:\n",
    "1. Don't depend on the global seed for generating random sequences\n",
    "2. Random functions should explicitly consume a state(seed), this will ensure that these functions would reproduce the same result when the same seed. This can have some weird effects as well which we will see in a moment\n",
    "\n",
    "Let's take a few examples of how `state` is passed to random functions in JAX.\n",
    "\n",
    "**Note:** When people say `state`, `seed`, or `key` in the context of PRNG, they mean the same thing (unless it is something different). JAX uses the word `key` and `subkey` more often than the word `seed`. To keep it consistent with the docs, we will use the same terminology here"
   ]
  },
  {
   "cell_type": "code",
   "execution_count": 9,
   "id": "378e8ca6",
   "metadata": {
    "execution": {
     "iopub.execute_input": "2021-08-12T19:04:21.964047Z",
     "iopub.status.busy": "2021-08-12T19:04:21.963239Z",
     "iopub.status.idle": "2021-08-12T19:04:21.966772Z",
     "shell.execute_reply": "2021-08-12T19:04:21.966095Z",
     "shell.execute_reply.started": "2021-08-12T17:44:16.117339Z"
    },
    "papermill": {
     "duration": 0.030559,
     "end_time": "2021-08-12T19:04:21.966935",
     "exception": false,
     "start_time": "2021-08-12T19:04:21.936376",
     "status": "completed"
    },
    "tags": []
   },
   "outputs": [],
   "source": [
    "from jax import random"
   ]
  },
  {
   "cell_type": "code",
   "execution_count": 10,
   "id": "ba64d741",
   "metadata": {
    "execution": {
     "iopub.execute_input": "2021-08-12T19:04:22.040478Z",
     "iopub.status.busy": "2021-08-12T19:04:22.026930Z",
     "iopub.status.idle": "2021-08-12T19:04:22.355485Z",
     "shell.execute_reply": "2021-08-12T19:04:22.354992Z",
     "shell.execute_reply.started": "2021-08-12T17:44:16.871439Z"
    },
    "papermill": {
     "duration": 0.36729,
     "end_time": "2021-08-12T19:04:22.355638",
     "exception": false,
     "start_time": "2021-08-12T19:04:21.988348",
     "status": "completed"
    },
    "tags": []
   },
   "outputs": [
    {
     "data": {
      "text/plain": [
       "DeviceArray([   0, 1234], dtype=uint32)"
      ]
     },
     "execution_count": 10,
     "metadata": {},
     "output_type": "execute_result"
    }
   ],
   "source": [
    "# Define a state\n",
    "seed = 1234\n",
    "key = random.PRNGKey(1234)\n",
    "key"
   ]
  },
  {
   "cell_type": "markdown",
   "id": "00aea92a",
   "metadata": {
    "papermill": {
     "duration": 0.021817,
     "end_time": "2021-08-12T19:04:22.399384",
     "exception": false,
     "start_time": "2021-08-12T19:04:22.377567",
     "status": "completed"
    },
    "tags": []
   },
   "source": [
    "So, a `key` is nothing but a `DeviceArray` of shape `(2, )`. This key is then passed to random functions. **Random functions consume the state but don't change it**, meaning if you keep passing the same key to the same function, it will always return the same output.\n",
    "\n",
    "Because functions don't change the state, ever ytime we call a new random function, we need to pass a new key. How is the new key generated? By splitting the original key. Take a look at the example below"
   ]
  },
  {
   "cell_type": "code",
   "execution_count": 11,
   "id": "046dc5a9",
   "metadata": {
    "execution": {
     "iopub.execute_input": "2021-08-12T19:04:22.456355Z",
     "iopub.status.busy": "2021-08-12T19:04:22.455651Z",
     "iopub.status.idle": "2021-08-12T19:04:22.863717Z",
     "shell.execute_reply": "2021-08-12T19:04:22.864173Z",
     "shell.execute_reply.started": "2021-08-12T17:44:17.842463Z"
    },
    "papermill": {
     "duration": 0.440849,
     "end_time": "2021-08-12T19:04:22.864360",
     "exception": false,
     "start_time": "2021-08-12T19:04:22.423511",
     "status": "completed"
    },
    "tags": []
   },
   "outputs": [
    {
     "name": "stdout",
     "output_type": "stream",
     "text": [
      "[2 4 9 9 4]\n"
     ]
    }
   ],
   "source": [
    "# Passing the original key to a random function\n",
    "random_integers = random.randint(key=key, minval=0, maxval=10, shape=[5])\n",
    "print(random_integers)"
   ]
  },
  {
   "cell_type": "code",
   "execution_count": 12,
   "id": "939f4fea",
   "metadata": {
    "execution": {
     "iopub.execute_input": "2021-08-12T19:04:22.923229Z",
     "iopub.status.busy": "2021-08-12T19:04:22.922063Z",
     "iopub.status.idle": "2021-08-12T19:04:23.028043Z",
     "shell.execute_reply": "2021-08-12T19:04:23.027136Z",
     "shell.execute_reply.started": "2021-08-12T17:44:18.269733Z"
    },
    "papermill": {
     "duration": 0.141791,
     "end_time": "2021-08-12T19:04:23.028209",
     "exception": false,
     "start_time": "2021-08-12T19:04:22.886418",
     "status": "completed"
    },
    "tags": []
   },
   "outputs": [
    {
     "name": "stdout",
     "output_type": "stream",
     "text": [
      "Original key:  [   0 1234]\n",
      "New key:  [2113592192 1902136347]\n",
      "Subkey:  [603280156 445306386]\n"
     ]
    }
   ],
   "source": [
    "# What if we want to call another function?\n",
    "# Don't use the same key. Split the original key, and then pass it\n",
    "print(\"Original key: \", key)\n",
    "\n",
    "# Split the key. By default the number of splits is set to 2\n",
    "# You can specify explicitly how many splits you want to do\n",
    "key, subkey = random.split(key, num=2)\n",
    "\n",
    "print(\"New key: \",  key)\n",
    "print(\"Subkey: \", subkey)"
   ]
  },
  {
   "cell_type": "code",
   "execution_count": 13,
   "id": "1b414f5c",
   "metadata": {
    "execution": {
     "iopub.execute_input": "2021-08-12T19:04:23.097293Z",
     "iopub.status.busy": "2021-08-12T19:04:23.091919Z",
     "iopub.status.idle": "2021-08-12T19:04:23.297937Z",
     "shell.execute_reply": "2021-08-12T19:04:23.299270Z",
     "shell.execute_reply.started": "2021-08-12T17:44:19.736536Z"
    },
    "papermill": {
     "duration": 0.24761,
     "end_time": "2021-08-12T19:04:23.299545",
     "exception": false,
     "start_time": "2021-08-12T19:04:23.051935",
     "status": "completed"
    },
    "tags": []
   },
   "outputs": [
    {
     "name": "stdout",
     "output_type": "stream",
     "text": [
      "[ 5.2179128e-01  1.4659788e-03 -5.9906763e-01 -3.9343226e-01\n",
      " -1.9224551e+00]\n"
     ]
    }
   ],
   "source": [
    "# Call another random function with the new key\n",
    "random_floats = random.normal(key=key, shape=(5,), dtype=jnp.float32)\n",
    "print(random_floats)"
   ]
  },
  {
   "cell_type": "markdown",
   "id": "29f4ed7f",
   "metadata": {
    "papermill": {
     "duration": 0.02366,
     "end_time": "2021-08-12T19:04:23.360449",
     "exception": false,
     "start_time": "2021-08-12T19:04:23.336789",
     "status": "completed"
    },
    "tags": []
   },
   "source": [
    "**Note:** Although we are calling them `key` and `subkey`, both are states and you can pass either of them to any random function or even the `split` function"
   ]
  },
  {
   "cell_type": "markdown",
   "id": "e057c654",
   "metadata": {
    "papermill": {
     "duration": 0.023719,
     "end_time": "2021-08-12T19:04:23.407867",
     "exception": false,
     "start_time": "2021-08-12T19:04:23.384148",
     "status": "completed"
    },
    "tags": []
   },
   "source": [
    "# JAX PRNG: Pros and Cons\n",
    "\n",
    "Now that we have seen the design of PRNG in JAX and how it is implemented and consumed, it is time to discuss the `pros` and `cons` of this approach. **After all, anything and everything has pros and cons**\n",
    "\n",
    "\n",
    "## Pros\n",
    "\n",
    "1. The JAX PRNG is a counter-based PRNG design and it uses the **Threefry hash function**. This design allows JAX to escape sequential execution order constraint, allowing everything to be vectorizable and to be parallelizable without giving up on reproducibility\n",
    "2. Every random function consumes the state but doesn't change it. Neither the `key` has to be returned from the function\n",
    "3. The `split` method is **deterministic**. So, if you start with a random key, and split it into `n` keys in your code, you can be assured that every time you run the code, you will get the same splits. We will see an example of this right away\n",
    "4. You can generate `n` number of keys from a key in a single go and keep passing them around"
   ]
  },
  {
   "cell_type": "code",
   "execution_count": 14,
   "id": "b6881c7c",
   "metadata": {
    "execution": {
     "iopub.execute_input": "2021-08-12T19:04:23.473613Z",
     "iopub.status.busy": "2021-08-12T19:04:23.472593Z",
     "iopub.status.idle": "2021-08-12T19:04:23.495388Z",
     "shell.execute_reply": "2021-08-12T19:04:23.494859Z",
     "shell.execute_reply.started": "2021-08-12T18:17:30.531525Z"
    },
    "papermill": {
     "duration": 0.057647,
     "end_time": "2021-08-12T19:04:23.495527",
     "exception": false,
     "start_time": "2021-08-12T19:04:23.437880",
     "status": "completed"
    },
    "tags": []
   },
   "outputs": [
    {
     "name": "stdout",
     "output_type": "stream",
     "text": [
      "Iteration: 1\n",
      "\n",
      "Original key: [   0 1234]\n",
      "First subkey: [2113592192 1902136347]\n",
      "Second subkey: [603280156 445306386]\n",
      "==================================================\n",
      "\n",
      "Iteration: 2\n",
      "\n",
      "Original key: [   0 1234]\n",
      "First subkey: [2113592192 1902136347]\n",
      "Second subkey: [603280156 445306386]\n",
      "==================================================\n",
      "\n",
      "Iteration: 3\n",
      "\n",
      "Original key: [   0 1234]\n",
      "First subkey: [2113592192 1902136347]\n",
      "Second subkey: [603280156 445306386]\n",
      "==================================================\n",
      "\n",
      "Iteration: 4\n",
      "\n",
      "Original key: [   0 1234]\n",
      "First subkey: [2113592192 1902136347]\n",
      "Second subkey: [603280156 445306386]\n",
      "==================================================\n",
      "\n",
      "Iteration: 5\n",
      "\n",
      "Original key: [   0 1234]\n",
      "First subkey: [2113592192 1902136347]\n",
      "Second subkey: [603280156 445306386]\n",
      "==================================================\n",
      "\n"
     ]
    }
   ],
   "source": [
    "# Splitting is deterministic!\n",
    "\n",
    "for i in range(5):\n",
    "    key = random.PRNGKey(1234)\n",
    "    print(f\"Iteration: {i+1}\\n\")\n",
    "    print(f\"Original key: {key}\")\n",
    "    key, subkey = random.split(key)\n",
    "    print(f\"First subkey: {key}\")\n",
    "    print(f\"Second subkey: {subkey}\")\n",
    "    print(\"=\"*50)\n",
    "    print(\"\")"
   ]
  },
  {
   "cell_type": "code",
   "execution_count": 15,
   "id": "e34bb43c",
   "metadata": {
    "execution": {
     "iopub.execute_input": "2021-08-12T19:04:23.548662Z",
     "iopub.status.busy": "2021-08-12T19:04:23.547373Z",
     "iopub.status.idle": "2021-08-12T19:04:23.716312Z",
     "shell.execute_reply": "2021-08-12T19:04:23.715548Z",
     "shell.execute_reply.started": "2021-08-12T18:21:16.152505Z"
    },
    "papermill": {
     "duration": 0.197534,
     "end_time": "2021-08-12T19:04:23.716512",
     "exception": false,
     "start_time": "2021-08-12T19:04:23.518978",
     "status": "completed"
    },
    "tags": []
   },
   "outputs": [
    {
     "name": "stdout",
     "output_type": "stream",
     "text": [
      "Original key: [  0 111]\n",
      "\n",
      "Subkey no: 1  Subkey: [2149343144 3788759061]\n",
      "Subkey no: 2  Subkey: [1263116805 2203640444]\n",
      "Subkey no: 3  Subkey: [ 260051842 2161001049]\n",
      "Subkey no: 4  Subkey: [ 450316230 2080109636]\n",
      "Subkey no: 5  Subkey: [2532194002 3516360950]\n"
     ]
    }
   ],
   "source": [
    "# You can generate multiple keys at one go with one split\n",
    "key = random.PRNGKey(111)\n",
    "print(f\"Original key: {key}\\n\")\n",
    "\n",
    "subkeys = random.split(key, num=5)\n",
    "\n",
    "for i, subkey in enumerate(subkeys):\n",
    "    print(f\"Subkey no: {i+1}  Subkey: {subkey}\")"
   ]
  },
  {
   "cell_type": "markdown",
   "id": "be070612",
   "metadata": {
    "papermill": {
     "duration": 0.022964,
     "end_time": "2021-08-12T19:04:23.766372",
     "exception": false,
     "start_time": "2021-08-12T19:04:23.743408",
     "status": "completed"
    },
    "tags": []
   },
   "source": [
    "## Cons\n",
    "\n",
    "1. The new PRNG design in JAX is only possible if we give up **Sequential Equivalent Guarantee**. Why? Because that property is incompatible with vectorization, the latter one is, in fact, a priority for JAX\n",
    "2. This is not a con as such but this is something an end-user can easily forget. Two things to consider here:\n",
    "    * If you call a function again and again with the same key, you will **always** get the same output. Consider that you want to sample 5 random numbers from a uniform distribution. If you pass the same key to your sampling function, you will end up with 5 duplicate numbers.\n",
    "    * If you pass the same key to different functions, in some cases you will get highly correlated results. The end-user should always split the key before passing to anything that uses a random function in whatsoever sense\n",
    "    \n",
    "Let's take an example of each to clarify these points"
   ]
  },
  {
   "cell_type": "code",
   "execution_count": 16,
   "id": "93f2fed9",
   "metadata": {
    "execution": {
     "iopub.execute_input": "2021-08-12T19:04:23.819120Z",
     "iopub.status.busy": "2021-08-12T19:04:23.818115Z",
     "iopub.status.idle": "2021-08-12T19:04:24.086421Z",
     "shell.execute_reply": "2021-08-12T19:04:24.085907Z",
     "shell.execute_reply.started": "2021-08-12T18:35:10.637433Z"
    },
    "papermill": {
     "duration": 0.298456,
     "end_time": "2021-08-12T19:04:24.086563",
     "exception": false,
     "start_time": "2021-08-12T19:04:23.788107",
     "status": "completed"
    },
    "tags": []
   },
   "outputs": [
    {
     "name": "stdout",
     "output_type": "stream",
     "text": [
      "Generated all at once:  [2 4 9 9 4]\n",
      "Generated sequentially:  [1 5 8 7]\n"
     ]
    }
   ],
   "source": [
    "# No more Sequential Equivalent Guarantee unlike numpy\n",
    "\n",
    "key = random.PRNGKey(1234)\n",
    "random_integers_1 = random.randint(key=key, minval=0, maxval=10, shape=(5,))\n",
    "\n",
    "key = random.PRNGKey(1234)\n",
    "key, *subkeys = random.split(key, 5)\n",
    "random_integers_2 = []\n",
    "\n",
    "for subkey in subkeys:\n",
    "    num = random.randint(key=subkey, minval=0, maxval=10, shape=(1,))\n",
    "    random_integers_2.append(num)\n",
    "\n",
    "random_integers_2 = np.stack(random_integers_2, axis=-1)[0]\n",
    "\n",
    "print(\"Generated all at once: \", random_integers_1)\n",
    "print(\"Generated sequentially: \", random_integers_2)"
   ]
  },
  {
   "cell_type": "code",
   "execution_count": 17,
   "id": "9f042962",
   "metadata": {
    "execution": {
     "iopub.execute_input": "2021-08-12T19:04:24.138800Z",
     "iopub.status.busy": "2021-08-12T19:04:24.137901Z",
     "iopub.status.idle": "2021-08-12T19:04:24.241714Z",
     "shell.execute_reply": "2021-08-12T19:04:24.240816Z",
     "shell.execute_reply.started": "2021-08-12T18:44:30.117247Z"
    },
    "papermill": {
     "duration": 0.131767,
     "end_time": "2021-08-12T19:04:24.241990",
     "exception": false,
     "start_time": "2021-08-12T19:04:24.110223",
     "status": "completed"
    },
    "tags": []
   },
   "outputs": [
    {
     "name": "stdout",
     "output_type": "stream",
     "text": [
      "First sample:  [0.21629536 0.8041241 ]\n",
      "Second sample:  [0.43259072 1.6082482 ]\n"
     ]
    }
   ],
   "source": [
    "# Possible highly correlated outputs. \n",
    "# Not a very good example but serves the demonstration purpose\n",
    "\n",
    "def sampler1(key):\n",
    "    return random.uniform(key=key, minval=0, maxval=1, shape=(2,))\n",
    "\n",
    "def sampler2(key):\n",
    "    return 2 * random.uniform(key=key, minval=0, maxval=1, shape=(2,))\n",
    "\n",
    "key = random.PRNGKey(0)\n",
    "sample_1 = sampler1(key=key)\n",
    "sample_2 = sampler2(key=key)\n",
    "\n",
    "print(\"First sample: \", sample_1)\n",
    "print(\"Second sample: \", sample_2)"
   ]
  },
  {
   "cell_type": "markdown",
   "id": "0651d26a",
   "metadata": {
    "papermill": {
     "duration": 0.022345,
     "end_time": "2021-08-12T19:04:24.289443",
     "exception": false,
     "start_time": "2021-08-12T19:04:24.267098",
     "status": "completed"
    },
    "tags": []
   },
   "source": [
    "Whattttttt!!! Let's try that in numpy now!"
   ]
  },
  {
   "cell_type": "code",
   "execution_count": 18,
   "id": "281dea2a",
   "metadata": {
    "execution": {
     "iopub.execute_input": "2021-08-12T19:04:24.344325Z",
     "iopub.status.busy": "2021-08-12T19:04:24.343631Z",
     "iopub.status.idle": "2021-08-12T19:04:24.348130Z",
     "shell.execute_reply": "2021-08-12T19:04:24.347646Z",
     "shell.execute_reply.started": "2021-08-12T18:46:17.508464Z"
    },
    "papermill": {
     "duration": 0.036094,
     "end_time": "2021-08-12T19:04:24.348272",
     "exception": false,
     "start_time": "2021-08-12T19:04:24.312178",
     "status": "completed"
    },
    "tags": []
   },
   "outputs": [
    {
     "name": "stdout",
     "output_type": "stream",
     "text": [
      "First sample:  [0.5488135  0.71518937]\n",
      "Second sample:  [1.20552675 1.08976637]\n"
     ]
    }
   ],
   "source": [
    "def sampler1():\n",
    "    return np.random.uniform(low=0, high=1, size=(2,))\n",
    "\n",
    "def sampler2():\n",
    "    return 2 * np.random.uniform(low=0, high=1, size=(2,))\n",
    "\n",
    "np.random.seed(0)\n",
    "sample_1 = sampler1()\n",
    "sample_2 = sampler2()\n",
    "\n",
    "print(\"First sample: \", sample_1)\n",
    "print(\"Second sample: \", sample_2)"
   ]
  },
  {
   "cell_type": "markdown",
   "id": "26f92cc7",
   "metadata": {
    "papermill": {
     "duration": 0.023897,
     "end_time": "2021-08-12T19:04:24.395658",
     "exception": false,
     "start_time": "2021-08-12T19:04:24.371761",
     "status": "completed"
    },
    "tags": []
   },
   "source": [
    "You see that in JAX code, the outputs of two samplers were highly correlated while in numpy code we didn't get that perfect correlation. **Lesson?** Unless you want the same outputs, never reuse a `key` by passing it to different random functions in JAX. **Always split the key!**\n",
    "\n",
    "That's it for Part 6! We will dive into other important concepts in the next tutorial. Stay tuned!\n",
    "\n",
    "# References\n",
    "1. https://jax.readthedocs.io/en/latest/notebooks/Common_Gotchas_in_JAX.html#rngs-and-state\n",
    "2. https://github.com/google/jax/blob/main/design_notes/prng.md\n",
    "3. https://numpy.org/neps/nep-0019-rng-policy.html\n",
    "4. https://albertcthomas.github.io/good-practices-random-number-generators/\n",
    "5. https://courses.physics.illinois.edu/phys466/fa2016/lnotes/PRNG.pdf"
   ]
  },
  {
   "cell_type": "code",
   "execution_count": null,
   "id": "d9ae47b2",
   "metadata": {
    "papermill": {
     "duration": 0.02345,
     "end_time": "2021-08-12T19:04:24.443285",
     "exception": false,
     "start_time": "2021-08-12T19:04:24.419835",
     "status": "completed"
    },
    "tags": []
   },
   "outputs": [],
   "source": []
  }
 ],
 "metadata": {
  "kernelspec": {
   "display_name": "Python 3",
   "language": "python",
   "name": "python3"
  },
  "language_info": {
   "codemirror_mode": {
    "name": "ipython",
    "version": 3
   },
   "file_extension": ".py",
   "mimetype": "text/x-python",
   "name": "python",
   "nbconvert_exporter": "python",
   "pygments_lexer": "ipython3",
   "version": "3.7.10"
  },
  "papermill": {
   "default_parameters": {},
   "duration": 14.854906,
   "end_time": "2021-08-12T19:04:25.805327",
   "environment_variables": {},
   "exception": null,
   "input_path": "__notebook__.ipynb",
   "output_path": "__notebook__.ipynb",
   "parameters": {},
   "start_time": "2021-08-12T19:04:10.950421",
   "version": "2.3.3"
  }
 },
 "nbformat": 4,
 "nbformat_minor": 5
}
