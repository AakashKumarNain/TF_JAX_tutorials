{
 "cells": [
  {
   "cell_type": "markdown",
   "id": "d1a3984a",
   "metadata": {
    "papermill": {
     "duration": 0.02273,
     "end_time": "2021-08-26T14:33:57.144064",
     "exception": false,
     "start_time": "2021-08-26T14:33:57.121334",
     "status": "completed"
    },
    "tags": []
   },
   "source": [
    "<img src=\"https://raw.githubusercontent.com/google/jax/main/images/jax_logo_250px.png\" width=\"300\" height=\"300\" align=\"center\"/><br>\n",
    "\n",
    "Welcome to another JAX tutorial. I hope you all have been enjoying the JAX Tutorials so far. We have already completed three tutorials on JAX each of which introduced an important concept. \n",
    "\n",
    "In the first tutorial, we discussed **DeviceArray**, the core Data Structure in JAX. In the second tutorial, we looked into **Pure Functions** and their pros and cons. In the third tutorial, we looked into **Pseudo-Random Number Generation** in JAX, and how they are different from Numpy's PRNG. If you haven't gone through the previous tutorials, I highly suggest going through them. Here are the links:\n",
    "\n",
    "1. [TF_JAX_Tutorials - Part 1](https://www.kaggle.com/aakashnain/tf-jax-tutorials-part1)\n",
    "2. [TF_JAX_Tutorials - Part 2](https://www.kaggle.com/aakashnain/tf-jax-tutorials-part2)\n",
    "3. [TF_JAX_Tutorials - Part 3](https://www.kaggle.com/aakashnain/tf-jax-tutorials-part3)\n",
    "4. [TF_JAX_Tutorials - Part 4 (JAX and DeviceArray)](https://www.kaggle.com/aakashnain/tf-jax-tutorials-part-4-jax-and-devicearray)\n",
    "5. [TF_JAX_Tutorials - Part 5 (Pure Functions in JAX)](https://www.kaggle.com/aakashnain/tf-jax-tutorials-part-5-pure-functions-in-jax/)\n",
    "6. [TF_JAX_Tutorials - Part 6 (PRNG in JAX)](https://www.kaggle.com/aakashnain/tf-jax-tutorials-part-6-prng-in-jax/)\n",
    "\n",
    "\n",
    "Today we will look into another important concepts: **Just In Time Compilation (JIT)** in JAX"
   ]
  },
  {
   "cell_type": "markdown",
   "id": "d6c9c3b0",
   "metadata": {
    "papermill": {
     "duration": 0.020189,
     "end_time": "2021-08-26T14:34:22.885570",
     "exception": false,
     "start_time": "2021-08-26T14:34:22.865381",
     "status": "completed"
    },
    "tags": []
   },
   "source": [
    "# What is Just In Time (JIT) Compilation?\n",
    "\n",
    "If we go by the [definition](https://en.wikipedia.org/wiki/Just-in-time_compilation) of JIT, then JIT is a way of compiling your code during the execution. A system implementing a JIT compiler typically continuously analyses the code being executed and identifies parts of the code where the speedup gained from compilation or recompilation would outweigh the overhead of compiling that code.\n",
    "\n",
    "\n",
    "# JIT in JAX\n",
    "\n",
    "As we discussed in the first chapter that JAX uses XLA for compilation. The `jax.jit(...)` transform does the just-in-time compilation and **transforms** your normal JAX Python functions so that they can be executed **more efficiently** in XLA. \n",
    "Let's see a few examples of it before discussing the details"
   ]
  },
  {
   "cell_type": "code",
   "execution_count": null,
   "id": "620b767e",
   "metadata": {},
   "outputs": [],
   "source": [
    "import os\n",
    "import time\n",
    "import requests\n",
    "\n",
    "import jax\n",
    "import jax.numpy as jnp\n",
    "from jax import jit, grad, random\n",
    "\n",
    "from jax.config import config\n",
    "%config IPCompleter.use_jedi = False"
   ]
  },
  {
   "cell_type": "code",
   "execution_count": 4,
   "id": "68c1f371",
   "metadata": {
    "execution": {
     "iopub.execute_input": "2021-08-26T14:34:22.932945Z",
     "iopub.status.busy": "2021-08-26T14:34:22.931967Z",
     "iopub.status.idle": "2021-08-26T14:34:22.934940Z",
     "shell.execute_reply": "2021-08-26T14:34:22.934330Z",
     "shell.execute_reply.started": "2021-08-26T09:27:40.142411Z"
    },
    "papermill": {
     "duration": 0.028326,
     "end_time": "2021-08-26T14:34:22.935085",
     "exception": false,
     "start_time": "2021-08-26T14:34:22.906759",
     "status": "completed"
    },
    "tags": []
   },
   "outputs": [],
   "source": [
    "def apply_activation(x):\n",
    "    return jnp.maximum(0.0, x)\n",
    "\n",
    "def get_dot_product(W, X):\n",
    "    return jnp.dot(W, X)"
   ]
  },
  {
   "cell_type": "code",
   "execution_count": 5,
   "id": "748697ed",
   "metadata": {
    "execution": {
     "iopub.execute_input": "2021-08-26T14:34:22.980160Z",
     "iopub.status.busy": "2021-08-26T14:34:22.979534Z",
     "iopub.status.idle": "2021-08-26T14:34:37.907479Z",
     "shell.execute_reply": "2021-08-26T14:34:37.907950Z",
     "shell.execute_reply.started": "2021-08-26T09:27:41.790549Z"
    },
    "papermill": {
     "duration": 14.952463,
     "end_time": "2021-08-26T14:34:37.908133",
     "exception": false,
     "start_time": "2021-08-26T14:34:22.955670",
     "status": "completed"
    },
    "tags": []
   },
   "outputs": [
    {
     "name": "stdout",
     "output_type": "stream",
     "text": [
      "Iteration: 1\n",
      "Time taken to execute dot product: 3.55 seconds, activation function: 0.06 seconds\n",
      "Iteration: 2\n",
      "Time taken to execute dot product: 3.57 seconds, activation function: 0.03 seconds\n",
      "Iteration: 3\n",
      "Time taken to execute dot product: 3.87 seconds, activation function: 0.03 seconds\n"
     ]
    }
   ],
   "source": [
    "# Always use a seed\n",
    "key = random.PRNGKey(1234)\n",
    "W = random.normal(key=key, shape=[1000, 10000], dtype=jnp.float32)\n",
    "\n",
    "# Never reuse the key\n",
    "key, subkey = random.split(key)\n",
    "X = random.normal(key=subkey, shape=[10000, 20000], dtype=jnp.float32)\n",
    "\n",
    "# JIT the functions we have\n",
    "dot_product_jit  = jit(get_dot_product)\n",
    "activation_jit = jit(apply_activation)\n",
    "\n",
    "for i in range(3):\n",
    "    start = time.time()\n",
    "    # Don't forget to use `block_until_ready(..)`\n",
    "    # else you will be recording dispatch time only\n",
    "    Z = dot_product_jit(W, X).block_until_ready()\n",
    "    end = time.time()\n",
    "    print(f\"Iteration: {i+1}\")\n",
    "    print(f\"Time taken to execute dot product: {end - start:.2f} seconds\", end=\"\")\n",
    "    \n",
    "    start = time.time()\n",
    "    A = activation_jit(Z).block_until_ready()\n",
    "    print(f\", activation function: {time.time()-start:.2f} seconds\")"
   ]
  },
  {
   "cell_type": "markdown",
   "id": "4b6206ed",
   "metadata": {
    "papermill": {
     "duration": 0.021413,
     "end_time": "2021-08-26T14:34:37.951302",
     "exception": false,
     "start_time": "2021-08-26T14:34:37.929889",
     "status": "completed"
    },
    "tags": []
   },
   "source": [
    "Let's break down the above example into steps to know in detail what happened under the hood.\n",
    "\n",
    "1. We defined two functions namely, `get_dot_product(...)` that does a dot product of weights and the inputs, and `apply_activation(...)` that applies `relu` on the previous result.\n",
    "2. We then defined two transformations using `jit(function_name)`, and got the **compiled** versions of our functions\n",
    "3. When you call the compiled function for the first time with the specified arguments, the execution time is pretty high. Why? Because the first call serves as the `warmup` phase. The warmup phase is nothing but the time taken by JAX **tracing**. Depending on the inputs, the tracers convert the code into an intermediate language, **`jaxprs`** (we will talk about this in a bit) which, is then compiled for execution in XLA\n",
    "4. The subsequent calls run the compiled version of the code\n",
    "\n",
    "**Note:** If you are benchmarking `jit` version of your function with something else, do a warmup first for a fair comparison else you will include the compilation time in the benchmarks\n",
    "\n",
    "Before continuing further on JIT transformations, we will take a break here and try to understand the concept of **`jaxprs`** first"
   ]
  },
  {
   "cell_type": "markdown",
   "id": "28b10d5c",
   "metadata": {
    "papermill": {
     "duration": 0.022572,
     "end_time": "2021-08-26T14:34:37.995403",
     "exception": false,
     "start_time": "2021-08-26T14:34:37.972831",
     "status": "completed"
    },
    "tags": []
   },
   "source": [
    "# Jaxprs\n",
    "\n",
    "Jaxpr is an intermediate language for representing the normal Python functions. When you transform a function the function is first converted to simple statically-typed intermediate expressions by Jaxpr language, then the transformations are directly applied on these jaxprs. \n",
    "\n",
    "1. A jaxpr instance represents a function with one or more typed parameters (input variables) and one or more typed results\n",
    "2. The inputs and outputs have `types` and are represented as abstract values\n",
    "3. Not all Python programs can be represented by jaxprs but many scientific computations and machine learning programs can\n",
    "\n",
    "\n",
    "## Should you learn about Jaxprs?\n",
    "\n",
    "Every transformation in JAX materializes to some form of `jaxpr`. If you want to understand how JAX works internally, or if you want to understand the result of JAX tracing, then yes, it is useful to understand jaxprs.\n",
    "\n",
    "\n",
    "Let's take a few examples of how jaxpr works. We will first see how the functions we defined above are expressed by jaxpr"
   ]
  },
  {
   "cell_type": "code",
   "execution_count": 6,
   "id": "9f6017f2",
   "metadata": {
    "execution": {
     "iopub.execute_input": "2021-08-26T14:34:38.045849Z",
     "iopub.status.busy": "2021-08-26T14:34:38.045196Z",
     "iopub.status.idle": "2021-08-26T14:34:38.048614Z",
     "shell.execute_reply": "2021-08-26T14:34:38.049301Z",
     "shell.execute_reply.started": "2021-08-26T09:28:01.761824Z"
    },
    "papermill": {
     "duration": 0.032454,
     "end_time": "2021-08-26T14:34:38.049523",
     "exception": false,
     "start_time": "2021-08-26T14:34:38.017069",
     "status": "completed"
    },
    "tags": []
   },
   "outputs": [
    {
     "name": "stdout",
     "output_type": "stream",
     "text": [
      "{ lambda  ; a.\n",
      "  let b = xla_call[ backend=None\n",
      "                    call_jaxpr={ lambda  ; a.\n",
      "                                 let b = max 0.0 a\n",
      "                                 in (b,) }\n",
      "                    device=None\n",
      "                    donated_invars=(False,)\n",
      "                    inline=False\n",
      "                    name=apply_activation ] a\n",
      "  in (b,) }\n"
     ]
    }
   ],
   "source": [
    "# Make jaxpr for the activation function\n",
    "print(jax.make_jaxpr(activation_jit)(Z))"
   ]
  },
  {
   "cell_type": "markdown",
   "id": "7df078bd",
   "metadata": {
    "papermill": {
     "duration": 0.021417,
     "end_time": "2021-08-26T14:34:38.093644",
     "exception": false,
     "start_time": "2021-08-26T14:34:38.072227",
     "status": "completed"
    },
    "tags": []
   },
   "source": [
    "How to interpret this jaxpr?\n",
    "\n",
    "1. The first line tells you that the function receives one argument `a`\n",
    "2. The second line tells you that this is what would be executed on XLA, the max of (0, `a`)\n",
    "3. The last line tells you the output being returned\n",
    "\n",
    "Let's look at the jaxpr of our function that applies dot product"
   ]
  },
  {
   "cell_type": "code",
   "execution_count": 7,
   "id": "3c537c60",
   "metadata": {
    "execution": {
     "iopub.execute_input": "2021-08-26T14:34:38.144634Z",
     "iopub.status.busy": "2021-08-26T14:34:38.143970Z",
     "iopub.status.idle": "2021-08-26T14:34:38.147508Z",
     "shell.execute_reply": "2021-08-26T14:34:38.148052Z",
     "shell.execute_reply.started": "2021-08-26T09:28:03.090977Z"
    },
    "papermill": {
     "duration": 0.032883,
     "end_time": "2021-08-26T14:34:38.148241",
     "exception": false,
     "start_time": "2021-08-26T14:34:38.115358",
     "status": "completed"
    },
    "tags": []
   },
   "outputs": [
    {
     "name": "stdout",
     "output_type": "stream",
     "text": [
      "{ lambda  ; a b.\n",
      "  let c = xla_call[ backend=None\n",
      "                    call_jaxpr={ lambda  ; a b.\n",
      "                                 let c = dot_general[ dimension_numbers=(((1,), (0,)), ((), ()))\n",
      "                                                      precision=None\n",
      "                                                      preferred_element_type=None ] a b\n",
      "                                 in (c,) }\n",
      "                    device=None\n",
      "                    donated_invars=(False, False)\n",
      "                    inline=False\n",
      "                    name=get_dot_product ] a b\n",
      "  in (c,) }\n"
     ]
    }
   ],
   "source": [
    "# Make jaxpr for the activation function\n",
    "print(jax.make_jaxpr(dot_product_jit)(W, X))"
   ]
  },
  {
   "cell_type": "markdown",
   "id": "add941a9",
   "metadata": {
    "papermill": {
     "duration": 0.02274,
     "end_time": "2021-08-26T14:34:38.193502",
     "exception": false,
     "start_time": "2021-08-26T14:34:38.170762",
     "status": "completed"
    },
    "tags": []
   },
   "source": [
    "Simlar to above, here:\n",
    "1. The first line is telling that the function receives two input variables `a` and `b`, corresponding to our `W` and `X`\n",
    "2. The second line is an XLA call where we perform the dot operation. (Check the dimesions numbers used for dot product)\n",
    "3. The last line is the result to be returned denoted by `c` \n",
    "\n",
    "\n",
    "Let's take another interesting example"
   ]
  },
  {
   "cell_type": "code",
   "execution_count": 8,
   "id": "c8d9748c",
   "metadata": {
    "execution": {
     "iopub.execute_input": "2021-08-26T14:34:38.241439Z",
     "iopub.status.busy": "2021-08-26T14:34:38.240777Z",
     "iopub.status.idle": "2021-08-26T14:34:38.248647Z",
     "shell.execute_reply": "2021-08-26T14:34:38.249238Z",
     "shell.execute_reply.started": "2021-08-26T09:28:04.087346Z"
    },
    "papermill": {
     "duration": 0.033388,
     "end_time": "2021-08-26T14:34:38.249424",
     "exception": false,
     "start_time": "2021-08-26T14:34:38.216036",
     "status": "completed"
    },
    "tags": []
   },
   "outputs": [
    {
     "name": "stdout",
     "output_type": "stream",
     "text": [
      "Received:  Traced<ShapedArray(int32[], weak_type=True)>with<DynamicJaxprTrace(level=1/1)>\n",
      "{ lambda  ; a.\n",
      "  let b = xla_call[ backend=None\n",
      "                    call_jaxpr={ lambda  ; a.\n",
      "                                 let b = integer_pow[ y=2 ] a\n",
      "                                 in (b,) }\n",
      "                    device=None\n",
      "                    donated_invars=(False,)\n",
      "                    inline=False\n",
      "                    name=number_squared ] a\n",
      "  in (b,) }\n"
     ]
    }
   ],
   "source": [
    "# We know that `print` introduces but impurity but it is\n",
    "# also very useful to print values while debugging. How does\n",
    "# jaxprs interpret that?\n",
    "\n",
    "def number_squared(num):\n",
    "    print(\"Received: \", num)\n",
    "    return num ** 2\n",
    "\n",
    "# Compiled version\n",
    "number_squared_jit = jit(number_squared)\n",
    "\n",
    "# Make jaxprs\n",
    "print(jax.make_jaxpr(number_squared_jit)(2))"
   ]
  },
  {
   "cell_type": "markdown",
   "id": "2fc25177",
   "metadata": {
    "papermill": {
     "duration": 0.022492,
     "end_time": "2021-08-26T14:34:38.294752",
     "exception": false,
     "start_time": "2021-08-26T14:34:38.272260",
     "status": "completed"
    },
    "tags": []
   },
   "source": [
    "Notice how the `num` inside the print statement is traced. Nothing stops you from running an impure function but you should be ready to encounter such side effects. The fact that the print statement is traced on the first call but may not be on the subsequent calls is because your python code will run at least once. Let's see that in action as well"
   ]
  },
  {
   "cell_type": "code",
   "execution_count": 9,
   "id": "9a9b043a",
   "metadata": {
    "execution": {
     "iopub.execute_input": "2021-08-26T14:34:38.343106Z",
     "iopub.status.busy": "2021-08-26T14:34:38.342497Z",
     "iopub.status.idle": "2021-08-26T14:34:38.361564Z",
     "shell.execute_reply": "2021-08-26T14:34:38.360884Z",
     "shell.execute_reply.started": "2021-08-26T09:28:04.943013Z"
    },
    "papermill": {
     "duration": 0.044241,
     "end_time": "2021-08-26T14:34:38.361702",
     "exception": false,
     "start_time": "2021-08-26T14:34:38.317461",
     "status": "completed"
    },
    "tags": []
   },
   "outputs": [
    {
     "name": "stdout",
     "output_type": "stream",
     "text": [
      "Iteration:  1\n",
      "Received:  Traced<ShapedArray(int32[], weak_type=True)>with<DynamicJaxprTrace(level=0/1)>\n",
      "Result:  4\n",
      "==================================================\n",
      "Iteration:  2\n",
      "Result:  16\n",
      "==================================================\n",
      "Iteration:  3\n",
      "Result:  64\n",
      "==================================================\n"
     ]
    }
   ],
   "source": [
    "# Subsequent calls to the jitted function\n",
    "for i, num in enumerate([2, 4, 8]):\n",
    "    print(\"Iteration: \", i+1)\n",
    "    print(\"Result: \", number_squared_jit(num))\n",
    "    print(\"=\"*50)"
   ]
  },
  {
   "cell_type": "markdown",
   "id": "4c9722f9",
   "metadata": {
    "papermill": {
     "duration": 0.022493,
     "end_time": "2021-08-26T14:34:38.407347",
     "exception": false,
     "start_time": "2021-08-26T14:34:38.384854",
     "status": "completed"
    },
    "tags": []
   },
   "source": [
    "We will take one more example to appreciate the beauty of `jaxprs` before moving on to JIT again"
   ]
  },
  {
   "cell_type": "code",
   "execution_count": 10,
   "id": "e291b6c9",
   "metadata": {
    "execution": {
     "iopub.execute_input": "2021-08-26T14:34:38.461089Z",
     "iopub.status.busy": "2021-08-26T14:34:38.460461Z",
     "iopub.status.idle": "2021-08-26T14:34:38.463077Z",
     "shell.execute_reply": "2021-08-26T14:34:38.463570Z",
     "shell.execute_reply.started": "2021-08-26T09:28:06.005299Z"
    },
    "papermill": {
     "duration": 0.033271,
     "end_time": "2021-08-26T14:34:38.463738",
     "exception": false,
     "start_time": "2021-08-26T14:34:38.430467",
     "status": "completed"
    },
    "tags": []
   },
   "outputs": [
    {
     "name": "stdout",
     "output_type": "stream",
     "text": [
      "{ lambda  ; a.\n",
      "  let b = xla_call[ backend=None\n",
      "                    call_jaxpr={ lambda  ; a.\n",
      "                                 let b = integer_pow[ y=2 ] a\n",
      "                                 in (b,) }\n",
      "                    device=None\n",
      "                    donated_invars=(False,)\n",
      "                    inline=False\n",
      "                    name=number_squared ] a\n",
      "  in (b,) }\n"
     ]
    }
   ],
   "source": [
    "squared_numbers = []\n",
    "\n",
    "# An impure function (using a global state)\n",
    "def number_squared(num):\n",
    "    global squared_numbers\n",
    "    squared = num ** 2\n",
    "    squared_numbers.append(squared)\n",
    "    return squared\n",
    "\n",
    "# Compiled verison\n",
    "number_squared_jit = jit(number_squared)\n",
    "\n",
    "# Make jaxpr\n",
    "print(jax.make_jaxpr(number_squared_jit)(2))"
   ]
  },
  {
   "cell_type": "markdown",
   "id": "11b0360c",
   "metadata": {
    "papermill": {
     "duration": 0.022983,
     "end_time": "2021-08-26T14:34:38.510183",
     "exception": false,
     "start_time": "2021-08-26T14:34:38.487200",
     "status": "completed"
    },
    "tags": []
   },
   "source": [
    "A few things to notice:\n",
    "1. The first line stats as usual and shows that we have an input variable `a`, corresponding to the `num` argument\n",
    "2. The second line is an XLA call that squares the input number.\n",
    "3. The last line returns the results of the XLA call denoted by `b`\n",
    "\n",
    "**The side effect isn't captured by jaxpr**. jaxpr depends on **`tracing`**. The behavior of any transformed function is dependent on the traced values. You may notice the side effect on the first run but not necessarily on the subsequent calls. Hence jaxpr isn't even bothered about the global list in this case. \n",
    "\n",
    "**Note:** One more important thing to note is the `device` value in the jaxprs. Although this argument is there unless you specify the device during jit transform like this `jit(fn_name, device=)`, no device would be listed here. This can be confusing sometimes because your computation would be running on some accelerator but here the device name won't be reflected. The logic behind this is that jaxpr is just an expression, independent of the logic where it is going to run. It is more concerned about the layout of the representation for XLA rather than the device on which the expression will be made to run  "
   ]
  },
  {
   "cell_type": "code",
   "execution_count": 11,
   "id": "97cb10e8",
   "metadata": {
    "execution": {
     "iopub.execute_input": "2021-08-26T14:34:38.559832Z",
     "iopub.status.busy": "2021-08-26T14:34:38.559224Z",
     "iopub.status.idle": "2021-08-26T14:34:38.579543Z",
     "shell.execute_reply": "2021-08-26T14:34:38.580081Z",
     "shell.execute_reply.started": "2021-08-26T09:28:07.485946Z"
    },
    "papermill": {
     "duration": 0.046857,
     "end_time": "2021-08-26T14:34:38.580253",
     "exception": false,
     "start_time": "2021-08-26T14:34:38.533396",
     "status": "completed"
    },
    "tags": []
   },
   "outputs": [
    {
     "name": "stdout",
     "output_type": "stream",
     "text": [
      "Iteration:  1\n",
      "Result:  16\n",
      "==================================================\n",
      "Iteration:  2\n",
      "Result:  64\n",
      "==================================================\n",
      "Iteration:  3\n",
      "Result:  256\n",
      "==================================================\n",
      "\n",
      " Results in the global list\n"
     ]
    },
    {
     "data": {
      "text/plain": [
       "[Traced<ShapedArray(int32[], weak_type=True)>with<DynamicJaxprTrace(level=1/1)>,\n",
       " Traced<ShapedArray(int32[], weak_type=True)>with<DynamicJaxprTrace(level=0/1)>]"
      ]
     },
     "execution_count": 11,
     "metadata": {},
     "output_type": "execute_result"
    }
   ],
   "source": [
    "# Subsequent calls to the jitted function\n",
    "for i, num in enumerate([4, 8, 16]):\n",
    "    print(\"Iteration: \", i+1)\n",
    "    print(\"Result: \", number_squared_jit(num))\n",
    "    print(\"=\"*50)\n",
    "    \n",
    "# What's in the list?\n",
    "print(\"\\n Results in the global list\")\n",
    "squared_numbers"
   ]
  },
  {
   "cell_type": "markdown",
   "id": "70343b0a",
   "metadata": {
    "papermill": {
     "duration": 0.023508,
     "end_time": "2021-08-26T14:34:38.628020",
     "exception": false,
     "start_time": "2021-08-26T14:34:38.604512",
     "status": "completed"
    },
    "tags": []
   },
   "source": [
    "You might be wondering that if the side effect was to appear on the first call, why there are two traced values in the global list. The reason is that the side effect may or may not appear on the subsequent calls. It is an unpredictable behavior.\n",
    "\n",
    "# How much to JIT?\n",
    "\n",
    "Before diving into the nuances related to JIT, let's assume that you have two functions that can be jitted with no problems, for example, our `get_dot_product(...)` and `apply_activation(..)` functions. Should you jit them both or should you use them into one function or module and jit that function/module? Le's see that in action"
   ]
  },
  {
   "cell_type": "code",
   "execution_count": 12,
   "id": "232a4a1c",
   "metadata": {
    "execution": {
     "iopub.execute_input": "2021-08-26T14:34:38.680185Z",
     "iopub.status.busy": "2021-08-26T14:34:38.678882Z",
     "iopub.status.idle": "2021-08-26T14:35:24.330178Z",
     "shell.execute_reply": "2021-08-26T14:35:24.329522Z",
     "shell.execute_reply.started": "2021-08-26T09:28:10.752977Z"
    },
    "papermill": {
     "duration": 45.67851,
     "end_time": "2021-08-26T14:35:24.330320",
     "exception": false,
     "start_time": "2021-08-26T14:34:38.651810",
     "status": "completed"
    },
    "tags": []
   },
   "outputs": [
    {
     "name": "stdout",
     "output_type": "stream",
     "text": [
      "Iteration: 1\n",
      "Time taken to execute dot product: 6.88 seconds, activation function: 0.09 seconds\n",
      "Time taken by the forward pass function: 7.08 seconds\n",
      "\n",
      "==================================================\n",
      "Iteration: 2\n",
      "Time taken to execute dot product: 6.82 seconds, activation function: 0.07 seconds\n",
      "Time taken by the forward pass function: 7.21 seconds\n",
      "\n",
      "==================================================\n",
      "Iteration: 3\n",
      "Time taken to execute dot product: 7.21 seconds, activation function: 0.06 seconds\n",
      "Time taken by the forward pass function: 6.98 seconds\n",
      "\n",
      "==================================================\n"
     ]
    }
   ],
   "source": [
    "# Calling the two functions into a single function\n",
    "# so that we can jit this function instead of jitting them\n",
    "def forward_pass(W, X):\n",
    "    Z = get_dot_product(W, X)\n",
    "    A = apply_activation(Z)\n",
    "    return Z, A\n",
    "\n",
    "\n",
    "\n",
    "# Always use a seed\n",
    "key = random.PRNGKey(1234)\n",
    "\n",
    "# We will use much bigger array this time\n",
    "W = random.normal(key=key, shape=[2000, 10000], dtype=jnp.float32)\n",
    "\n",
    "# Never reuse the key\n",
    "key, subkey = random.split(key)\n",
    "X = random.normal(key=subkey, shape=[10000, 20000], dtype=jnp.float32)\n",
    "\n",
    "# JIT the functions we have individually\n",
    "dot_product_jit  = jit(get_dot_product)\n",
    "activation_jit = jit(apply_activation)\n",
    "\n",
    "# JIT the function that wraps both the functions\n",
    "forward_pass_jit = jit(forward_pass)\n",
    "\n",
    "for i in range(3):\n",
    "    start = time.time()\n",
    "    # Don't forget to use `block_until_ready(..)`\n",
    "    # else you will be recording dispatch time only\n",
    "    Z = dot_product_jit(W, X).block_until_ready()\n",
    "    end = time.time()\n",
    "    print(f\"Iteration: {i+1}\")\n",
    "    print(f\"Time taken to execute dot product: {end - start:.2f} seconds\", end=\"\")\n",
    "    \n",
    "    start = time.time()\n",
    "    A = activation_jit(Z).block_until_ready()\n",
    "    print(f\", activation function: {time.time()- start:.2f} seconds\")\n",
    "    \n",
    "    # Now measure the time with a single jitted function that calls\n",
    "    # the other two functions\n",
    "    Z, A = forward_pass_jit(W, X)\n",
    "    Z, A = Z.block_until_ready(), A.block_until_ready()\n",
    "    print(f\"Time taken by the forward pass function: {time.time()- start:.2f} seconds\")\n",
    "    print(\"\")\n",
    "    print(\"=\"*50)"
   ]
  },
  {
   "cell_type": "markdown",
   "id": "5982d210",
   "metadata": {
    "papermill": {
     "duration": 0.02581,
     "end_time": "2021-08-26T14:35:24.381972",
     "exception": false,
     "start_time": "2021-08-26T14:35:24.356162",
     "status": "completed"
    },
    "tags": []
   },
   "source": [
    "Which approach to follow? That's up to you. Also, I don't have a confirmation whether the second approach always works but a Twitter user, who is a heavy JAX user, pointed this out.\n",
    "\n",
    "\n",
    "# JIT and Python Control Flow\n",
    "\n",
    "A natural question that comes to mind at this stage is `Why don't we just JIT everything? That would give a massive gain in terms of execution`. Though true in some sense, you can't jit everything. There are certain scenarios where jitting wouldn't work out of the box. Let's take a few examples to understand this"
   ]
  },
  {
   "cell_type": "code",
   "execution_count": 13,
   "id": "0001bde3",
   "metadata": {
    "execution": {
     "iopub.execute_input": "2021-08-26T14:35:24.443670Z",
     "iopub.status.busy": "2021-08-26T14:35:24.443026Z",
     "iopub.status.idle": "2021-08-26T14:35:24.471815Z",
     "shell.execute_reply": "2021-08-26T14:35:24.471179Z",
     "shell.execute_reply.started": "2021-08-26T09:29:06.752492Z"
    },
    "papermill": {
     "duration": 0.064159,
     "end_time": "2021-08-26T14:35:24.471994",
     "exception": false,
     "start_time": "2021-08-26T14:35:24.407835",
     "status": "completed"
    },
    "tags": []
   },
   "outputs": [
    {
     "name": "stdout",
     "output_type": "stream",
     "text": [
      "ConcretizationTypeError Abstract tracer value encountered where concrete value is expected: Traced<ShapedArray(bool[], weak_type=True)>with<DynamicJaxprTrace(level=0/1)>\n",
      "The problem arose with the `bool` function. \n",
      "While tracing the function square_or_cube at <ipython-input-13-d8fbb25d44c9>:1 for jit, this concrete value was not available in Python because it depends on the value of the argument 'x'.\n",
      "\n",
      "See https://jax.readthedocs.io/en/latest/errors.html#jax.errors.ConcretizationTypeError\n"
     ]
    }
   ],
   "source": [
    "def square_or_cube(x):\n",
    "    if x % 2 == 0:\n",
    "        return x ** 2\n",
    "    else:\n",
    "        return x * x * x\n",
    "\n",
    "\n",
    "# JIT transformation\n",
    "square_or_cube_jit = jit(square_or_cube)\n",
    "\n",
    "# Run the jitted version on some sample data\n",
    "try:\n",
    "    val = square_or_cube_jit(2)\n",
    "except Exception as ex:\n",
    "    print(type(ex).__name__, ex)"
   ]
  },
  {
   "cell_type": "markdown",
   "id": "606cece6",
   "metadata": {
    "papermill": {
     "duration": 0.025778,
     "end_time": "2021-08-26T14:35:24.524382",
     "exception": false,
     "start_time": "2021-08-26T14:35:24.498604",
     "status": "completed"
    },
    "tags": []
   },
   "source": [
    "So why this code didn't work? Let's break down the whole process of JIT once again, including the one we have here\n",
    "\n",
    "1. When we `jit` a function, we aim to get a compiled version of that function, so that we can cache and reuse the compiled code for different values of the arguments. \n",
    "2. To achieve this, JAX traces it on abstract values that represent sets of possible inputs\n",
    "3. There are [different levels of abstractions](https://github.com/google/jax/blob/main/jax/_src/abstract_arrays.py) that are used during tracing, and the kind of abstraction used for a particular function tracing depends on the kind of transformation is done. \n",
    "4. By default, jit traces your code on the **`ShapedArray`** abstraction level, where each abstract value represents the set of all array values with a fixed shape and dtype. For example, if we trace using the abstract value ShapedArray((3,), jnp.float32), we get a view of the function that can be reused for any concrete value in the corresponding set of arrays. That means we can save on compile time.\n",
    "\n",
    "Coming to the above code and why it failed, in this case, the value of `x` isn't concrete while tracing. As a result when we hit a line like `if x % 2 == 0`, the expression `x % 2` evaluates to an abstract `ShapedArray((), jnp.bool_)` that represents the set {True, False}. **When Python attempts to coerce that to a concrete True or False, we get an error: we don’t know which branch to take, and can’t continue tracing!** \n",
    "\n",
    "Let's take one more example, this time involving a loop"
   ]
  },
  {
   "cell_type": "code",
   "execution_count": 14,
   "id": "f2df2e80",
   "metadata": {
    "execution": {
     "iopub.execute_input": "2021-08-26T14:35:24.579524Z",
     "iopub.status.busy": "2021-08-26T14:35:24.578853Z",
     "iopub.status.idle": "2021-08-26T14:35:24.592438Z",
     "shell.execute_reply": "2021-08-26T14:35:24.593202Z",
     "shell.execute_reply.started": "2021-08-26T10:05:15.709619Z"
    },
    "papermill": {
     "duration": 0.042974,
     "end_time": "2021-08-26T14:35:24.593435",
     "exception": false,
     "start_time": "2021-08-26T14:35:24.550461",
     "status": "completed"
    },
    "tags": []
   },
   "outputs": [
    {
     "name": "stdout",
     "output_type": "stream",
     "text": [
      "ConcretizationTypeError Abstract tracer value encountered where concrete value is expected: Traced<ShapedArray(bool[], weak_type=True)>with<DynamicJaxprTrace(level=0/1)>\n",
      "The problem arose with the `bool` function. \n",
      "While tracing the function multiply_n_times at <ipython-input-14-b9a83545696a>:1 for jit, this concrete value was not available in Python because it depends on the value of the argument 'n'.\n",
      "\n",
      "See https://jax.readthedocs.io/en/latest/errors.html#jax.errors.ConcretizationTypeError\n"
     ]
    }
   ],
   "source": [
    "def multiply_n_times(x, n):\n",
    "    count = 0\n",
    "    res = 1\n",
    "    while count < n:\n",
    "        res = res * x\n",
    "        count +=1 \n",
    "    return x\n",
    "\n",
    "\n",
    "try:\n",
    "    val = jit(multiply_n_times)(2, 5)\n",
    "except Exception as ex:\n",
    "    print(type(ex).__name__, ex)"
   ]
  },
  {
   "cell_type": "markdown",
   "id": "266b19c7",
   "metadata": {
    "papermill": {
     "duration": 0.025945,
     "end_time": "2021-08-26T14:35:24.646591",
     "exception": false,
     "start_time": "2021-08-26T14:35:24.620646",
     "status": "completed"
    },
    "tags": []
   },
   "source": [
    "If the computation inside the loop is pretty expensive, you can still jit some part of the function body. Let's see it in action"
   ]
  },
  {
   "cell_type": "code",
   "execution_count": 15,
   "id": "69cc33fa",
   "metadata": {
    "execution": {
     "iopub.execute_input": "2021-08-26T14:35:24.711657Z",
     "iopub.status.busy": "2021-08-26T14:35:24.711020Z",
     "iopub.status.idle": "2021-08-26T14:35:26.703696Z",
     "shell.execute_reply": "2021-08-26T14:35:26.704606Z",
     "shell.execute_reply.started": "2021-08-26T10:38:49.339536Z"
    },
    "papermill": {
     "duration": 2.031336,
     "end_time": "2021-08-26T14:35:26.704774",
     "exception": false,
     "start_time": "2021-08-26T14:35:24.673438",
     "status": "completed"
    },
    "tags": []
   },
   "outputs": [
    {
     "name": "stdout",
     "output_type": "stream",
     "text": [
      "24.5 µs ± 879 ns per loop (mean ± std. dev. of 7 runs, 10000 loops each)\n"
     ]
    }
   ],
   "source": [
    "# Jitting the expensive computational part\n",
    "def multiply(x, i):\n",
    "    return x * i\n",
    "\n",
    "# Specifying the static args\n",
    "multiply_jit = jit(multiply, static_argnums=0)\n",
    "\n",
    "# Leaving it as it as\n",
    "def multiply_n_times(x, n):\n",
    "    count = 0\n",
    "    res = 1\n",
    "    while count < n:\n",
    "        res = multiply_jit(x, res)\n",
    "        count += 1\n",
    "    return res\n",
    "\n",
    "\n",
    "%timeit multiply_n_times(2, 5)"
   ]
  },
  {
   "cell_type": "markdown",
   "id": "81369d92",
   "metadata": {
    "papermill": {
     "duration": 0.026344,
     "end_time": "2021-08-26T14:35:26.760037",
     "exception": false,
     "start_time": "2021-08-26T14:35:26.733693",
     "status": "completed"
    },
    "tags": []
   },
   "source": [
    "# Caching\n",
    "\n",
    "When you `jit` a function, it gets compiled on the first call. Any subsequent calls to the jitted function reuse the cached code. You pay the price once! \n",
    "\n",
    "If we need to JIT a function that has a condition on the value of an input, we can tell JAX to make a less abstract tracer for a particular input by specifying `static_argnums`. The cost of this is that the resulting jaxpr is less flexible, so JAX will have to re-compile the function for every new value of the specified input. It is only a good strategy if the function is guaranteed to get limited different values. \n",
    "\n",
    "\n",
    "<div class=\"alert alert-warning\">\n",
    "    <strong>Warning: Don't do this!</strong>\n",
    "</div>\n",
    "\n",
    "\n",
    "\n",
    "\n",
    "```python\n",
    "def multiply(x, i):\n",
    "    return x * i\n",
    "\n",
    "def multiply_n_times(x, n):\n",
    "    count = 0\n",
    "    res = 1\n",
    "    while count < n:\n",
    "        res = jit(multiply)(x, res)\n",
    "        count += 1\n",
    "    return res\n",
    "\n",
    "\n",
    "print(multiply_n_times(2, 5))\n",
    "\n",
    "```\n",
    "\n",
    "Doing that effectively creates a new jit transformed object at each call that will get compiled each time instead of reusing the same cached function.\n",
    "\n",
    "\n",
    "That's it for Part-7! More in the next tutorial!"
   ]
  },
  {
   "cell_type": "code",
   "execution_count": null,
   "id": "888034cd",
   "metadata": {
    "papermill": {
     "duration": 0.026715,
     "end_time": "2021-08-26T14:35:26.813397",
     "exception": false,
     "start_time": "2021-08-26T14:35:26.786682",
     "status": "completed"
    },
    "tags": []
   },
   "outputs": [],
   "source": []
  }
 ],
 "metadata": {
  "kernelspec": {
   "display_name": "Python 3",
   "language": "python",
   "name": "python3"
  },
  "language_info": {
   "codemirror_mode": {
    "name": "ipython",
    "version": 3
   },
   "file_extension": ".py",
   "mimetype": "text/x-python",
   "name": "python",
   "nbconvert_exporter": "python",
   "pygments_lexer": "ipython3",
   "version": "3.8.10"
  },
  "papermill": {
   "default_parameters": {},
   "duration": 98.446193,
   "end_time": "2021-08-26T14:35:27.651486",
   "environment_variables": {},
   "exception": null,
   "input_path": "__notebook__.ipynb",
   "output_path": "__notebook__.ipynb",
   "parameters": {},
   "start_time": "2021-08-26T14:33:49.205293",
   "version": "2.3.3"
  }
 },
 "nbformat": 4,
 "nbformat_minor": 5
}
